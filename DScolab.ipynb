{
  "nbformat": 4,
  "nbformat_minor": 0,
  "metadata": {
    "colab": {
      "provenance": [],
      "collapsed_sections": [
        "UZd5p8V3bfow"
      ],
      "include_colab_link": true
    },
    "kernelspec": {
      "name": "python3",
      "display_name": "Python 3"
    },
    "language_info": {
      "name": "python"
    }
  },
  "cells": [
    {
      "cell_type": "markdown",
      "metadata": {
        "id": "view-in-github",
        "colab_type": "text"
      },
      "source": [
        "<a href=\"https://colab.research.google.com/github/ShaliniR8/lahman-mlb/blob/main/DScolab.ipynb\" target=\"_parent\"><img src=\"https://colab.research.google.com/assets/colab-badge.svg\" alt=\"Open In Colab\"/></a>"
      ]
    },
    {
      "cell_type": "code",
      "source": [
        "import os\n",
        "import pandas as pd\n",
        "import numpy as np\n",
        "import matplotlib.pyplot as plt\n"
      ],
      "metadata": {
        "id": "eEgoMaqHkaDN"
      },
      "execution_count": null,
      "outputs": []
    },
    {
      "cell_type": "code",
      "source": [
        "from sklearn import preprocessing\n",
        "from sklearn import compose\n",
        "from sklearn import decomposition\n",
        "from sklearn import model_selection\n",
        "from sklearn.utils import compute_class_weight\n",
        "from sklearn import linear_model\n",
        "from sklearn import ensemble\n",
        "from sklearn import metrics"
      ],
      "metadata": {
        "id": "I0j9vbSXEcdm"
      },
      "execution_count": null,
      "outputs": []
    },
    {
      "cell_type": "code",
      "execution_count": null,
      "metadata": {
        "id": "wRNXYsrbJOBx"
      },
      "outputs": [],
      "source": [
        "#@title Load Dataset\n",
        "\n",
        "%%capture\n",
        "# ---- filtered (only from 1910) \n",
        "# !wget https://github.com/ShaliniR8/lahman-mlb/raw/main/baseballdatabase.zip\n",
        "# !unzip /content/baseballdatabase.zip -d \"/content/\"\n",
        "\n",
        "\n",
        "#---- full\n",
        "!wget https://github.com/ShaliniR8/lahman-mlb/raw/main/baseballdatabank_2022.zip\n",
        "!unzip /content/baseballdatabank_2022.zip -d \"/content/\""
      ]
    },
    {
      "cell_type": "code",
      "source": [
        "path = \"/content/baseballdatabank-2022.2/core/\""
      ],
      "metadata": {
        "id": "w6XpL9Zlor8B"
      },
      "execution_count": null,
      "outputs": []
    },
    {
      "cell_type": "code",
      "source": [
        "batting = pd.read_csv(path + \"Batting.csv\")\n",
        "# battingPost = pd.read_csv(\"/content/baseballdatabank/core/BattingPost.csv\")\n",
        "people = pd.read_csv(path + \"People.csv\")\n",
        "teams = pd.read_csv(path + \"Teams.csv\")"
      ],
      "metadata": {
        "id": "_nHq-fASkI8y"
      },
      "execution_count": null,
      "outputs": []
    },
    {
      "cell_type": "markdown",
      "source": [
        "## Cleaning"
      ],
      "metadata": {
        "id": "mD5tPku6EWrC"
      }
    },
    {
      "cell_type": "code",
      "source": [
        "bcols = batting.columns\n",
        "pcols = people.columns\n",
        "tcols = teams.columns\n",
        "print(\"Shapes : \", batting.shape, people.shape, teams.shape)\n",
        "print(\"\\nBatting Columns: \", batting.columns)\n",
        "print(\"\\nPeople Columns: \", people.columns)\n",
        "print(\"\\nTeams Columns: \", teams.columns)"
      ],
      "metadata": {
        "colab": {
          "base_uri": "https://localhost:8080/"
        },
        "id": "Qs_cijsY0NJr",
        "outputId": "aa5a81ad-e0b5-4d96-ad17-f4a1b0e0af03"
      },
      "execution_count": null,
      "outputs": [
        {
          "output_type": "stream",
          "name": "stdout",
          "text": [
            "Shapes :  (110495, 22) (20370, 24) (2985, 48)\n",
            "\n",
            "Batting Columns:  Index(['playerID', 'yearID', 'stint', 'teamID', 'lgID', 'G', 'AB', 'R', 'H',\n",
            "       '2B', '3B', 'HR', 'RBI', 'SB', 'CS', 'BB', 'SO', 'IBB', 'HBP', 'SH',\n",
            "       'SF', 'GIDP'],\n",
            "      dtype='object')\n",
            "\n",
            "People Columns:  Index(['playerID', 'birthYear', 'birthMonth', 'birthDay', 'birthCountry',\n",
            "       'birthState', 'birthCity', 'deathYear', 'deathMonth', 'deathDay',\n",
            "       'deathCountry', 'deathState', 'deathCity', 'nameFirst', 'nameLast',\n",
            "       'nameGiven', 'weight', 'height', 'bats', 'throws', 'debut', 'finalGame',\n",
            "       'retroID', 'bbrefID'],\n",
            "      dtype='object')\n",
            "\n",
            "Teams Columns:  Index(['yearID', 'lgID', 'teamID', 'franchID', 'divID', 'Rank', 'G', 'Ghome',\n",
            "       'W', 'L', 'DivWin', 'WCWin', 'LgWin', 'WSWin', 'R', 'AB', 'H', '2B',\n",
            "       '3B', 'HR', 'BB', 'SO', 'SB', 'CS', 'HBP', 'SF', 'RA', 'ER', 'ERA',\n",
            "       'CG', 'SHO', 'SV', 'IPouts', 'HA', 'HRA', 'BBA', 'SOA', 'E', 'DP', 'FP',\n",
            "       'name', 'park', 'attendance', 'BPF', 'PPF', 'teamIDBR',\n",
            "       'teamIDlahman45', 'teamIDretro'],\n",
            "      dtype='object')\n"
          ]
        }
      ]
    },
    {
      "cell_type": "markdown",
      "source": [
        "![wswins.jpg](data:image/jpeg;base64,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)"
      ],
      "metadata": {
        "id": "7IqxVzmOBK9e"
      }
    },
    {
      "cell_type": "code",
      "source": [
        "# merging required columns to batting table \n",
        "\n",
        "df = pd.merge(\n",
        "    teams[[\"yearID\", 'teamID', 'WSWin']], batting, on=[\"teamID\", \"yearID\"], how=\"inner\"\n",
        ")\n",
        "\n",
        "df = df.drop(columns = [col for col in df.columns if '_x' in col])\n",
        "rename = {}\n",
        "for col in df.columns: \n",
        "  if '_y' in col: rename[col] = col[:-2]\n",
        "df = df.rename(columns= rename)\n",
        "\n",
        "\n",
        "df = pd.merge(\n",
        "    people[[\"playerID\", \"birthYear\"]].reset_index(), df.reset_index(), on=[\"playerID\"], how=\"inner\"\n",
        ")\n",
        "\n",
        "df = df.drop(columns = [col for col in df.columns if '_x' in col])\n",
        "rename = {}\n",
        "for col in df.columns: \n",
        "  if '_y' in col: rename[col] = col[:-2]\n",
        "df = df.rename(columns= rename)\n",
        "\n",
        "df = df.drop(columns=['playerID']) #will work with aggregates instead\n",
        "\n",
        "print(\"Total Dataframe columns: \", df.columns)\n",
        "print(\"length :\", len(df))\n"
      ],
      "metadata": {
        "colab": {
          "base_uri": "https://localhost:8080/"
        },
        "id": "8BUD5ADP3n9_",
        "outputId": "28925af8-1fdb-4e8e-9af0-e81c0faeb110"
      },
      "execution_count": null,
      "outputs": [
        {
          "output_type": "stream",
          "name": "stdout",
          "text": [
            "Total Dataframe columns:  Index(['birthYear', 'index', 'yearID', 'teamID', 'WSWin', 'stint', 'lgID', 'G',\n",
            "       'AB', 'R', 'H', '2B', '3B', 'HR', 'RBI', 'SB', 'CS', 'BB', 'SO', 'IBB',\n",
            "       'HBP', 'SH', 'SF', 'GIDP'],\n",
            "      dtype='object')\n",
            "length : 98409\n"
          ]
        }
      ]
    },
    {
      "cell_type": "code",
      "source": [
        "# remove unnecessary columns\n",
        "\n",
        "df = df.drop(columns = ['index', 'lgID'])"
      ],
      "metadata": {
        "id": "XVdD4gTzz0gf"
      },
      "execution_count": null,
      "outputs": []
    },
    {
      "cell_type": "code",
      "source": [
        "def missing(df): return [(col, f'{int(df[[col]].isna().sum()*100/ len(df))}%') for col in df.columns if int(df[[col]].isna().sum()*100/ len(df))>0]\n",
        "print(\"Column with missing value percentage > 0 : \\n\", missing(df))"
      ],
      "metadata": {
        "colab": {
          "base_uri": "https://localhost:8080/"
        },
        "id": "UAQFFbbEnVZy",
        "outputId": "a0bd069c-abdc-448b-dc7e-5f45b083133c"
      },
      "execution_count": null,
      "outputs": [
        {
          "output_type": "stream",
          "name": "stdout",
          "text": [
            "Column with missing value percentage > 0 : \n",
            " [('WSWin', '1%'), ('CS', '12%'), ('IBB', '24%'), ('SF', '24%'), ('GIDP', '14%')]\n"
          ]
        }
      ]
    },
    {
      "cell_type": "code",
      "source": [
        "# WSWin is not numeric type, so we'll handle it separately\n",
        "df[['WSWin']].describe()"
      ],
      "metadata": {
        "colab": {
          "base_uri": "https://localhost:8080/",
          "height": 175
        },
        "id": "LHT10eC7L9A2",
        "outputId": "77589ba9-c97d-4c4c-b234-0e9620c2fe81"
      },
      "execution_count": null,
      "outputs": [
        {
          "output_type": "execute_result",
          "data": {
            "text/plain": [
              "        WSWin\n",
              "count   96907\n",
              "unique      2\n",
              "top         N\n",
              "freq    92891"
            ],
            "text/html": [
              "\n",
              "  <div id=\"df-89116e39-384a-4b62-ad0c-6c2b1656c694\">\n",
              "    <div class=\"colab-df-container\">\n",
              "      <div>\n",
              "<style scoped>\n",
              "    .dataframe tbody tr th:only-of-type {\n",
              "        vertical-align: middle;\n",
              "    }\n",
              "\n",
              "    .dataframe tbody tr th {\n",
              "        vertical-align: top;\n",
              "    }\n",
              "\n",
              "    .dataframe thead th {\n",
              "        text-align: right;\n",
              "    }\n",
              "</style>\n",
              "<table border=\"1\" class=\"dataframe\">\n",
              "  <thead>\n",
              "    <tr style=\"text-align: right;\">\n",
              "      <th></th>\n",
              "      <th>WSWin</th>\n",
              "    </tr>\n",
              "  </thead>\n",
              "  <tbody>\n",
              "    <tr>\n",
              "      <th>count</th>\n",
              "      <td>96907</td>\n",
              "    </tr>\n",
              "    <tr>\n",
              "      <th>unique</th>\n",
              "      <td>2</td>\n",
              "    </tr>\n",
              "    <tr>\n",
              "      <th>top</th>\n",
              "      <td>N</td>\n",
              "    </tr>\n",
              "    <tr>\n",
              "      <th>freq</th>\n",
              "      <td>92891</td>\n",
              "    </tr>\n",
              "  </tbody>\n",
              "</table>\n",
              "</div>\n",
              "      <button class=\"colab-df-convert\" onclick=\"convertToInteractive('df-89116e39-384a-4b62-ad0c-6c2b1656c694')\"\n",
              "              title=\"Convert this dataframe to an interactive table.\"\n",
              "              style=\"display:none;\">\n",
              "        \n",
              "  <svg xmlns=\"http://www.w3.org/2000/svg\" height=\"24px\"viewBox=\"0 0 24 24\"\n",
              "       width=\"24px\">\n",
              "    <path d=\"M0 0h24v24H0V0z\" fill=\"none\"/>\n",
              "    <path d=\"M18.56 5.44l.94 2.06.94-2.06 2.06-.94-2.06-.94-.94-2.06-.94 2.06-2.06.94zm-11 1L8.5 8.5l.94-2.06 2.06-.94-2.06-.94L8.5 2.5l-.94 2.06-2.06.94zm10 10l.94 2.06.94-2.06 2.06-.94-2.06-.94-.94-2.06-.94 2.06-2.06.94z\"/><path d=\"M17.41 7.96l-1.37-1.37c-.4-.4-.92-.59-1.43-.59-.52 0-1.04.2-1.43.59L10.3 9.45l-7.72 7.72c-.78.78-.78 2.05 0 2.83L4 21.41c.39.39.9.59 1.41.59.51 0 1.02-.2 1.41-.59l7.78-7.78 2.81-2.81c.8-.78.8-2.07 0-2.86zM5.41 20L4 18.59l7.72-7.72 1.47 1.35L5.41 20z\"/>\n",
              "  </svg>\n",
              "      </button>\n",
              "      \n",
              "  <style>\n",
              "    .colab-df-container {\n",
              "      display:flex;\n",
              "      flex-wrap:wrap;\n",
              "      gap: 12px;\n",
              "    }\n",
              "\n",
              "    .colab-df-convert {\n",
              "      background-color: #E8F0FE;\n",
              "      border: none;\n",
              "      border-radius: 50%;\n",
              "      cursor: pointer;\n",
              "      display: none;\n",
              "      fill: #1967D2;\n",
              "      height: 32px;\n",
              "      padding: 0 0 0 0;\n",
              "      width: 32px;\n",
              "    }\n",
              "\n",
              "    .colab-df-convert:hover {\n",
              "      background-color: #E2EBFA;\n",
              "      box-shadow: 0px 1px 2px rgba(60, 64, 67, 0.3), 0px 1px 3px 1px rgba(60, 64, 67, 0.15);\n",
              "      fill: #174EA6;\n",
              "    }\n",
              "\n",
              "    [theme=dark] .colab-df-convert {\n",
              "      background-color: #3B4455;\n",
              "      fill: #D2E3FC;\n",
              "    }\n",
              "\n",
              "    [theme=dark] .colab-df-convert:hover {\n",
              "      background-color: #434B5C;\n",
              "      box-shadow: 0px 1px 3px 1px rgba(0, 0, 0, 0.15);\n",
              "      filter: drop-shadow(0px 1px 2px rgba(0, 0, 0, 0.3));\n",
              "      fill: #FFFFFF;\n",
              "    }\n",
              "  </style>\n",
              "\n",
              "      <script>\n",
              "        const buttonEl =\n",
              "          document.querySelector('#df-89116e39-384a-4b62-ad0c-6c2b1656c694 button.colab-df-convert');\n",
              "        buttonEl.style.display =\n",
              "          google.colab.kernel.accessAllowed ? 'block' : 'none';\n",
              "\n",
              "        async function convertToInteractive(key) {\n",
              "          const element = document.querySelector('#df-89116e39-384a-4b62-ad0c-6c2b1656c694');\n",
              "          const dataTable =\n",
              "            await google.colab.kernel.invokeFunction('convertToInteractive',\n",
              "                                                     [key], {});\n",
              "          if (!dataTable) return;\n",
              "\n",
              "          const docLinkHtml = 'Like what you see? Visit the ' +\n",
              "            '<a target=\"_blank\" href=https://colab.research.google.com/notebooks/data_table.ipynb>data table notebook</a>'\n",
              "            + ' to learn more about interactive tables.';\n",
              "          element.innerHTML = '';\n",
              "          dataTable['output_type'] = 'display_data';\n",
              "          await google.colab.output.renderOutput(dataTable, element);\n",
              "          const docLink = document.createElement('div');\n",
              "          docLink.innerHTML = docLinkHtml;\n",
              "          element.appendChild(docLink);\n",
              "        }\n",
              "      </script>\n",
              "    </div>\n",
              "  </div>\n",
              "  "
            ]
          },
          "metadata": {},
          "execution_count": 10
        }
      ]
    },
    {
      "cell_type": "code",
      "source": [
        "df_w = df.copy()\n",
        "df_w[['WSWin']] = df_w[['WSWin']].fillna(value = 'N')"
      ],
      "metadata": {
        "id": "KTzjAU4TLmln"
      },
      "execution_count": null,
      "outputs": []
    },
    {
      "cell_type": "code",
      "source": [
        "df_ = df_w.fillna(value=0).copy()\n",
        "print('fillna value = 0\\nColumn with missing values percentage > 0 = ', missing(df_))"
      ],
      "metadata": {
        "colab": {
          "base_uri": "https://localhost:8080/"
        },
        "id": "NhxLsqU8C3qh",
        "outputId": "aa6c9f08-256e-46c7-9d67-d10bcd395e15"
      },
      "execution_count": null,
      "outputs": [
        {
          "output_type": "stream",
          "name": "stdout",
          "text": [
            "fillna value = 0\n",
            "Column with missing values percentage > 0 =  []\n"
          ]
        }
      ]
    },
    {
      "cell_type": "code",
      "source": [
        "df_['yearID'] = df_['yearID'].apply(lambda x: int(str(x).split('-')[0]))\n",
        "df_['birthYear'] = df_['birthYear'].astype(int)"
      ],
      "metadata": {
        "id": "q5syFKUNqLM0"
      },
      "execution_count": null,
      "outputs": []
    },
    {
      "cell_type": "code",
      "source": [
        "# batter age\n",
        "df_a = df_.copy()\n",
        "df_a['age'] = df_['yearID'] - df_['birthYear']\n",
        "df_a = df_a.drop(columns = ['birthYear'])\n"
      ],
      "metadata": {
        "id": "2KhwaA0dF6_m"
      },
      "execution_count": null,
      "outputs": []
    },
    {
      "cell_type": "code",
      "source": [
        "df_a.head(2)"
      ],
      "metadata": {
        "colab": {
          "base_uri": "https://localhost:8080/",
          "height": 141
        },
        "id": "HlLSrTyeuA13",
        "outputId": "dd1be6dc-b51d-4409-a11f-d33e02462e8c"
      },
      "execution_count": null,
      "outputs": [
        {
          "output_type": "execute_result",
          "data": {
            "text/plain": [
              "   yearID teamID WSWin  stint   G  AB  R  H  2B  3B  ...  SB   CS  BB   SO  \\\n",
              "0    2004    SFN     N      1  11   0  0  0   0   0  ...   0  0.0   0  0.0   \n",
              "1    2006    CHN     N      1  45   2  0  0   0   0  ...   0  0.0   0  0.0   \n",
              "\n",
              "   IBB  HBP  SH   SF  GIDP  age  \n",
              "0  0.0  0.0   0  0.0   0.0   23  \n",
              "1  0.0  0.0   1  0.0   0.0   25  \n",
              "\n",
              "[2 rows x 22 columns]"
            ],
            "text/html": [
              "\n",
              "  <div id=\"df-94908e56-9a6b-448c-867f-816e2e682c83\">\n",
              "    <div class=\"colab-df-container\">\n",
              "      <div>\n",
              "<style scoped>\n",
              "    .dataframe tbody tr th:only-of-type {\n",
              "        vertical-align: middle;\n",
              "    }\n",
              "\n",
              "    .dataframe tbody tr th {\n",
              "        vertical-align: top;\n",
              "    }\n",
              "\n",
              "    .dataframe thead th {\n",
              "        text-align: right;\n",
              "    }\n",
              "</style>\n",
              "<table border=\"1\" class=\"dataframe\">\n",
              "  <thead>\n",
              "    <tr style=\"text-align: right;\">\n",
              "      <th></th>\n",
              "      <th>yearID</th>\n",
              "      <th>teamID</th>\n",
              "      <th>WSWin</th>\n",
              "      <th>stint</th>\n",
              "      <th>G</th>\n",
              "      <th>AB</th>\n",
              "      <th>R</th>\n",
              "      <th>H</th>\n",
              "      <th>2B</th>\n",
              "      <th>3B</th>\n",
              "      <th>...</th>\n",
              "      <th>SB</th>\n",
              "      <th>CS</th>\n",
              "      <th>BB</th>\n",
              "      <th>SO</th>\n",
              "      <th>IBB</th>\n",
              "      <th>HBP</th>\n",
              "      <th>SH</th>\n",
              "      <th>SF</th>\n",
              "      <th>GIDP</th>\n",
              "      <th>age</th>\n",
              "    </tr>\n",
              "  </thead>\n",
              "  <tbody>\n",
              "    <tr>\n",
              "      <th>0</th>\n",
              "      <td>2004</td>\n",
              "      <td>SFN</td>\n",
              "      <td>N</td>\n",
              "      <td>1</td>\n",
              "      <td>11</td>\n",
              "      <td>0</td>\n",
              "      <td>0</td>\n",
              "      <td>0</td>\n",
              "      <td>0</td>\n",
              "      <td>0</td>\n",
              "      <td>...</td>\n",
              "      <td>0</td>\n",
              "      <td>0.0</td>\n",
              "      <td>0</td>\n",
              "      <td>0.0</td>\n",
              "      <td>0.0</td>\n",
              "      <td>0.0</td>\n",
              "      <td>0</td>\n",
              "      <td>0.0</td>\n",
              "      <td>0.0</td>\n",
              "      <td>23</td>\n",
              "    </tr>\n",
              "    <tr>\n",
              "      <th>1</th>\n",
              "      <td>2006</td>\n",
              "      <td>CHN</td>\n",
              "      <td>N</td>\n",
              "      <td>1</td>\n",
              "      <td>45</td>\n",
              "      <td>2</td>\n",
              "      <td>0</td>\n",
              "      <td>0</td>\n",
              "      <td>0</td>\n",
              "      <td>0</td>\n",
              "      <td>...</td>\n",
              "      <td>0</td>\n",
              "      <td>0.0</td>\n",
              "      <td>0</td>\n",
              "      <td>0.0</td>\n",
              "      <td>0.0</td>\n",
              "      <td>0.0</td>\n",
              "      <td>1</td>\n",
              "      <td>0.0</td>\n",
              "      <td>0.0</td>\n",
              "      <td>25</td>\n",
              "    </tr>\n",
              "  </tbody>\n",
              "</table>\n",
              "<p>2 rows × 22 columns</p>\n",
              "</div>\n",
              "      <button class=\"colab-df-convert\" onclick=\"convertToInteractive('df-94908e56-9a6b-448c-867f-816e2e682c83')\"\n",
              "              title=\"Convert this dataframe to an interactive table.\"\n",
              "              style=\"display:none;\">\n",
              "        \n",
              "  <svg xmlns=\"http://www.w3.org/2000/svg\" height=\"24px\"viewBox=\"0 0 24 24\"\n",
              "       width=\"24px\">\n",
              "    <path d=\"M0 0h24v24H0V0z\" fill=\"none\"/>\n",
              "    <path d=\"M18.56 5.44l.94 2.06.94-2.06 2.06-.94-2.06-.94-.94-2.06-.94 2.06-2.06.94zm-11 1L8.5 8.5l.94-2.06 2.06-.94-2.06-.94L8.5 2.5l-.94 2.06-2.06.94zm10 10l.94 2.06.94-2.06 2.06-.94-2.06-.94-.94-2.06-.94 2.06-2.06.94z\"/><path d=\"M17.41 7.96l-1.37-1.37c-.4-.4-.92-.59-1.43-.59-.52 0-1.04.2-1.43.59L10.3 9.45l-7.72 7.72c-.78.78-.78 2.05 0 2.83L4 21.41c.39.39.9.59 1.41.59.51 0 1.02-.2 1.41-.59l7.78-7.78 2.81-2.81c.8-.78.8-2.07 0-2.86zM5.41 20L4 18.59l7.72-7.72 1.47 1.35L5.41 20z\"/>\n",
              "  </svg>\n",
              "      </button>\n",
              "      \n",
              "  <style>\n",
              "    .colab-df-container {\n",
              "      display:flex;\n",
              "      flex-wrap:wrap;\n",
              "      gap: 12px;\n",
              "    }\n",
              "\n",
              "    .colab-df-convert {\n",
              "      background-color: #E8F0FE;\n",
              "      border: none;\n",
              "      border-radius: 50%;\n",
              "      cursor: pointer;\n",
              "      display: none;\n",
              "      fill: #1967D2;\n",
              "      height: 32px;\n",
              "      padding: 0 0 0 0;\n",
              "      width: 32px;\n",
              "    }\n",
              "\n",
              "    .colab-df-convert:hover {\n",
              "      background-color: #E2EBFA;\n",
              "      box-shadow: 0px 1px 2px rgba(60, 64, 67, 0.3), 0px 1px 3px 1px rgba(60, 64, 67, 0.15);\n",
              "      fill: #174EA6;\n",
              "    }\n",
              "\n",
              "    [theme=dark] .colab-df-convert {\n",
              "      background-color: #3B4455;\n",
              "      fill: #D2E3FC;\n",
              "    }\n",
              "\n",
              "    [theme=dark] .colab-df-convert:hover {\n",
              "      background-color: #434B5C;\n",
              "      box-shadow: 0px 1px 3px 1px rgba(0, 0, 0, 0.15);\n",
              "      filter: drop-shadow(0px 1px 2px rgba(0, 0, 0, 0.3));\n",
              "      fill: #FFFFFF;\n",
              "    }\n",
              "  </style>\n",
              "\n",
              "      <script>\n",
              "        const buttonEl =\n",
              "          document.querySelector('#df-94908e56-9a6b-448c-867f-816e2e682c83 button.colab-df-convert');\n",
              "        buttonEl.style.display =\n",
              "          google.colab.kernel.accessAllowed ? 'block' : 'none';\n",
              "\n",
              "        async function convertToInteractive(key) {\n",
              "          const element = document.querySelector('#df-94908e56-9a6b-448c-867f-816e2e682c83');\n",
              "          const dataTable =\n",
              "            await google.colab.kernel.invokeFunction('convertToInteractive',\n",
              "                                                     [key], {});\n",
              "          if (!dataTable) return;\n",
              "\n",
              "          const docLinkHtml = 'Like what you see? Visit the ' +\n",
              "            '<a target=\"_blank\" href=https://colab.research.google.com/notebooks/data_table.ipynb>data table notebook</a>'\n",
              "            + ' to learn more about interactive tables.';\n",
              "          element.innerHTML = '';\n",
              "          dataTable['output_type'] = 'display_data';\n",
              "          await google.colab.output.renderOutput(dataTable, element);\n",
              "          const docLink = document.createElement('div');\n",
              "          docLink.innerHTML = docLinkHtml;\n",
              "          element.appendChild(docLink);\n",
              "        }\n",
              "      </script>\n",
              "    </div>\n",
              "  </div>\n",
              "  "
            ]
          },
          "metadata": {},
          "execution_count": 15
        }
      ]
    },
    {
      "cell_type": "code",
      "source": [
        "features_df=teams[['yearID', 'teamID']].copy(deep=True)"
      ],
      "metadata": {
        "id": "W3Qq5qYgkryL"
      },
      "execution_count": null,
      "outputs": []
    },
    {
      "cell_type": "code",
      "source": [],
      "metadata": {
        "id": "5s-V8n72lRR7"
      },
      "execution_count": null,
      "outputs": []
    },
    {
      "cell_type": "code",
      "source": [
        "import statistics\n",
        "\n",
        "pitch_data = pd.read_csv('/content/Pitching.csv', usecols=['yearID','teamID','ERA'])\n",
        "pitch_data['ERA'].replace('', np.nan, inplace=True)\n",
        "pitch_data.dropna(subset=['ERA'], inplace=True)\n",
        "\n",
        "med_era = {}\n",
        "\n",
        "for index, row in pitch_data.iterrows():\n",
        "\tif row['yearID'] in med_era:\n",
        "\t\tif row['teamID'] in med_era[row['yearID']]:\n",
        "\t\t\tmed_era[row['yearID']][row['teamID']]['eras'].append(float(row['ERA']))\n",
        "\t\telse:\n",
        "\t\t\tmed_era[row['yearID']][row['teamID']] = {}\n",
        "\t\t\tmed_era[row['yearID']][row['teamID']]['eras'] = [float(row['ERA'])]\n",
        "\telse:\n",
        "\t\tmed_era[row['yearID']] = { row['teamID']:{} }\n",
        "\t\tmed_era[row['yearID']][row['teamID']]['eras'] = [float(row['ERA'])]\n",
        "\n",
        "for year in med_era:\n",
        "\tfor team in med_era[year]:\n",
        "\t\tteam_med_era = statistics.median(med_era[year][team]['eras'])\n",
        "\t\tteam_index = features_df.loc[(features_df['yearID'] == year) & (features_df['teamID'] == team)].index\n",
        "\t\tfeatures_df.loc[team_index, 'medianERA'] = team_med_era"
      ],
      "metadata": {
        "id": "xvqOtZ-1lape"
      },
      "execution_count": null,
      "outputs": []
    },
    {
      "cell_type": "markdown",
      "source": [
        "## final total dataset"
      ],
      "metadata": {
        "id": "w_AsGlj-u4Yl"
      }
    },
    {
      "cell_type": "code",
      "source": [
        "df_m = df_a.copy()\n",
        "rename = {}\n",
        "for col in df_m.columns:\n",
        "  rename[col] = 'batter_' + col\n",
        "df_m = df_m.rename(columns = rename)\n",
        "print(df_m.columns)"
      ],
      "metadata": {
        "colab": {
          "base_uri": "https://localhost:8080/"
        },
        "id": "eaOpBFYavlls",
        "outputId": "a834f072-acff-4843-8939-fe8ffd45d7a4"
      },
      "execution_count": null,
      "outputs": [
        {
          "output_type": "stream",
          "name": "stdout",
          "text": [
            "Index(['batter_yearID', 'batter_teamID', 'batter_WSWin', 'batter_stint',\n",
            "       'batter_G', 'batter_AB', 'batter_R', 'batter_H', 'batter_2B',\n",
            "       'batter_3B', 'batter_HR', 'batter_RBI', 'batter_SB', 'batter_CS',\n",
            "       'batter_BB', 'batter_SO', 'batter_IBB', 'batter_HBP', 'batter_SH',\n",
            "       'batter_SF', 'batter_GIDP', 'batter_age'],\n",
            "      dtype='object')\n"
          ]
        }
      ]
    },
    {
      "cell_type": "code",
      "source": [
        "# lot of skewed data is present therefore considering median\n",
        "# do more eda to explore distribution of all the features\n",
        "\n",
        "df_f = df_m.groupby(['batter_teamID', 'batter_yearID', 'batter_WSWin']).median().reset_index()\n",
        "df_f.head()"
      ],
      "metadata": {
        "colab": {
          "base_uri": "https://localhost:8080/"
        },
        "id": "wl4oNQX2SAK7",
        "outputId": "cbe801ba-0639-4f9d-b353-d78f470929b4"
      },
      "execution_count": null,
      "outputs": [
        {
          "output_type": "execute_result",
          "data": {
            "text/plain": [
              "  batter_teamID  batter_yearID batter_WSWin  batter_stint  batter_G  \\\n",
              "0           ANA           1997            N           1.0      33.0   \n",
              "1           ANA           1998            N           1.0      39.0   \n",
              "2           ANA           1999            N           1.0      30.0   \n",
              "3           ANA           2000            N           1.0      24.0   \n",
              "4           ANA           2001            N           1.0      42.0   \n",
              "\n",
              "   batter_AB  batter_R  batter_H  batter_2B  batter_3B  ...  batter_SB  \\\n",
              "0        6.0       1.0       1.0        0.0        0.0  ...        0.0   \n",
              "1       14.0       1.0       2.0        1.0        0.0  ...        0.0   \n",
              "2       20.0       3.0       3.0        1.0        0.0  ...        0.0   \n",
              "3        3.0       0.0       1.0        0.0        0.0  ...        0.0   \n",
              "4       16.0       1.0       2.5        0.0        0.0  ...        0.0   \n",
              "\n",
              "   batter_CS  batter_BB  batter_SO  batter_IBB  batter_HBP  batter_SH  \\\n",
              "0        0.0        0.0        2.0         0.0         0.0        0.0   \n",
              "1        0.0        1.0        5.0         0.0         0.0        0.0   \n",
              "2        0.0        1.0        4.0         0.0         0.0        0.0   \n",
              "3        0.0        0.0        0.0         0.0         0.0        0.0   \n",
              "4        0.0        1.0        5.0         0.0         0.0        0.0   \n",
              "\n",
              "   batter_SF  batter_GIDP  batter_age  \n",
              "0        0.0          0.0        29.0  \n",
              "1        0.0          0.0        31.0  \n",
              "2        0.0          0.0        30.0  \n",
              "3        0.0          0.0        28.0  \n",
              "4        0.0          0.0        28.0  \n",
              "\n",
              "[5 rows x 22 columns]"
            ],
            "text/html": [
              "\n",
              "  <div id=\"df-5670d7dc-ce13-4837-b253-acadf2a5aa74\">\n",
              "    <div class=\"colab-df-container\">\n",
              "      <div>\n",
              "<style scoped>\n",
              "    .dataframe tbody tr th:only-of-type {\n",
              "        vertical-align: middle;\n",
              "    }\n",
              "\n",
              "    .dataframe tbody tr th {\n",
              "        vertical-align: top;\n",
              "    }\n",
              "\n",
              "    .dataframe thead th {\n",
              "        text-align: right;\n",
              "    }\n",
              "</style>\n",
              "<table border=\"1\" class=\"dataframe\">\n",
              "  <thead>\n",
              "    <tr style=\"text-align: right;\">\n",
              "      <th></th>\n",
              "      <th>batter_teamID</th>\n",
              "      <th>batter_yearID</th>\n",
              "      <th>batter_WSWin</th>\n",
              "      <th>batter_stint</th>\n",
              "      <th>batter_G</th>\n",
              "      <th>batter_AB</th>\n",
              "      <th>batter_R</th>\n",
              "      <th>batter_H</th>\n",
              "      <th>batter_2B</th>\n",
              "      <th>batter_3B</th>\n",
              "      <th>...</th>\n",
              "      <th>batter_SB</th>\n",
              "      <th>batter_CS</th>\n",
              "      <th>batter_BB</th>\n",
              "      <th>batter_SO</th>\n",
              "      <th>batter_IBB</th>\n",
              "      <th>batter_HBP</th>\n",
              "      <th>batter_SH</th>\n",
              "      <th>batter_SF</th>\n",
              "      <th>batter_GIDP</th>\n",
              "      <th>batter_age</th>\n",
              "    </tr>\n",
              "  </thead>\n",
              "  <tbody>\n",
              "    <tr>\n",
              "      <th>0</th>\n",
              "      <td>ANA</td>\n",
              "      <td>1997</td>\n",
              "      <td>N</td>\n",
              "      <td>1.0</td>\n",
              "      <td>33.0</td>\n",
              "      <td>6.0</td>\n",
              "      <td>1.0</td>\n",
              "      <td>1.0</td>\n",
              "      <td>0.0</td>\n",
              "      <td>0.0</td>\n",
              "      <td>...</td>\n",
              "      <td>0.0</td>\n",
              "      <td>0.0</td>\n",
              "      <td>0.0</td>\n",
              "      <td>2.0</td>\n",
              "      <td>0.0</td>\n",
              "      <td>0.0</td>\n",
              "      <td>0.0</td>\n",
              "      <td>0.0</td>\n",
              "      <td>0.0</td>\n",
              "      <td>29.0</td>\n",
              "    </tr>\n",
              "    <tr>\n",
              "      <th>1</th>\n",
              "      <td>ANA</td>\n",
              "      <td>1998</td>\n",
              "      <td>N</td>\n",
              "      <td>1.0</td>\n",
              "      <td>39.0</td>\n",
              "      <td>14.0</td>\n",
              "      <td>1.0</td>\n",
              "      <td>2.0</td>\n",
              "      <td>1.0</td>\n",
              "      <td>0.0</td>\n",
              "      <td>...</td>\n",
              "      <td>0.0</td>\n",
              "      <td>0.0</td>\n",
              "      <td>1.0</td>\n",
              "      <td>5.0</td>\n",
              "      <td>0.0</td>\n",
              "      <td>0.0</td>\n",
              "      <td>0.0</td>\n",
              "      <td>0.0</td>\n",
              "      <td>0.0</td>\n",
              "      <td>31.0</td>\n",
              "    </tr>\n",
              "    <tr>\n",
              "      <th>2</th>\n",
              "      <td>ANA</td>\n",
              "      <td>1999</td>\n",
              "      <td>N</td>\n",
              "      <td>1.0</td>\n",
              "      <td>30.0</td>\n",
              "      <td>20.0</td>\n",
              "      <td>3.0</td>\n",
              "      <td>3.0</td>\n",
              "      <td>1.0</td>\n",
              "      <td>0.0</td>\n",
              "      <td>...</td>\n",
              "      <td>0.0</td>\n",
              "      <td>0.0</td>\n",
              "      <td>1.0</td>\n",
              "      <td>4.0</td>\n",
              "      <td>0.0</td>\n",
              "      <td>0.0</td>\n",
              "      <td>0.0</td>\n",
              "      <td>0.0</td>\n",
              "      <td>0.0</td>\n",
              "      <td>30.0</td>\n",
              "    </tr>\n",
              "    <tr>\n",
              "      <th>3</th>\n",
              "      <td>ANA</td>\n",
              "      <td>2000</td>\n",
              "      <td>N</td>\n",
              "      <td>1.0</td>\n",
              "      <td>24.0</td>\n",
              "      <td>3.0</td>\n",
              "      <td>0.0</td>\n",
              "      <td>1.0</td>\n",
              "      <td>0.0</td>\n",
              "      <td>0.0</td>\n",
              "      <td>...</td>\n",
              "      <td>0.0</td>\n",
              "      <td>0.0</td>\n",
              "      <td>0.0</td>\n",
              "      <td>0.0</td>\n",
              "      <td>0.0</td>\n",
              "      <td>0.0</td>\n",
              "      <td>0.0</td>\n",
              "      <td>0.0</td>\n",
              "      <td>0.0</td>\n",
              "      <td>28.0</td>\n",
              "    </tr>\n",
              "    <tr>\n",
              "      <th>4</th>\n",
              "      <td>ANA</td>\n",
              "      <td>2001</td>\n",
              "      <td>N</td>\n",
              "      <td>1.0</td>\n",
              "      <td>42.0</td>\n",
              "      <td>16.0</td>\n",
              "      <td>1.0</td>\n",
              "      <td>2.5</td>\n",
              "      <td>0.0</td>\n",
              "      <td>0.0</td>\n",
              "      <td>...</td>\n",
              "      <td>0.0</td>\n",
              "      <td>0.0</td>\n",
              "      <td>1.0</td>\n",
              "      <td>5.0</td>\n",
              "      <td>0.0</td>\n",
              "      <td>0.0</td>\n",
              "      <td>0.0</td>\n",
              "      <td>0.0</td>\n",
              "      <td>0.0</td>\n",
              "      <td>28.0</td>\n",
              "    </tr>\n",
              "  </tbody>\n",
              "</table>\n",
              "<p>5 rows × 22 columns</p>\n",
              "</div>\n",
              "      <button class=\"colab-df-convert\" onclick=\"convertToInteractive('df-5670d7dc-ce13-4837-b253-acadf2a5aa74')\"\n",
              "              title=\"Convert this dataframe to an interactive table.\"\n",
              "              style=\"display:none;\">\n",
              "        \n",
              "  <svg xmlns=\"http://www.w3.org/2000/svg\" height=\"24px\"viewBox=\"0 0 24 24\"\n",
              "       width=\"24px\">\n",
              "    <path d=\"M0 0h24v24H0V0z\" fill=\"none\"/>\n",
              "    <path d=\"M18.56 5.44l.94 2.06.94-2.06 2.06-.94-2.06-.94-.94-2.06-.94 2.06-2.06.94zm-11 1L8.5 8.5l.94-2.06 2.06-.94-2.06-.94L8.5 2.5l-.94 2.06-2.06.94zm10 10l.94 2.06.94-2.06 2.06-.94-2.06-.94-.94-2.06-.94 2.06-2.06.94z\"/><path d=\"M17.41 7.96l-1.37-1.37c-.4-.4-.92-.59-1.43-.59-.52 0-1.04.2-1.43.59L10.3 9.45l-7.72 7.72c-.78.78-.78 2.05 0 2.83L4 21.41c.39.39.9.59 1.41.59.51 0 1.02-.2 1.41-.59l7.78-7.78 2.81-2.81c.8-.78.8-2.07 0-2.86zM5.41 20L4 18.59l7.72-7.72 1.47 1.35L5.41 20z\"/>\n",
              "  </svg>\n",
              "      </button>\n",
              "      \n",
              "  <style>\n",
              "    .colab-df-container {\n",
              "      display:flex;\n",
              "      flex-wrap:wrap;\n",
              "      gap: 12px;\n",
              "    }\n",
              "\n",
              "    .colab-df-convert {\n",
              "      background-color: #E8F0FE;\n",
              "      border: none;\n",
              "      border-radius: 50%;\n",
              "      cursor: pointer;\n",
              "      display: none;\n",
              "      fill: #1967D2;\n",
              "      height: 32px;\n",
              "      padding: 0 0 0 0;\n",
              "      width: 32px;\n",
              "    }\n",
              "\n",
              "    .colab-df-convert:hover {\n",
              "      background-color: #E2EBFA;\n",
              "      box-shadow: 0px 1px 2px rgba(60, 64, 67, 0.3), 0px 1px 3px 1px rgba(60, 64, 67, 0.15);\n",
              "      fill: #174EA6;\n",
              "    }\n",
              "\n",
              "    [theme=dark] .colab-df-convert {\n",
              "      background-color: #3B4455;\n",
              "      fill: #D2E3FC;\n",
              "    }\n",
              "\n",
              "    [theme=dark] .colab-df-convert:hover {\n",
              "      background-color: #434B5C;\n",
              "      box-shadow: 0px 1px 3px 1px rgba(0, 0, 0, 0.15);\n",
              "      filter: drop-shadow(0px 1px 2px rgba(0, 0, 0, 0.3));\n",
              "      fill: #FFFFFF;\n",
              "    }\n",
              "  </style>\n",
              "\n",
              "      <script>\n",
              "        const buttonEl =\n",
              "          document.querySelector('#df-5670d7dc-ce13-4837-b253-acadf2a5aa74 button.colab-df-convert');\n",
              "        buttonEl.style.display =\n",
              "          google.colab.kernel.accessAllowed ? 'block' : 'none';\n",
              "\n",
              "        async function convertToInteractive(key) {\n",
              "          const element = document.querySelector('#df-5670d7dc-ce13-4837-b253-acadf2a5aa74');\n",
              "          const dataTable =\n",
              "            await google.colab.kernel.invokeFunction('convertToInteractive',\n",
              "                                                     [key], {});\n",
              "          if (!dataTable) return;\n",
              "\n",
              "          const docLinkHtml = 'Like what you see? Visit the ' +\n",
              "            '<a target=\"_blank\" href=https://colab.research.google.com/notebooks/data_table.ipynb>data table notebook</a>'\n",
              "            + ' to learn more about interactive tables.';\n",
              "          element.innerHTML = '';\n",
              "          dataTable['output_type'] = 'display_data';\n",
              "          await google.colab.output.renderOutput(dataTable, element);\n",
              "          const docLink = document.createElement('div');\n",
              "          docLink.innerHTML = docLinkHtml;\n",
              "          element.appendChild(docLink);\n",
              "        }\n",
              "      </script>\n",
              "    </div>\n",
              "  </div>\n",
              "  "
            ]
          },
          "metadata": {},
          "execution_count": 18
        }
      ]
    },
    {
      "cell_type": "markdown",
      "source": [
        "## Preprocessing for all"
      ],
      "metadata": {
        "id": "SY07c6OzUkmv"
      }
    },
    {
      "cell_type": "code",
      "source": [
        "colsX = list(df_f.columns)\n",
        "colsX.remove('batter_WSWin')\n",
        "colsY = 'batter_WSWin'"
      ],
      "metadata": {
        "id": "gani_VTVO-9u"
      },
      "execution_count": null,
      "outputs": []
    },
    {
      "cell_type": "code",
      "source": [
        "# encoding \n",
        "ordinalEncoder  = preprocessing.OrdinalEncoder() # --> for teamID\n",
        "ohEncoder = preprocessing.OneHotEncoder() # --> for year\n",
        "\n",
        "columnTransf = compose.ColumnTransformer([\n",
        "    # ('ordinal', ordinalEncoder, [\"batter_teamID\"]),\n",
        "    ('onehot', ohEncoder, [\"batter_yearID\", \"batter_teamID\"])\n",
        "])\n",
        "\n",
        "labelEncoder = preprocessing.LabelEncoder() \n",
        "\n",
        "X = columnTransf.fit_transform(df_f[colsX])\n",
        "y = labelEncoder.fit_transform(df_f[colsY])"
      ],
      "metadata": {
        "id": "T2S2-KrsVgyr"
      },
      "execution_count": null,
      "outputs": []
    },
    {
      "cell_type": "code",
      "source": [
        "print(\"Shapes of feature data and target : \", X.shape, y.shape) # --> how do i get feature names?"
      ],
      "metadata": {
        "colab": {
          "base_uri": "https://localhost:8080/"
        },
        "id": "2inX9E1dXbpG",
        "outputId": "378942f7-0455-4d48-c708-27a753c36bd0"
      },
      "execution_count": null,
      "outputs": [
        {
          "output_type": "stream",
          "name": "stdout",
          "text": [
            "Shapes of feature data and target :  (2458, 166) (2458,)\n"
          ]
        }
      ]
    },
    {
      "cell_type": "code",
      "source": [
        "# dimensionality reduction \n",
        "\n",
        "tsvd = decomposition.TruncatedSVD(n_components = int(X.shape[1]*0.01)) # --> arbitrary n_components, needs work on\n",
        "X_tsvd = tsvd.fit_transform(X)\n",
        "print(X_tsvd.shape)"
      ],
      "metadata": {
        "colab": {
          "base_uri": "https://localhost:8080/"
        },
        "id": "P-11FGc2ROu9",
        "outputId": "b0e101b0-cc0c-4513-e6af-adf49a959891"
      },
      "execution_count": null,
      "outputs": [
        {
          "output_type": "stream",
          "name": "stdout",
          "text": [
            "(2458, 1)\n"
          ]
        }
      ]
    },
    {
      "cell_type": "markdown",
      "source": [
        "same scores for all number of n_components. Why??"
      ],
      "metadata": {
        "id": "GBkyyMzba60b"
      }
    },
    {
      "cell_type": "markdown",
      "source": [
        "## Train test split for all"
      ],
      "metadata": {
        "id": "9WzNVImekCoR"
      }
    },
    {
      "cell_type": "code",
      "source": [
        "X_train, X_test, y_train, y_test = model_selection.train_test_split(X, y, test_size=0.20, random_state=0)"
      ],
      "metadata": {
        "id": "F78_cTOIkJ3_"
      },
      "execution_count": null,
      "outputs": []
    },
    {
      "cell_type": "markdown",
      "source": [
        "## Model for all"
      ],
      "metadata": {
        "id": "zuQ03gCI0nKo"
      }
    },
    {
      "cell_type": "code",
      "source": [
        "clf = ensemble.AdaBoostClassifier(n_estimators=100, random_state=0)\n",
        "cv_results = model_selection.cross_val_score(clf, X_train, y_train, cv=5, scoring='f1')\n",
        "\n",
        "clf_lr = linear_model.LogisticRegression(class_weight='balanced')\n",
        "cv_results_lr = model_selection.cross_val_score(clf_lr, X_train, y_train, cv=5, scoring='f1')"
      ],
      "metadata": {
        "id": "DN8_S_W809st"
      },
      "execution_count": null,
      "outputs": []
    },
    {
      "cell_type": "code",
      "source": [
        "print(\"%0.2f accuracy with a standard deviation of %0.2f\" % (cv_results.mean(), cv_results.std())) # adaboost, cv"
      ],
      "metadata": {
        "colab": {
          "base_uri": "https://localhost:8080/"
        },
        "id": "LmTvVgFZl74_",
        "outputId": "a63c1ab2-72ee-4a85-eedc-c1f14428cf83"
      },
      "execution_count": null,
      "outputs": [
        {
          "output_type": "stream",
          "name": "stdout",
          "text": [
            "0.00 accuracy with a standard deviation of 0.00\n"
          ]
        }
      ]
    },
    {
      "cell_type": "code",
      "source": [
        "print(\"%0.2f accuracy with a standard deviation of %0.2f\" % (cv_results_lr.mean(), cv_results_lr.std())) #lr, cv"
      ],
      "metadata": {
        "colab": {
          "base_uri": "https://localhost:8080/"
        },
        "id": "YR9uCGJtv8NG",
        "outputId": "ad9d2c49-3e09-4696-88d2-d0fb6a9354e6"
      },
      "execution_count": null,
      "outputs": [
        {
          "output_type": "stream",
          "name": "stdout",
          "text": [
            "0.08 accuracy with a standard deviation of 0.03\n"
          ]
        }
      ]
    },
    {
      "cell_type": "code",
      "source": [
        "clf.fit(X_train, y_train)\n",
        "y_pred = clf.predict(X_test)\n",
        "print(metrics.classification_report(y_test, y_pred, target_names=['N', 'Y'], zero_division=0)) #adaboost, test"
      ],
      "metadata": {
        "colab": {
          "base_uri": "https://localhost:8080/"
        },
        "id": "joG1bmX0VKXg",
        "outputId": "bcf3c410-f0f5-490c-aab7-95defc7375e5"
      },
      "execution_count": null,
      "outputs": [
        {
          "output_type": "stream",
          "name": "stdout",
          "text": [
            "              precision    recall  f1-score   support\n",
            "\n",
            "           N       0.96      0.99      0.98       472\n",
            "           Y       0.00      0.00      0.00        20\n",
            "\n",
            "    accuracy                           0.95       492\n",
            "   macro avg       0.48      0.50      0.49       492\n",
            "weighted avg       0.92      0.95      0.94       492\n",
            "\n"
          ]
        }
      ]
    },
    {
      "cell_type": "code",
      "source": [
        "clf_lr.fit(X_train, y_train)\n",
        "y_pred_lr = clf_lr.predict(X_test)\n",
        "print(metrics.classification_report(y_test, y_pred_lr, target_names=['N', 'Y'], zero_division=0)) #lr, test"
      ],
      "metadata": {
        "colab": {
          "base_uri": "https://localhost:8080/"
        },
        "id": "dMAkTtlRXUvx",
        "outputId": "d5ce9aac-eddd-4934-ec66-4cc4962cc475"
      },
      "execution_count": null,
      "outputs": [
        {
          "output_type": "stream",
          "name": "stdout",
          "text": [
            "              precision    recall  f1-score   support\n",
            "\n",
            "           N       0.96      0.74      0.83       472\n",
            "           Y       0.04      0.25      0.07        20\n",
            "\n",
            "    accuracy                           0.72       492\n",
            "   macro avg       0.50      0.49      0.45       492\n",
            "weighted avg       0.92      0.72      0.80       492\n",
            "\n"
          ]
        }
      ]
    },
    {
      "cell_type": "markdown",
      "source": [
        "###Observation : Changing from ordinal to one hot encoder was the only preprocessing component that had an effect on the results. Why?\n",
        "\n",
        "ordinal -> not binary\n",
        "Should we try to use MinMax scaler on the rest of the features?"
      ],
      "metadata": {
        "id": "UZd5p8V3bfow"
      }
    },
    {
      "cell_type": "markdown",
      "source": [
        "## Same thing but for batter_age only "
      ],
      "metadata": {
        "id": "Q1XWxUBJnC9F"
      }
    },
    {
      "cell_type": "code",
      "source": [
        "colsX_age = ['batter_teamID', 'batter_age']\n",
        "\n",
        "columnTransf = compose.ColumnTransformer([('onehot', ohEncoder, ['batter_teamID'])])\n",
        "X_age = columnTransf.fit_transform(df_f)\n",
        "X_train_age, X_test_age, y_train_age, y_test_age = model_selection.train_test_split(X_age, y, test_size=0.20, random_state=0)"
      ],
      "metadata": {
        "id": "zQoWjOTbl9bx"
      },
      "execution_count": null,
      "outputs": []
    },
    {
      "cell_type": "code",
      "source": [
        "clf_age = ensemble.AdaBoostClassifier(n_estimators=100, random_state=0)\n",
        "cv_results_age = model_selection.cross_val_score(clf_age, X_train_age, y_train_age, cv=5, scoring='f1')"
      ],
      "metadata": {
        "id": "idYOlc-Hnpmg"
      },
      "execution_count": null,
      "outputs": []
    },
    {
      "cell_type": "code",
      "source": [
        "print(\"%0.2f accuracy with a standard deviation of %0.2f\" % (cv_results_age.mean(), cv_results_age.std())) #ada, cv"
      ],
      "metadata": {
        "colab": {
          "base_uri": "https://localhost:8080/"
        },
        "id": "_Yu7MXdsoClt",
        "outputId": "37d008ed-a3cf-491b-c6ca-7cb77bdb8012"
      },
      "execution_count": null,
      "outputs": [
        {
          "output_type": "stream",
          "name": "stdout",
          "text": [
            "0.00 accuracy with a standard deviation of 0.00\n"
          ]
        }
      ]
    },
    {
      "cell_type": "code",
      "source": [
        "clf_age.fit(X_train_age, y_train_age)\n",
        "y_pred_age = clf_age.predict(X_test_age)\n",
        "print(metrics.classification_report(y_test_age, y_pred_age, target_names=['N', 'Y'], zero_division=0)) # ada, test"
      ],
      "metadata": {
        "colab": {
          "base_uri": "https://localhost:8080/"
        },
        "id": "c49ACUoftrGI",
        "outputId": "d43c3092-9f39-4417-f5a6-6a40aad8138a"
      },
      "execution_count": null,
      "outputs": [
        {
          "output_type": "stream",
          "name": "stdout",
          "text": [
            "              precision    recall  f1-score   support\n",
            "\n",
            "           N       0.96      1.00      0.98       472\n",
            "           Y       0.00      0.00      0.00        20\n",
            "\n",
            "    accuracy                           0.96       492\n",
            "   macro avg       0.48      0.50      0.49       492\n",
            "weighted avg       0.92      0.96      0.94       492\n",
            "\n"
          ]
        }
      ]
    },
    {
      "cell_type": "code",
      "source": [
        "clf_age_lr = linear_model.LogisticRegression(class_weight='balanced', random_state=0)\n",
        "cv_results_age_lr = model_selection.cross_val_score(clf_age_lr, X_train_age, y_train_age, cv=5, scoring='f1')\n",
        "print(\"%0.2f accuracy with a standard deviation of %0.2f\" % (cv_results_age_lr.mean(), cv_results_age_lr.std())) #lr, cv"
      ],
      "metadata": {
        "colab": {
          "base_uri": "https://localhost:8080/"
        },
        "id": "O_PKZ9PouNjz",
        "outputId": "613011f1-bb91-4779-bb41-e8b1388cad6d"
      },
      "execution_count": null,
      "outputs": [
        {
          "output_type": "stream",
          "name": "stdout",
          "text": [
            "0.14 accuracy with a standard deviation of 0.02\n"
          ]
        }
      ]
    },
    {
      "cell_type": "code",
      "source": [
        "clf_age_lr.fit(X_train_age, y_train_age)\n",
        "y_pred_age_lr = clf_age_lr.predict(X_test_age)\n",
        "print(metrics.classification_report(y_test_age, y_pred_age_lr, target_names=['N', 'Y'], zero_division=0)) #lr, test"
      ],
      "metadata": {
        "colab": {
          "base_uri": "https://localhost:8080/"
        },
        "id": "hU56pGH3IEsd",
        "outputId": "42ffcc1b-aaa9-44e2-b5d9-fe573031246b"
      },
      "execution_count": null,
      "outputs": [
        {
          "output_type": "stream",
          "name": "stdout",
          "text": [
            "              precision    recall  f1-score   support\n",
            "\n",
            "           N       0.98      0.72      0.83       472\n",
            "           Y       0.08      0.60      0.15        20\n",
            "\n",
            "    accuracy                           0.72       492\n",
            "   macro avg       0.53      0.66      0.49       492\n",
            "weighted avg       0.94      0.72      0.80       492\n",
            "\n"
          ]
        }
      ]
    }
  ]
}