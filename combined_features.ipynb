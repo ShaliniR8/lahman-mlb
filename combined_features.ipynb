{
  "nbformat": 4,
  "nbformat_minor": 0,
  "metadata": {
    "colab": {
      "provenance": [],
      "name": "combined features.ipynb",
      "authorship_tag": "ABX9TyMbKmOrJH2JUejGrYbVnyHr",
      "include_colab_link": true
    },
    "kernelspec": {
      "name": "python3",
      "display_name": "Python 3"
    },
    "language_info": {
      "name": "python"
    },
    "gpuClass": "standard"
  },
  "cells": [
    {
      "cell_type": "markdown",
      "metadata": {
        "id": "view-in-github",
        "colab_type": "text"
      },
      "source": [
        "<a href=\"https://colab.research.google.com/github/ShaliniR8/lahman-mlb/blob/main/combined_features.ipynb\" target=\"_parent\"><img src=\"https://colab.research.google.com/assets/colab-badge.svg\" alt=\"Open In Colab\"/></a>"
      ]
    },
    {
      "cell_type": "code",
      "source": [
        "import os\n",
        "import pandas as pd\n",
        "import numpy as np\n",
        "import matplotlib.pyplot as plt"
      ],
      "metadata": {
        "id": "DoTTTZDgyXVt"
      },
      "execution_count": 1,
      "outputs": []
    },
    {
      "cell_type": "code",
      "source": [
        "from sklearn import preprocessing\n",
        "from sklearn import compose\n",
        "from sklearn import impute\n",
        "from sklearn import decomposition\n",
        "from sklearn import model_selection\n",
        "from sklearn import tree\n",
        "from sklearn.utils import compute_class_weight\n",
        "from sklearn import linear_model\n",
        "from sklearn import ensemble\n",
        "from sklearn import metrics\n",
        "from sklearn import pipeline"
      ],
      "metadata": {
        "id": "bjHZHcdq2Em0"
      },
      "execution_count": 102,
      "outputs": []
    },
    {
      "cell_type": "code",
      "execution_count": 3,
      "metadata": {
        "id": "ePTNl5aVs3j8"
      },
      "outputs": [],
      "source": [
        "%%capture\n",
        "!pip install xgboost"
      ]
    },
    {
      "cell_type": "code",
      "source": [
        "#@title Load Dataset\n",
        "\n",
        "%%capture\n",
        "# ---- filtered (only from 1910) \n",
        "# !wget https://github.com/ShaliniR8/lahman-mlb/raw/main/baseballdatabase.zip\n",
        "# !unzip /content/baseballdatabase.zip -d \"/content/\"\n",
        "\n",
        "\n",
        "#---- full\n",
        "!wget https://github.com/ShaliniR8/lahman-mlb/raw/main/baseballdatabank_2022.zip\n",
        "!unzip /content/baseballdatabank_2022.zip -d \"/content/\"\n",
        "\n",
        "path = \"/content/baseballdatabank-2022.2/core/\"\n",
        "\n"
      ],
      "metadata": {
        "id": "g2fL6mw9s64h"
      },
      "execution_count": 4,
      "outputs": []
    },
    {
      "cell_type": "code",
      "source": [
        "batting = pd.read_csv(path + \"Batting.csv\")\n",
        "pitching = pd.read_csv(path + \"Pitching.csv\")\n",
        "people = pd.read_csv(path + \"People.csv\")\n",
        "# fielding = pd.read_csv(path + \"Fielding.csv\")\n",
        "teams = pd.read_csv(path + \"Teams.csv\")"
      ],
      "metadata": {
        "id": "K5k0dtuf9TnN"
      },
      "execution_count": 63,
      "outputs": []
    },
    {
      "cell_type": "code",
      "source": [
        "y = teams['WSWin']\n",
        "batting = batting[[\"playerID\",\"yearID\",\"teamID\", \"H\", \"BB\", \"HBP\", \"AB\", \"SF\", \"2B\", \"3B\", \"HR\"]].copy()\n",
        "pitching = pitching[[\"playerID\",\"yearID\",\"teamID\", \"ERA\"]].copy()\n",
        "people = people[['playerID', 'birthYear']].copy()\n",
        "teams = teams[['teamID', 'yearID', 'W', 'L']].copy()\n",
        "all_dfs = { \n",
        "    'batting': batting,\n",
        "    'pitching': pitching,\n",
        "    'people':people,\n",
        "    # 'fielding':fielding,\n",
        "    'teams':teams\n",
        "}"
      ],
      "metadata": {
        "id": "v8XqvsdR59SM"
      },
      "execution_count": 6,
      "outputs": []
    },
    {
      "cell_type": "markdown",
      "source": [
        "## Cleaning"
      ],
      "metadata": {
        "id": "fh7Ib-e562c8"
      }
    },
    {
      "cell_type": "code",
      "source": [
        "from re import M\n",
        "def cleanX(X):\n",
        "  categorical_features = X.select_dtypes(\"object\").columns.to_list()\n",
        "  numerical_features = X.select_dtypes([\"int64\", \"float64\"]).columns.to_list()\n",
        "  knnImp = impute.KNNImputer(missing_values=np.nan)\n",
        "  simpleImp = impute.SimpleImputer(strategy = 'median', missing_values=np.nan)\n",
        "  Ximputer = compose.ColumnTransformer([\n",
        "    ('categorical', knnImp, categorical_features),\n",
        "    ('numerical', simpleImp, numerical_features)\n",
        "  ])\n",
        "  X_ = Ximputer.fit_transform(X)\n",
        "\n",
        "  return X_"
      ],
      "metadata": {
        "id": "mP8gjfgIyQIN"
      },
      "execution_count": 7,
      "outputs": []
    },
    {
      "cell_type": "code",
      "source": [
        "for name,df in all_dfs.items():\n",
        "  not_keys = list(set(df.columns.to_list()) - {'teamID', 'playerID'})\n",
        "  keys = list(set(df.columns.to_list()) - set(not_keys))\n",
        "  imputedX = pd.DataFrame(cleanX(df[not_keys]), columns = not_keys, dtype='int64')\n",
        "  all_dfs[name] = pd.concat([df[keys], imputedX], axis = 1)\n",
        "  print(name)\n",
        "  print(all_dfs[name].info())\n",
        "  \n"
      ],
      "metadata": {
        "id": "TGPoSuGp0SVl",
        "colab": {
          "base_uri": "https://localhost:8080/"
        },
        "outputId": "f4900cf5-bf96-498e-f1ee-a8a442b24469"
      },
      "execution_count": 8,
      "outputs": [
        {
          "output_type": "stream",
          "name": "stdout",
          "text": [
            "batting\n",
            "<class 'pandas.core.frame.DataFrame'>\n",
            "RangeIndex: 110495 entries, 0 to 110494\n",
            "Data columns (total 11 columns):\n",
            " #   Column    Non-Null Count   Dtype \n",
            "---  ------    --------------   ----- \n",
            " 0   playerID  110495 non-null  object\n",
            " 1   teamID    110495 non-null  object\n",
            " 2   BB        110495 non-null  int64 \n",
            " 3   HR        110495 non-null  int64 \n",
            " 4   H         110495 non-null  int64 \n",
            " 5   AB        110495 non-null  int64 \n",
            " 6   3B        110495 non-null  int64 \n",
            " 7   HBP       110495 non-null  int64 \n",
            " 8   2B        110495 non-null  int64 \n",
            " 9   yearID    110495 non-null  int64 \n",
            " 10  SF        110495 non-null  int64 \n",
            "dtypes: int64(9), object(2)\n",
            "memory usage: 9.3+ MB\n",
            "None\n",
            "pitching\n",
            "<class 'pandas.core.frame.DataFrame'>\n",
            "RangeIndex: 49430 entries, 0 to 49429\n",
            "Data columns (total 4 columns):\n",
            " #   Column    Non-Null Count  Dtype \n",
            "---  ------    --------------  ----- \n",
            " 0   playerID  49430 non-null  object\n",
            " 1   teamID    49430 non-null  object\n",
            " 2   yearID    49430 non-null  int64 \n",
            " 3   ERA       49430 non-null  int64 \n",
            "dtypes: int64(2), object(2)\n",
            "memory usage: 1.5+ MB\n",
            "None\n",
            "people\n",
            "<class 'pandas.core.frame.DataFrame'>\n",
            "RangeIndex: 20370 entries, 0 to 20369\n",
            "Data columns (total 2 columns):\n",
            " #   Column     Non-Null Count  Dtype \n",
            "---  ------     --------------  ----- \n",
            " 0   playerID   20370 non-null  object\n",
            " 1   birthYear  20370 non-null  int64 \n",
            "dtypes: int64(1), object(1)\n",
            "memory usage: 318.4+ KB\n",
            "None\n",
            "teams\n",
            "<class 'pandas.core.frame.DataFrame'>\n",
            "RangeIndex: 2985 entries, 0 to 2984\n",
            "Data columns (total 4 columns):\n",
            " #   Column  Non-Null Count  Dtype \n",
            "---  ------  --------------  ----- \n",
            " 0   teamID  2985 non-null   object\n",
            " 1   yearID  2985 non-null   int64 \n",
            " 2   L       2985 non-null   int64 \n",
            " 3   W       2985 non-null   int64 \n",
            "dtypes: int64(3), object(1)\n",
            "memory usage: 93.4+ KB\n",
            "None\n"
          ]
        },
        {
          "output_type": "stream",
          "name": "stderr",
          "text": [
            "/usr/local/lib/python3.7/dist-packages/ipykernel_launcher.py:4: FutureWarning: In a future version, passing float-dtype values and an integer dtype to DataFrame will retain floating dtype if they cannot be cast losslessly (matching Series behavior). To retain the old behavior, use DataFrame(data).astype(dtype)\n",
            "  after removing the cwd from sys.path.\n"
          ]
        }
      ]
    },
    {
      "cell_type": "markdown",
      "source": [
        "## Constructing Features\n",
        "\n",
        "No need to run this after the feature is already constructed "
      ],
      "metadata": {
        "id": "jAWaH5maRzTJ"
      }
    },
    {
      "cell_type": "code",
      "source": [
        "def win_perc(team, year):\n",
        "    team_year = teams[(teams['yearID'] == year) & (teams['teamID'] == team)]\n",
        "    if team_year.empty:\n",
        "        return np.nan\n",
        "    team_year = team_year.iloc[0]\n",
        "    w = team_year['W']\n",
        "    l = team_year['L']\n",
        "    return w / (w + l)\n",
        "\n",
        "\n",
        "def get_rolling_win_perc (row):\n",
        "    year = row['yearID']\n",
        "    team = row['teamID']\n",
        "    year1 = win_perc(team, year - 1)\n",
        "    year2 = win_perc(team, year - 2)\n",
        "    year3 = win_perc(team, year - 3)\n",
        "    year4 = win_perc(team, year - 4)\n",
        "    year5 = win_perc(team, year - 5)\n",
        "    if (year1 == np.nan or year2 == np.nan or year3 == np.nan or year3 == np.nan or year4 == np.nan or year5 == np.nan):\n",
        "      if (year1 == np.nan or year2 == np.nan or year3 ==np.nan):\n",
        "        if year1 == np.nan: \n",
        "          return (year, team, np.nan, np.nan, np.nan)\n",
        "        else:\n",
        "          return (year, team, year1, np.nan, np.nan)\n",
        "      else:\n",
        "        return (year, team, year1, (year1 + year2 + year3)/3, np.nan )\n",
        "    else: \n",
        "        return (year, team, year1, (year1 + year2 + year3)/3, (year1 + year2 + year3 + year4 + year5)/5)\n"
      ],
      "metadata": {
        "id": "5rFfyDpq4u_I"
      },
      "execution_count": null,
      "outputs": []
    },
    {
      "cell_type": "code",
      "source": [
        "\n",
        "def get_age(row):\n",
        "  playerID = row['playerID']\n",
        "  yearID = row['yearID']\n",
        "  birthYear = people[people['playerID'] == playerID]['birthYear']\n",
        "  birthYear = birthYear.iloc[0]\n",
        "  age = yearID - birthYear\n",
        "  row['age'] = age\n",
        "  return row"
      ],
      "metadata": {
        "id": "VtDNJQb_Dllj"
      },
      "execution_count": null,
      "outputs": []
    },
    {
      "cell_type": "code",
      "source": [
        "def ops_calc(row):\n",
        "  #calc done on rows of batting table\n",
        "  if row['AB'] == 0:\n",
        "      return np.nan\n",
        "  HBP = row[\"HBP\"]\n",
        "  SF = row[\"SF\"]\n",
        "  singles = row[\"H\"] - row[\"2B\"] - row[\"3B\"] - row[\"HR\"]\n",
        "  obp = (row[\"H\"] + row[\"BB\"] + HBP) / (row[\"AB\"] + row[\"BB\"] + SF + HBP)\n",
        "  slug = (singles + (2 * row[\"2B\"]) + (3 * row[\"3B\"]) + (4 * row[\"HR\"])) / row[\"AB\"]\n",
        " \n",
        "  return slug + obp \n",
        "\n",
        "def get_ops(row):\n",
        "  year = row['yearID'] - 1\n",
        "  team = row['teamID']\n",
        "  player = row[\"playerID\"]\n",
        "  row['ops'] = np.nan\n",
        "  filtered_df = batting[(batting['yearID'] == year) & (batting['teamID'] == team) & (batting['playerID'] == player)]\n",
        "  if filtered_df.empty:\n",
        "      return row\n",
        "  filtered_df = filtered_df.iloc[0]\n",
        "  row['ops'] = ops_calc(filtered_df)\n",
        "  return row"
      ],
      "metadata": {
        "id": "4HASY-XJTael"
      },
      "execution_count": null,
      "outputs": []
    },
    {
      "cell_type": "code",
      "source": [
        "teams = all_dfs['teams']\n",
        "pitching = all_dfs['pitching']\n",
        "people = all_dfs['people']\n",
        "batting = all_dfs['batting']"
      ],
      "metadata": {
        "id": "gD3XTbG1yoYK"
      },
      "execution_count": null,
      "outputs": []
    },
    {
      "cell_type": "code",
      "source": [
        "# teams winning perc\n",
        "p = teams.apply(lambda x: get_rolling_win_perc(x), axis = 1).copy()\n",
        "t_features = pd.DataFrame(list(p), columns = ['yearID', 'teamID', 'prev_year_win_perc', 'rolling_3_win_perc', 'rolling_5_win_perc'])"
      ],
      "metadata": {
        "id": "ZXGH2UTh0dZt"
      },
      "execution_count": null,
      "outputs": []
    },
    {
      "cell_type": "code",
      "source": [
        "#pitcher ages\n",
        "ages = pitching.apply(lambda x: get_age(x), axis = 1).copy()"
      ],
      "metadata": {
        "id": "oPQewMuoCCqU"
      },
      "execution_count": null,
      "outputs": []
    },
    {
      "cell_type": "code",
      "source": [
        "#median era and mean pitching age\n",
        "p_features = ages.groupby(['teamID', 'yearID']).agg({'ERA':'median', \n",
        "                                                            'age':'mean'}).reset_index()\n",
        "p_features = p_features.rename(columns = {\"ERA\": \"medianERA\", 'age': 'pitcherAverageAge'})"
      ],
      "metadata": {
        "id": "6Ptd-O4cuC9M"
      },
      "execution_count": null,
      "outputs": []
    },
    {
      "cell_type": "code",
      "source": [
        "#batter ages\n",
        "ages = batting.apply(lambda x: get_age(x), axis = 1).copy()"
      ],
      "metadata": {
        "id": "Rv3O583-Dt1b"
      },
      "execution_count": null,
      "outputs": []
    },
    {
      "cell_type": "code",
      "source": [
        "ops = ages.apply(lambda x: get_ops(x), axis=1).copy()"
      ],
      "metadata": {
        "id": "WtAiaD1ypQLE"
      },
      "execution_count": null,
      "outputs": []
    },
    {
      "cell_type": "code",
      "source": [
        "#median ops and average age\n",
        "\n",
        "b_features = ops.groupby(['teamID', 'yearID']).agg({'age':'mean', \n",
        "                                                            'ops':'median'}).reset_index()\n",
        "b_features = b_features.rename(columns = {\"age\": \"batterAverageAge\", \"ops\": \"medianOPS\"})\n",
        "\n"
      ],
      "metadata": {
        "id": "1SS-0Lgyg2aD"
      },
      "execution_count": null,
      "outputs": []
    },
    {
      "cell_type": "markdown",
      "source": [
        "## Load constructed features "
      ],
      "metadata": {
        "id": "pYwFen1i2wAR"
      }
    },
    {
      "cell_type": "code",
      "source": [
        "%%capture\n",
        "!wget https://github.com/ShaliniR8/lahman-mlb/raw/main/b_features.csv \n",
        "!wget https://github.com/ShaliniR8/lahman-mlb/raw/main/p_features.csv \n",
        "!wget https://github.com/ShaliniR8/lahman-mlb/raw/main/t_features.csv "
      ],
      "metadata": {
        "id": "rrvilcHH2ugC"
      },
      "execution_count": 11,
      "outputs": []
    },
    {
      "cell_type": "code",
      "source": [
        "b_features = pd.read_csv('/content/b_features.csv').drop(columns = ['Unnamed: 0'])\n",
        "p_features = pd.read_csv('/content/p_features.csv').drop(columns = ['Unnamed: 0'])\n",
        "t_features = pd.read_csv('/content/t_features.csv').drop(columns = ['Unnamed: 0'])"
      ],
      "metadata": {
        "id": "hMMX6ylF3-KI"
      },
      "execution_count": 51,
      "outputs": []
    },
    {
      "cell_type": "code",
      "source": [
        "cols_to_merge_on = list(set(t_features.columns).intersection(set(p_features.columns)))\n",
        "print(cols_to_merge_on)\n",
        "temp1 = pd.merge(t_features, p_features, how='inner', left_on = cols_to_merge_on, right_on = cols_to_merge_on)"
      ],
      "metadata": {
        "id": "aa4cvOLO4lD6",
        "colab": {
          "base_uri": "https://localhost:8080/"
        },
        "outputId": "b47a9af6-f778-40e4-9c48-e28fcde40d4e"
      },
      "execution_count": 52,
      "outputs": [
        {
          "output_type": "stream",
          "name": "stdout",
          "text": [
            "['yearID', 'teamID']\n"
          ]
        }
      ]
    },
    {
      "cell_type": "code",
      "source": [
        "cols_to_merge_on = list(set(b_features.columns).intersection(set(temp1.columns)))\n",
        "features = pd.merge(temp1, b_features, how='inner', left_on=cols_to_merge_on, right_on=cols_to_merge_on)"
      ],
      "metadata": {
        "id": "UJETKYCY70FL"
      },
      "execution_count": 70,
      "outputs": []
    },
    {
      "cell_type": "markdown",
      "source": [
        "## preprocess"
      ],
      "metadata": {
        "id": "M3k9hWYFYKn-"
      }
    },
    {
      "cell_type": "code",
      "source": [
        "ohe = preprocessing.OneHotEncoder()\n",
        "teamID = features[['teamID']]\n",
        "teamID_ohe = ohe.fit_transform(teamID)"
      ],
      "metadata": {
        "colab": {
          "base_uri": "https://localhost:8080/"
        },
        "id": "kvn5YYbNXGo7",
        "outputId": "26f7f53c-362e-4520-fcf3-60c36c7250bd"
      },
      "execution_count": 72,
      "outputs": [
        {
          "output_type": "execute_result",
          "data": {
            "text/plain": [
              "<2985x149 sparse matrix of type '<class 'numpy.float64'>'\n",
              "\twith 2985 stored elements in Compressed Sparse Row format>"
            ]
          },
          "metadata": {},
          "execution_count": 72
        }
      ]
    },
    {
      "cell_type": "code",
      "source": [
        "teamID_df = pd.DataFrame(teamID_ohe.toarray(), columns= list(ohe.get_feature_names_out()), dtype = 'int64')"
      ],
      "metadata": {
        "id": "iNsmd0e6ZJJS"
      },
      "execution_count": 81,
      "outputs": []
    },
    {
      "cell_type": "code",
      "source": [
        "features = features.drop(columns = ['teamID'])\n",
        "X = pd.concat([teamID_df, features], axis = 1)"
      ],
      "metadata": {
        "id": "jJJWMsBGZBgx"
      },
      "execution_count": 83,
      "outputs": []
    },
    {
      "cell_type": "code",
      "source": [
        "le = preprocessing.LabelEncoder()\n",
        "y = le.fit_transform(y)"
      ],
      "metadata": {
        "id": "_IOBn_A2a4d2"
      },
      "execution_count": 86,
      "outputs": []
    },
    {
      "cell_type": "code",
      "source": [
        "X.head()"
      ],
      "metadata": {
        "colab": {
          "base_uri": "https://localhost:8080/",
          "height": 299
        },
        "id": "HZfMsQ1kalVc",
        "outputId": "5f7576ab-3dfb-44f3-d737-ab567baa9aec"
      },
      "execution_count": 84,
      "outputs": [
        {
          "output_type": "execute_result",
          "data": {
            "text/plain": [
              "   teamID_ALT  teamID_ANA  teamID_ARI  teamID_ATL  teamID_BAL  teamID_BFN  \\\n",
              "0           0           0           0           0           0           0   \n",
              "1           0           0           0           0           0           0   \n",
              "2           0           0           0           0           0           0   \n",
              "3           0           0           0           0           0           0   \n",
              "4           0           0           0           0           0           0   \n",
              "\n",
              "   teamID_BFP  teamID_BL1  teamID_BL2  teamID_BL3  ...  teamID_WS9  \\\n",
              "0           0           0           0           0  ...           0   \n",
              "1           0           0           0           0  ...           0   \n",
              "2           0           0           0           0  ...           0   \n",
              "3           0           0           0           0  ...           0   \n",
              "4           0           0           0           0  ...           0   \n",
              "\n",
              "   teamID_WSU  yearID  prev_year_win_perc  rolling_3_win_perc  \\\n",
              "0           0    1871                 NaN                 NaN   \n",
              "1           0    1871                 NaN                 NaN   \n",
              "2           0    1871                 NaN                 NaN   \n",
              "3           0    1871                 NaN                 NaN   \n",
              "4           0    1871                 NaN                 NaN   \n",
              "\n",
              "   rolling_5_win_perc  medianERA  pitcherAverageAge  batterAverageAge  \\\n",
              "0                 NaN        4.5          28.500000         25.272727   \n",
              "1                 NaN        2.5          26.000000         24.727273   \n",
              "2                 NaN        4.5          24.500000         22.076923   \n",
              "3                 NaN        5.0          20.000000          7.388889   \n",
              "4                 NaN       10.0          25.333333         26.363636   \n",
              "\n",
              "   medianOPS  \n",
              "0        NaN  \n",
              "1        NaN  \n",
              "2        NaN  \n",
              "3        NaN  \n",
              "4        NaN  \n",
              "\n",
              "[5 rows x 157 columns]"
            ],
            "text/html": [
              "\n",
              "  <div id=\"df-b085f606-d832-4656-a58f-2f80196125a3\">\n",
              "    <div class=\"colab-df-container\">\n",
              "      <div>\n",
              "<style scoped>\n",
              "    .dataframe tbody tr th:only-of-type {\n",
              "        vertical-align: middle;\n",
              "    }\n",
              "\n",
              "    .dataframe tbody tr th {\n",
              "        vertical-align: top;\n",
              "    }\n",
              "\n",
              "    .dataframe thead th {\n",
              "        text-align: right;\n",
              "    }\n",
              "</style>\n",
              "<table border=\"1\" class=\"dataframe\">\n",
              "  <thead>\n",
              "    <tr style=\"text-align: right;\">\n",
              "      <th></th>\n",
              "      <th>teamID_ALT</th>\n",
              "      <th>teamID_ANA</th>\n",
              "      <th>teamID_ARI</th>\n",
              "      <th>teamID_ATL</th>\n",
              "      <th>teamID_BAL</th>\n",
              "      <th>teamID_BFN</th>\n",
              "      <th>teamID_BFP</th>\n",
              "      <th>teamID_BL1</th>\n",
              "      <th>teamID_BL2</th>\n",
              "      <th>teamID_BL3</th>\n",
              "      <th>...</th>\n",
              "      <th>teamID_WS9</th>\n",
              "      <th>teamID_WSU</th>\n",
              "      <th>yearID</th>\n",
              "      <th>prev_year_win_perc</th>\n",
              "      <th>rolling_3_win_perc</th>\n",
              "      <th>rolling_5_win_perc</th>\n",
              "      <th>medianERA</th>\n",
              "      <th>pitcherAverageAge</th>\n",
              "      <th>batterAverageAge</th>\n",
              "      <th>medianOPS</th>\n",
              "    </tr>\n",
              "  </thead>\n",
              "  <tbody>\n",
              "    <tr>\n",
              "      <th>0</th>\n",
              "      <td>0</td>\n",
              "      <td>0</td>\n",
              "      <td>0</td>\n",
              "      <td>0</td>\n",
              "      <td>0</td>\n",
              "      <td>0</td>\n",
              "      <td>0</td>\n",
              "      <td>0</td>\n",
              "      <td>0</td>\n",
              "      <td>0</td>\n",
              "      <td>...</td>\n",
              "      <td>0</td>\n",
              "      <td>0</td>\n",
              "      <td>1871</td>\n",
              "      <td>NaN</td>\n",
              "      <td>NaN</td>\n",
              "      <td>NaN</td>\n",
              "      <td>4.5</td>\n",
              "      <td>28.500000</td>\n",
              "      <td>25.272727</td>\n",
              "      <td>NaN</td>\n",
              "    </tr>\n",
              "    <tr>\n",
              "      <th>1</th>\n",
              "      <td>0</td>\n",
              "      <td>0</td>\n",
              "      <td>0</td>\n",
              "      <td>0</td>\n",
              "      <td>0</td>\n",
              "      <td>0</td>\n",
              "      <td>0</td>\n",
              "      <td>0</td>\n",
              "      <td>0</td>\n",
              "      <td>0</td>\n",
              "      <td>...</td>\n",
              "      <td>0</td>\n",
              "      <td>0</td>\n",
              "      <td>1871</td>\n",
              "      <td>NaN</td>\n",
              "      <td>NaN</td>\n",
              "      <td>NaN</td>\n",
              "      <td>2.5</td>\n",
              "      <td>26.000000</td>\n",
              "      <td>24.727273</td>\n",
              "      <td>NaN</td>\n",
              "    </tr>\n",
              "    <tr>\n",
              "      <th>2</th>\n",
              "      <td>0</td>\n",
              "      <td>0</td>\n",
              "      <td>0</td>\n",
              "      <td>0</td>\n",
              "      <td>0</td>\n",
              "      <td>0</td>\n",
              "      <td>0</td>\n",
              "      <td>0</td>\n",
              "      <td>0</td>\n",
              "      <td>0</td>\n",
              "      <td>...</td>\n",
              "      <td>0</td>\n",
              "      <td>0</td>\n",
              "      <td>1871</td>\n",
              "      <td>NaN</td>\n",
              "      <td>NaN</td>\n",
              "      <td>NaN</td>\n",
              "      <td>4.5</td>\n",
              "      <td>24.500000</td>\n",
              "      <td>22.076923</td>\n",
              "      <td>NaN</td>\n",
              "    </tr>\n",
              "    <tr>\n",
              "      <th>3</th>\n",
              "      <td>0</td>\n",
              "      <td>0</td>\n",
              "      <td>0</td>\n",
              "      <td>0</td>\n",
              "      <td>0</td>\n",
              "      <td>0</td>\n",
              "      <td>0</td>\n",
              "      <td>0</td>\n",
              "      <td>0</td>\n",
              "      <td>0</td>\n",
              "      <td>...</td>\n",
              "      <td>0</td>\n",
              "      <td>0</td>\n",
              "      <td>1871</td>\n",
              "      <td>NaN</td>\n",
              "      <td>NaN</td>\n",
              "      <td>NaN</td>\n",
              "      <td>5.0</td>\n",
              "      <td>20.000000</td>\n",
              "      <td>7.388889</td>\n",
              "      <td>NaN</td>\n",
              "    </tr>\n",
              "    <tr>\n",
              "      <th>4</th>\n",
              "      <td>0</td>\n",
              "      <td>0</td>\n",
              "      <td>0</td>\n",
              "      <td>0</td>\n",
              "      <td>0</td>\n",
              "      <td>0</td>\n",
              "      <td>0</td>\n",
              "      <td>0</td>\n",
              "      <td>0</td>\n",
              "      <td>0</td>\n",
              "      <td>...</td>\n",
              "      <td>0</td>\n",
              "      <td>0</td>\n",
              "      <td>1871</td>\n",
              "      <td>NaN</td>\n",
              "      <td>NaN</td>\n",
              "      <td>NaN</td>\n",
              "      <td>10.0</td>\n",
              "      <td>25.333333</td>\n",
              "      <td>26.363636</td>\n",
              "      <td>NaN</td>\n",
              "    </tr>\n",
              "  </tbody>\n",
              "</table>\n",
              "<p>5 rows × 157 columns</p>\n",
              "</div>\n",
              "      <button class=\"colab-df-convert\" onclick=\"convertToInteractive('df-b085f606-d832-4656-a58f-2f80196125a3')\"\n",
              "              title=\"Convert this dataframe to an interactive table.\"\n",
              "              style=\"display:none;\">\n",
              "        \n",
              "  <svg xmlns=\"http://www.w3.org/2000/svg\" height=\"24px\"viewBox=\"0 0 24 24\"\n",
              "       width=\"24px\">\n",
              "    <path d=\"M0 0h24v24H0V0z\" fill=\"none\"/>\n",
              "    <path d=\"M18.56 5.44l.94 2.06.94-2.06 2.06-.94-2.06-.94-.94-2.06-.94 2.06-2.06.94zm-11 1L8.5 8.5l.94-2.06 2.06-.94-2.06-.94L8.5 2.5l-.94 2.06-2.06.94zm10 10l.94 2.06.94-2.06 2.06-.94-2.06-.94-.94-2.06-.94 2.06-2.06.94z\"/><path d=\"M17.41 7.96l-1.37-1.37c-.4-.4-.92-.59-1.43-.59-.52 0-1.04.2-1.43.59L10.3 9.45l-7.72 7.72c-.78.78-.78 2.05 0 2.83L4 21.41c.39.39.9.59 1.41.59.51 0 1.02-.2 1.41-.59l7.78-7.78 2.81-2.81c.8-.78.8-2.07 0-2.86zM5.41 20L4 18.59l7.72-7.72 1.47 1.35L5.41 20z\"/>\n",
              "  </svg>\n",
              "      </button>\n",
              "      \n",
              "  <style>\n",
              "    .colab-df-container {\n",
              "      display:flex;\n",
              "      flex-wrap:wrap;\n",
              "      gap: 12px;\n",
              "    }\n",
              "\n",
              "    .colab-df-convert {\n",
              "      background-color: #E8F0FE;\n",
              "      border: none;\n",
              "      border-radius: 50%;\n",
              "      cursor: pointer;\n",
              "      display: none;\n",
              "      fill: #1967D2;\n",
              "      height: 32px;\n",
              "      padding: 0 0 0 0;\n",
              "      width: 32px;\n",
              "    }\n",
              "\n",
              "    .colab-df-convert:hover {\n",
              "      background-color: #E2EBFA;\n",
              "      box-shadow: 0px 1px 2px rgba(60, 64, 67, 0.3), 0px 1px 3px 1px rgba(60, 64, 67, 0.15);\n",
              "      fill: #174EA6;\n",
              "    }\n",
              "\n",
              "    [theme=dark] .colab-df-convert {\n",
              "      background-color: #3B4455;\n",
              "      fill: #D2E3FC;\n",
              "    }\n",
              "\n",
              "    [theme=dark] .colab-df-convert:hover {\n",
              "      background-color: #434B5C;\n",
              "      box-shadow: 0px 1px 3px 1px rgba(0, 0, 0, 0.15);\n",
              "      filter: drop-shadow(0px 1px 2px rgba(0, 0, 0, 0.3));\n",
              "      fill: #FFFFFF;\n",
              "    }\n",
              "  </style>\n",
              "\n",
              "      <script>\n",
              "        const buttonEl =\n",
              "          document.querySelector('#df-b085f606-d832-4656-a58f-2f80196125a3 button.colab-df-convert');\n",
              "        buttonEl.style.display =\n",
              "          google.colab.kernel.accessAllowed ? 'block' : 'none';\n",
              "\n",
              "        async function convertToInteractive(key) {\n",
              "          const element = document.querySelector('#df-b085f606-d832-4656-a58f-2f80196125a3');\n",
              "          const dataTable =\n",
              "            await google.colab.kernel.invokeFunction('convertToInteractive',\n",
              "                                                     [key], {});\n",
              "          if (!dataTable) return;\n",
              "\n",
              "          const docLinkHtml = 'Like what you see? Visit the ' +\n",
              "            '<a target=\"_blank\" href=https://colab.research.google.com/notebooks/data_table.ipynb>data table notebook</a>'\n",
              "            + ' to learn more about interactive tables.';\n",
              "          element.innerHTML = '';\n",
              "          dataTable['output_type'] = 'display_data';\n",
              "          await google.colab.output.renderOutput(dataTable, element);\n",
              "          const docLink = document.createElement('div');\n",
              "          docLink.innerHTML = docLinkHtml;\n",
              "          element.appendChild(docLink);\n",
              "        }\n",
              "      </script>\n",
              "    </div>\n",
              "  </div>\n",
              "  "
            ]
          },
          "metadata": {},
          "execution_count": 84
        }
      ]
    },
    {
      "cell_type": "code",
      "source": [
        "y"
      ],
      "metadata": {
        "colab": {
          "base_uri": "https://localhost:8080/"
        },
        "id": "FlUvKWAgbO09",
        "outputId": "17e14b53-715e-47f4-9d6e-c885603ff50e"
      },
      "execution_count": 87,
      "outputs": [
        {
          "output_type": "execute_result",
          "data": {
            "text/plain": [
              "array([2, 2, 2, ..., 0, 0, 0])"
            ]
          },
          "metadata": {},
          "execution_count": 87
        }
      ]
    },
    {
      "cell_type": "markdown",
      "source": [
        "## Test/ train"
      ],
      "metadata": {
        "id": "-4CfwVVOV4uV"
      }
    },
    {
      "cell_type": "code",
      "source": [
        "from sklearn import dummy \n",
        "\n",
        "\n",
        "X_train, X_test, y_train, y_test = model_selection.train_test_split(X, y, random_state=0)\n",
        "clf = dummy.DummyClassifier(strategy='most_frequent', random_state=0)\n",
        "clf.fit(X_train, y_train)\n",
        "\n",
        "clf.score(X_test, y_test)"
      ],
      "metadata": {
        "colab": {
          "base_uri": "https://localhost:8080/"
        },
        "id": "3y8aMLXT86tH",
        "outputId": "8d9c24bf-63d8-4ec4-cea4-5e388459cd8d"
      },
      "execution_count": 88,
      "outputs": [
        {
          "output_type": "execute_result",
          "data": {
            "text/plain": [
              "0.856760374832664"
            ]
          },
          "metadata": {},
          "execution_count": 88
        }
      ]
    },
    {
      "cell_type": "markdown",
      "source": [
        "## Model"
      ],
      "metadata": {
        "id": "3IxRYiqIblzu"
      }
    },
    {
      "cell_type": "code",
      "source": [
        "import xgboost as xgb"
      ],
      "metadata": {
        "id": "oeZf7WXDUA5A"
      },
      "execution_count": 89,
      "outputs": []
    },
    {
      "cell_type": "code",
      "source": [
        "clf_xgb = xgb.XGBClassifier()\n",
        "clf_xgb.fit(X_train,y_train)\n",
        "y_pred = clf_xgb.predict(X_test)\n",
        "metrics.accuracy_score(y_test,y_pred)"
      ],
      "metadata": {
        "colab": {
          "base_uri": "https://localhost:8080/"
        },
        "id": "8N-u5WcIeJy4",
        "outputId": "8a00bcdc-ab8c-46e2-ad05-336658e58e7b"
      },
      "execution_count": 92,
      "outputs": [
        {
          "output_type": "execute_result",
          "data": {
            "text/plain": [
              "0.963855421686747"
            ]
          },
          "metadata": {},
          "execution_count": 92
        }
      ]
    },
    {
      "cell_type": "code",
      "source": [
        "print(metrics.classification_report(y_test, y_pred))"
      ],
      "metadata": {
        "colab": {
          "base_uri": "https://localhost:8080/"
        },
        "id": "O3TuhN1DfXhq",
        "outputId": "db7540fd-b43d-4585-93af-92937902223e"
      },
      "execution_count": 96,
      "outputs": [
        {
          "output_type": "stream",
          "name": "stdout",
          "text": [
            "              precision    recall  f1-score   support\n",
            "\n",
            "           0       0.97      0.99      0.98       640\n",
            "           1       0.50      0.04      0.08        24\n",
            "           2       0.97      1.00      0.98        83\n",
            "\n",
            "    accuracy                           0.96       747\n",
            "   macro avg       0.81      0.68      0.68       747\n",
            "weighted avg       0.95      0.96      0.95       747\n",
            "\n"
          ]
        }
      ]
    },
    {
      "cell_type": "markdown",
      "source": [
        "## cross validation"
      ],
      "metadata": {
        "id": "lUCA86D9fpl3"
      }
    },
    {
      "cell_type": "code",
      "source": [
        "cv_score = model_selection.cross_val_score(clf_xgb, X_train, y_train, cv = 5).mean()\n",
        "print(cv_score)"
      ],
      "metadata": {
        "colab": {
          "base_uri": "https://localhost:8080/"
        },
        "id": "7jjkSuUsfoSh",
        "outputId": "9b89ed40-daec-45a0-bcbd-41d14062bf63"
      },
      "execution_count": 101,
      "outputs": [
        {
          "output_type": "stream",
          "name": "stdout",
          "text": [
            "0.9454847794822626\n"
          ]
        }
      ]
    },
    {
      "cell_type": "markdown",
      "source": [
        "## other basic models "
      ],
      "metadata": {
        "id": "dsoM_sZ_hkwb"
      }
    },
    {
      "cell_type": "code",
      "source": [
        "imputer_mean = impute.SimpleImputer()\n",
        "X_train_ = imputer_mean.fit_transform(X_train)\n",
        "X_test_ = imputer_mean.transform(X_test)"
      ],
      "metadata": {
        "id": "8Mpd9u4vhp73"
      },
      "execution_count": 111,
      "outputs": []
    },
    {
      "cell_type": "code",
      "source": [
        "#@title logistic regression\n",
        "\n",
        "clf1 = linear_model.LogisticRegressionCV(class_weight='balanced', cv=5, max_iter = 10000)\n",
        "clf1.fit(X_train_, y_train)\n",
        "y_pred1 = clf1.predict(X_test_)\n",
        "print(metrics.classification_report(y_test, y_pred1))"
      ],
      "metadata": {
        "cellView": "form",
        "colab": {
          "base_uri": "https://localhost:8080/"
        },
        "id": "maU1yQcxiy0_",
        "outputId": "b2e67dec-f73f-44e1-a4c5-5a402ae5aa35"
      },
      "execution_count": 114,
      "outputs": [
        {
          "output_type": "stream",
          "name": "stdout",
          "text": [
            "              precision    recall  f1-score   support\n",
            "\n",
            "           0       0.96      0.64      0.76       640\n",
            "           1       0.08      0.58      0.14        24\n",
            "           2       0.43      0.76      0.55        83\n",
            "\n",
            "    accuracy                           0.65       747\n",
            "   macro avg       0.49      0.66      0.48       747\n",
            "weighted avg       0.87      0.65      0.72       747\n",
            "\n"
          ]
        }
      ]
    },
    {
      "cell_type": "code",
      "source": [
        "#@title decision tree\n",
        "clf2 = tree.DecisionTreeClassifier(class_weight='balanced')\n",
        "clf2.fit(X_train_, y_train)\n",
        "y_pred2 = clf2.predict(X_test_)\n",
        "print(metrics.classification_report(y_test, y_pred2))"
      ],
      "metadata": {
        "cellView": "form",
        "colab": {
          "base_uri": "https://localhost:8080/"
        },
        "id": "GppGZM5qjH_b",
        "outputId": "062ac644-0600-44a4-d122-66d73f4fcd85"
      },
      "execution_count": 117,
      "outputs": [
        {
          "output_type": "stream",
          "name": "stdout",
          "text": [
            "              precision    recall  f1-score   support\n",
            "\n",
            "           0       0.96      0.94      0.95       640\n",
            "           1       0.06      0.08      0.07        24\n",
            "           2       0.88      0.93      0.90        83\n",
            "\n",
            "    accuracy                           0.91       747\n",
            "   macro avg       0.63      0.65      0.64       747\n",
            "weighted avg       0.92      0.91      0.91       747\n",
            "\n"
          ]
        }
      ]
    }
  ]
}