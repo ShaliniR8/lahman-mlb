{
  "nbformat": 4,
  "nbformat_minor": 0,
  "metadata": {
    "colab": {
      "provenance": [],
      "name": "combined features.ipynb",
      "authorship_tag": "ABX9TyNYEfB5Y8tBHZ/HWqPLXtWb",
      "include_colab_link": true
    },
    "kernelspec": {
      "name": "python3",
      "display_name": "Python 3"
    },
    "language_info": {
      "name": "python"
    },
    "gpuClass": "standard"
  },
  "cells": [
    {
      "cell_type": "markdown",
      "metadata": {
        "id": "view-in-github",
        "colab_type": "text"
      },
      "source": [
        "<a href=\"https://colab.research.google.com/github/ShaliniR8/lahman-mlb/blob/main/combined_features.ipynb\" target=\"_parent\"><img src=\"https://colab.research.google.com/assets/colab-badge.svg\" alt=\"Open In Colab\"/></a>"
      ]
    },
    {
      "cell_type": "code",
      "source": [
        "import os\n",
        "import pandas as pd\n",
        "import numpy as np\n",
        "import matplotlib.pyplot as plt"
      ],
      "metadata": {
        "id": "DoTTTZDgyXVt"
      },
      "execution_count": 1,
      "outputs": []
    },
    {
      "cell_type": "code",
      "source": [
        "from sklearn import preprocessing\n",
        "from sklearn import compose\n",
        "from sklearn import impute\n",
        "from sklearn import decomposition\n",
        "from sklearn import model_selection\n",
        "from sklearn import tree\n",
        "from sklearn.utils import compute_class_weight\n",
        "from sklearn import linear_model\n",
        "from sklearn import ensemble\n",
        "from sklearn import metrics\n",
        "from sklearn import pipeline"
      ],
      "metadata": {
        "id": "bjHZHcdq2Em0"
      },
      "execution_count": 102,
      "outputs": []
    },
    {
      "cell_type": "code",
      "execution_count": 3,
      "metadata": {
        "id": "ePTNl5aVs3j8"
      },
      "outputs": [],
      "source": [
        "%%capture\n",
        "!pip install xgboost"
      ]
    },
    {
      "cell_type": "code",
      "source": [
        "#@title Load Dataset\n",
        "\n",
        "%%capture\n",
        "# ---- filtered (only from 1910) \n",
        "# !wget https://github.com/ShaliniR8/lahman-mlb/raw/main/baseballdatabase.zip\n",
        "# !unzip /content/baseballdatabase.zip -d \"/content/\"\n",
        "\n",
        "\n",
        "#---- full\n",
        "!wget https://github.com/ShaliniR8/lahman-mlb/raw/main/baseballdatabank_2022.zip\n",
        "!unzip /content/baseballdatabank_2022.zip -d \"/content/\"\n",
        "\n",
        "path = \"/content/baseballdatabank-2022.2/core/\"\n",
        "\n"
      ],
      "metadata": {
        "id": "g2fL6mw9s64h",
        "cellView": "form"
      },
      "execution_count": 4,
      "outputs": []
    },
    {
      "cell_type": "code",
      "source": [
        "batting = pd.read_csv(path + \"Batting.csv\")\n",
        "pitching = pd.read_csv(path + \"Pitching.csv\")\n",
        "people = pd.read_csv(path + \"People.csv\")\n",
        "# fielding = pd.read_csv(path + \"Fielding.csv\")\n",
        "teams = pd.read_csv(path + \"Teams.csv\")"
      ],
      "metadata": {
        "id": "K5k0dtuf9TnN"
      },
      "execution_count": 118,
      "outputs": []
    },
    {
      "cell_type": "markdown",
      "source": [
        "## Dataset"
      ],
      "metadata": {
        "id": "O4n14dOApCJk"
      }
    },
    {
      "cell_type": "code",
      "source": [
        "batting = batting[[\"playerID\",\"yearID\",\"teamID\", \"H\", \"BB\", \"HBP\", \"AB\", \"SF\", \"2B\", \"3B\", \"HR\"]].copy()\n",
        "pitching = pitching[[\"playerID\",\"yearID\",\"teamID\", \"ERA\"]].copy()\n",
        "people = people[['playerID', 'birthYear']].copy()\n",
        "teams = teams[['teamID', 'yearID', 'W', 'L']].copy()\n",
        "all_dfs = { \n",
        "    'batting': batting,\n",
        "    'pitching': pitching,\n",
        "    'people':people,\n",
        "    # 'fielding':fielding,\n",
        "    'teams':teams\n",
        "}"
      ],
      "metadata": {
        "id": "v8XqvsdR59SM"
      },
      "execution_count": 188,
      "outputs": []
    },
    {
      "cell_type": "markdown",
      "source": [
        "## Cleaning"
      ],
      "metadata": {
        "id": "fh7Ib-e562c8"
      }
    },
    {
      "cell_type": "code",
      "source": [
        "\n",
        "def cleanX(X):\n",
        "  categorical_features = X.select_dtypes(\"object\").columns.to_list()\n",
        "  numerical_features = X.select_dtypes([\"int64\", \"float64\"]).columns.to_list()\n",
        "  knnImp = impute.KNNImputer(missing_values=np.nan)\n",
        "  simpleImp = impute.SimpleImputer(strategy = 'median', missing_values=np.nan)\n",
        "  Ximputer = compose.ColumnTransformer([\n",
        "    ('categorical', knnImp, categorical_features),\n",
        "    ('numerical', simpleImp, numerical_features)\n",
        "  ])\n",
        "  X_ = Ximputer.fit_transform(X)\n",
        "\n",
        "  return X_"
      ],
      "metadata": {
        "id": "mP8gjfgIyQIN"
      },
      "execution_count": 189,
      "outputs": []
    },
    {
      "cell_type": "code",
      "source": [
        "for name,df in all_dfs.items():\n",
        "  not_keys = list(set(df.columns.to_list()) - {'teamID', 'playerID'})\n",
        "  keys = list(set(df.columns.to_list()) - set(not_keys))\n",
        "  imputedX = pd.DataFrame(cleanX(df[not_keys]), columns = not_keys, dtype='int64')\n",
        "  all_dfs[name] = pd.concat([df[keys], imputedX], axis = 1)\n",
        "  print(name)\n",
        "  print(all_dfs[name].info())\n",
        "  \n"
      ],
      "metadata": {
        "id": "TGPoSuGp0SVl",
        "colab": {
          "base_uri": "https://localhost:8080/"
        },
        "outputId": "6d3f4016-1cee-4dca-d60c-123c71930a2c"
      },
      "execution_count": 190,
      "outputs": [
        {
          "output_type": "stream",
          "name": "stdout",
          "text": [
            "batting\n",
            "<class 'pandas.core.frame.DataFrame'>\n",
            "RangeIndex: 110495 entries, 0 to 110494\n",
            "Data columns (total 11 columns):\n",
            " #   Column    Non-Null Count   Dtype \n",
            "---  ------    --------------   ----- \n",
            " 0   playerID  110495 non-null  object\n",
            " 1   teamID    110495 non-null  object\n",
            " 2   BB        110495 non-null  int64 \n",
            " 3   HR        110495 non-null  int64 \n",
            " 4   H         110495 non-null  int64 \n",
            " 5   AB        110495 non-null  int64 \n",
            " 6   3B        110495 non-null  int64 \n",
            " 7   HBP       110495 non-null  int64 \n",
            " 8   2B        110495 non-null  int64 \n",
            " 9   yearID    110495 non-null  int64 \n",
            " 10  SF        110495 non-null  int64 \n",
            "dtypes: int64(9), object(2)\n",
            "memory usage: 9.3+ MB\n",
            "None\n",
            "pitching\n",
            "<class 'pandas.core.frame.DataFrame'>\n",
            "RangeIndex: 49430 entries, 0 to 49429\n",
            "Data columns (total 4 columns):\n",
            " #   Column    Non-Null Count  Dtype \n",
            "---  ------    --------------  ----- \n",
            " 0   playerID  49430 non-null  object\n",
            " 1   teamID    49430 non-null  object\n",
            " 2   yearID    49430 non-null  int64 \n",
            " 3   ERA       49430 non-null  int64 \n",
            "dtypes: int64(2), object(2)\n",
            "memory usage: 1.5+ MB\n",
            "None\n",
            "people\n",
            "<class 'pandas.core.frame.DataFrame'>\n",
            "RangeIndex: 20370 entries, 0 to 20369\n",
            "Data columns (total 2 columns):\n",
            " #   Column     Non-Null Count  Dtype \n",
            "---  ------     --------------  ----- \n",
            " 0   playerID   20370 non-null  object\n",
            " 1   birthYear  20370 non-null  int64 \n",
            "dtypes: int64(1), object(1)\n",
            "memory usage: 318.4+ KB\n",
            "None\n",
            "teams\n",
            "<class 'pandas.core.frame.DataFrame'>\n",
            "RangeIndex: 2985 entries, 0 to 2984\n",
            "Data columns (total 4 columns):\n",
            " #   Column  Non-Null Count  Dtype \n",
            "---  ------  --------------  ----- \n",
            " 0   teamID  2985 non-null   object\n",
            " 1   yearID  2985 non-null   int64 \n",
            " 2   L       2985 non-null   int64 \n",
            " 3   W       2985 non-null   int64 \n",
            "dtypes: int64(3), object(1)\n",
            "memory usage: 93.4+ KB\n",
            "None\n"
          ]
        },
        {
          "output_type": "stream",
          "name": "stderr",
          "text": [
            "/usr/local/lib/python3.7/dist-packages/ipykernel_launcher.py:4: FutureWarning: In a future version, passing float-dtype values and an integer dtype to DataFrame will retain floating dtype if they cannot be cast losslessly (matching Series behavior). To retain the old behavior, use DataFrame(data).astype(dtype)\n",
            "  after removing the cwd from sys.path.\n"
          ]
        }
      ]
    },
    {
      "cell_type": "markdown",
      "source": [
        "## Constructing Features\n",
        "\n",
        "No need to run this after the feature is already constructed "
      ],
      "metadata": {
        "id": "jAWaH5maRzTJ"
      }
    },
    {
      "cell_type": "code",
      "source": [
        "def win_perc(team, year):\n",
        "    team_year = teams[(teams['yearID'] == year) & (teams['teamID'] == team)]\n",
        "    if team_year.empty:\n",
        "        return np.nan\n",
        "    team_year = team_year.iloc[0]\n",
        "    w = team_year['W']\n",
        "    l = team_year['L']\n",
        "    return w / (w + l)\n",
        "\n",
        "\n",
        "def get_rolling_win_perc (row):\n",
        "    year = row['yearID']\n",
        "    team = row['teamID']\n",
        "    year1 = win_perc(team, year - 1)\n",
        "    year2 = win_perc(team, year - 2)\n",
        "    year3 = win_perc(team, year - 3)\n",
        "    year4 = win_perc(team, year - 4)\n",
        "    year5 = win_perc(team, year - 5)\n",
        "    if (year1 == np.nan or year2 == np.nan or year3 == np.nan or year3 == np.nan or year4 == np.nan or year5 == np.nan):\n",
        "      if (year1 == np.nan or year2 == np.nan or year3 ==np.nan):\n",
        "        if year1 == np.nan: \n",
        "          return (year, team, np.nan, np.nan, np.nan)\n",
        "        else:\n",
        "          return (year, team, year1, np.nan, np.nan)\n",
        "      else:\n",
        "        return (year, team, year1, (year1 + year2 + year3)/3, np.nan )\n",
        "    else: \n",
        "        return (year, team, year1, (year1 + year2 + year3)/3, (year1 + year2 + year3 + year4 + year5)/5)\n"
      ],
      "metadata": {
        "id": "5rFfyDpq4u_I"
      },
      "execution_count": null,
      "outputs": []
    },
    {
      "cell_type": "code",
      "source": [
        "\n",
        "def get_age(row):\n",
        "  playerID = row['playerID']\n",
        "  yearID = row['yearID']\n",
        "  birthYear = people[people['playerID'] == playerID]['birthYear']\n",
        "  birthYear = birthYear.iloc[0]\n",
        "  age = yearID - birthYear\n",
        "  row['age'] = age\n",
        "  return row"
      ],
      "metadata": {
        "id": "VtDNJQb_Dllj"
      },
      "execution_count": null,
      "outputs": []
    },
    {
      "cell_type": "code",
      "source": [
        "def ops_calc(row):\n",
        "  #calc done on rows of batting table\n",
        "  if row['AB'] == 0:\n",
        "      return np.nan\n",
        "  HBP = row[\"HBP\"]\n",
        "  SF = row[\"SF\"]\n",
        "  singles = row[\"H\"] - row[\"2B\"] - row[\"3B\"] - row[\"HR\"]\n",
        "  obp = (row[\"H\"] + row[\"BB\"] + HBP) / (row[\"AB\"] + row[\"BB\"] + SF + HBP)\n",
        "  slug = (singles + (2 * row[\"2B\"]) + (3 * row[\"3B\"]) + (4 * row[\"HR\"])) / row[\"AB\"]\n",
        " \n",
        "  return slug + obp \n",
        "\n",
        "def get_ops(row):\n",
        "  year = row['yearID'] - 1\n",
        "  team = row['teamID']\n",
        "  player = row[\"playerID\"]\n",
        "  row['ops'] = np.nan\n",
        "  filtered_df = batting[(batting['yearID'] == year) & (batting['teamID'] == team) & (batting['playerID'] == player)]\n",
        "  if filtered_df.empty:\n",
        "      return row\n",
        "  filtered_df = filtered_df.iloc[0]\n",
        "  row['ops'] = ops_calc(filtered_df)\n",
        "  return row"
      ],
      "metadata": {
        "id": "4HASY-XJTael"
      },
      "execution_count": null,
      "outputs": []
    },
    {
      "cell_type": "code",
      "source": [
        "teams = all_dfs['teams']\n",
        "pitching = all_dfs['pitching']\n",
        "people = all_dfs['people']\n",
        "batting = all_dfs['batting']"
      ],
      "metadata": {
        "id": "gD3XTbG1yoYK"
      },
      "execution_count": 191,
      "outputs": []
    },
    {
      "cell_type": "code",
      "source": [
        "# teams winning perc\n",
        "p = teams.apply(lambda x: get_rolling_win_perc(x), axis = 1).copy()\n",
        "t_features = pd.DataFrame(list(p), columns = ['yearID', 'teamID', 'prev_year_win_perc', 'rolling_3_win_perc', 'rolling_5_win_perc'])"
      ],
      "metadata": {
        "id": "ZXGH2UTh0dZt"
      },
      "execution_count": null,
      "outputs": []
    },
    {
      "cell_type": "code",
      "source": [
        "#pitcher ages\n",
        "ages = pitching.apply(lambda x: get_age(x), axis = 1).copy()"
      ],
      "metadata": {
        "id": "oPQewMuoCCqU"
      },
      "execution_count": null,
      "outputs": []
    },
    {
      "cell_type": "code",
      "source": [
        "#median era and mean pitching age\n",
        "p_features = ages.groupby(['teamID', 'yearID']).agg({'ERA':'median', \n",
        "                                                            'age':'mean'}).reset_index()\n",
        "p_features = p_features.rename(columns = {\"ERA\": \"medianERA\", 'age': 'pitcherAverageAge'})"
      ],
      "metadata": {
        "id": "6Ptd-O4cuC9M"
      },
      "execution_count": null,
      "outputs": []
    },
    {
      "cell_type": "code",
      "source": [
        "#batter ages\n",
        "ages = batting.apply(lambda x: get_age(x), axis = 1).copy()"
      ],
      "metadata": {
        "id": "Rv3O583-Dt1b"
      },
      "execution_count": null,
      "outputs": []
    },
    {
      "cell_type": "code",
      "source": [
        "ops = ages.apply(lambda x: get_ops(x), axis=1).copy()"
      ],
      "metadata": {
        "id": "WtAiaD1ypQLE"
      },
      "execution_count": null,
      "outputs": []
    },
    {
      "cell_type": "code",
      "source": [
        "#median ops and average age\n",
        "\n",
        "b_features = ops.groupby(['teamID', 'yearID']).agg({'age':'mean', \n",
        "                                                            'ops':'median'}).reset_index()\n",
        "b_features = b_features.rename(columns = {\"age\": \"batterAverageAge\", \"ops\": \"medianOPS\"})\n",
        "\n"
      ],
      "metadata": {
        "id": "1SS-0Lgyg2aD"
      },
      "execution_count": null,
      "outputs": []
    },
    {
      "cell_type": "markdown",
      "source": [
        "## construct target data\n",
        "\n"
      ],
      "metadata": {
        "id": "oALVRISF7pxa"
      }
    },
    {
      "cell_type": "code",
      "source": [
        "y = teams.apply(lambda y: y['W']/ (y['W'] + y['L']), axis=1)\n"
      ],
      "metadata": {
        "id": "VdszIwG17nGJ"
      },
      "execution_count": 224,
      "outputs": []
    },
    {
      "cell_type": "markdown",
      "source": [
        "## Load constructed features "
      ],
      "metadata": {
        "id": "pYwFen1i2wAR"
      }
    },
    {
      "cell_type": "code",
      "source": [
        "%%capture\n",
        "!wget https://github.com/ShaliniR8/lahman-mlb/raw/main/b_features.csv \n",
        "!wget https://github.com/ShaliniR8/lahman-mlb/raw/main/p_features.csv \n",
        "!wget https://github.com/ShaliniR8/lahman-mlb/raw/main/t_features.csv "
      ],
      "metadata": {
        "id": "rrvilcHH2ugC"
      },
      "execution_count": 11,
      "outputs": []
    },
    {
      "cell_type": "code",
      "source": [
        "b_features = pd.read_csv('/content/b_features.csv').drop(columns = ['Unnamed: 0'])\n",
        "p_features = pd.read_csv('/content/p_features.csv').drop(columns = ['Unnamed: 0'])\n",
        "t_features = pd.read_csv('/content/t_features.csv').drop(columns = ['Unnamed: 0'])"
      ],
      "metadata": {
        "id": "hMMX6ylF3-KI"
      },
      "execution_count": 51,
      "outputs": []
    },
    {
      "cell_type": "code",
      "source": [
        "cols_to_merge_on = list(set(t_features.columns).intersection(set(p_features.columns)))\n",
        "print(cols_to_merge_on)\n",
        "temp1 = pd.merge(t_features, p_features, how='inner', left_on = cols_to_merge_on, right_on = cols_to_merge_on)"
      ],
      "metadata": {
        "id": "aa4cvOLO4lD6",
        "colab": {
          "base_uri": "https://localhost:8080/"
        },
        "outputId": "b47a9af6-f778-40e4-9c48-e28fcde40d4e"
      },
      "execution_count": 52,
      "outputs": [
        {
          "output_type": "stream",
          "name": "stdout",
          "text": [
            "['yearID', 'teamID']\n"
          ]
        }
      ]
    },
    {
      "cell_type": "code",
      "source": [
        "cols_to_merge_on = list(set(b_features.columns).intersection(set(temp1.columns)))\n",
        "features = pd.merge(temp1, b_features, how='inner', left_on=cols_to_merge_on, right_on=cols_to_merge_on)"
      ],
      "metadata": {
        "id": "UJETKYCY70FL"
      },
      "execution_count": 149,
      "outputs": []
    },
    {
      "cell_type": "markdown",
      "source": [
        "## preprocess"
      ],
      "metadata": {
        "id": "M3k9hWYFYKn-"
      }
    },
    {
      "cell_type": "code",
      "source": [
        "ohe = preprocessing.OneHotEncoder()\n",
        "teamID = features[['teamID']]\n",
        "teamID_ohe = ohe.fit_transform(teamID)"
      ],
      "metadata": {
        "id": "kvn5YYbNXGo7"
      },
      "execution_count": 150,
      "outputs": []
    },
    {
      "cell_type": "code",
      "source": [
        "tid_names = list(ohe.get_feature_names_out())\n",
        "teamID_df = pd.DataFrame(teamID_ohe.toarray(), columns= tid_names, dtype = 'int64')"
      ],
      "metadata": {
        "id": "iNsmd0e6ZJJS"
      },
      "execution_count": 153,
      "outputs": []
    },
    {
      "cell_type": "code",
      "source": [
        "features = features.drop(columns = ['teamID'])\n",
        "X = pd.concat([teamID_df, features], axis = 1)"
      ],
      "metadata": {
        "id": "jJJWMsBGZBgx"
      },
      "execution_count": 83,
      "outputs": []
    },
    {
      "cell_type": "code",
      "source": [
        "X.head()"
      ],
      "metadata": {
        "colab": {
          "base_uri": "https://localhost:8080/",
          "height": 299
        },
        "id": "HZfMsQ1kalVc",
        "outputId": "a3761429-d975-4603-a398-c032be485f84"
      },
      "execution_count": 195,
      "outputs": [
        {
          "output_type": "execute_result",
          "data": {
            "text/plain": [
              "   teamID_ALT  teamID_ANA  teamID_ARI  teamID_ATL  teamID_BAL  teamID_BFN  \\\n",
              "0           0           0           0           0           0           0   \n",
              "1           0           0           0           0           0           0   \n",
              "2           0           0           0           0           0           0   \n",
              "3           0           0           0           0           0           0   \n",
              "4           0           0           0           0           0           0   \n",
              "\n",
              "   teamID_BFP  teamID_BL1  teamID_BL2  teamID_BL3  ...  teamID_WS9  \\\n",
              "0           0           0           0           0  ...           0   \n",
              "1           0           0           0           0  ...           0   \n",
              "2           0           0           0           0  ...           0   \n",
              "3           0           0           0           0  ...           0   \n",
              "4           0           0           0           0  ...           0   \n",
              "\n",
              "   teamID_WSU  yearID  prev_year_win_perc  rolling_3_win_perc  \\\n",
              "0           0    1871                 NaN                 NaN   \n",
              "1           0    1871                 NaN                 NaN   \n",
              "2           0    1871                 NaN                 NaN   \n",
              "3           0    1871                 NaN                 NaN   \n",
              "4           0    1871                 NaN                 NaN   \n",
              "\n",
              "   rolling_5_win_perc  medianERA  pitcherAverageAge  batterAverageAge  \\\n",
              "0                 NaN        4.5          28.500000         25.272727   \n",
              "1                 NaN        2.5          26.000000         24.727273   \n",
              "2                 NaN        4.5          24.500000         22.076923   \n",
              "3                 NaN        5.0          20.000000          7.388889   \n",
              "4                 NaN       10.0          25.333333         26.363636   \n",
              "\n",
              "   medianOPS  \n",
              "0        NaN  \n",
              "1        NaN  \n",
              "2        NaN  \n",
              "3        NaN  \n",
              "4        NaN  \n",
              "\n",
              "[5 rows x 157 columns]"
            ],
            "text/html": [
              "\n",
              "  <div id=\"df-f2f64e67-0a90-480f-9793-5e2a301858ed\">\n",
              "    <div class=\"colab-df-container\">\n",
              "      <div>\n",
              "<style scoped>\n",
              "    .dataframe tbody tr th:only-of-type {\n",
              "        vertical-align: middle;\n",
              "    }\n",
              "\n",
              "    .dataframe tbody tr th {\n",
              "        vertical-align: top;\n",
              "    }\n",
              "\n",
              "    .dataframe thead th {\n",
              "        text-align: right;\n",
              "    }\n",
              "</style>\n",
              "<table border=\"1\" class=\"dataframe\">\n",
              "  <thead>\n",
              "    <tr style=\"text-align: right;\">\n",
              "      <th></th>\n",
              "      <th>teamID_ALT</th>\n",
              "      <th>teamID_ANA</th>\n",
              "      <th>teamID_ARI</th>\n",
              "      <th>teamID_ATL</th>\n",
              "      <th>teamID_BAL</th>\n",
              "      <th>teamID_BFN</th>\n",
              "      <th>teamID_BFP</th>\n",
              "      <th>teamID_BL1</th>\n",
              "      <th>teamID_BL2</th>\n",
              "      <th>teamID_BL3</th>\n",
              "      <th>...</th>\n",
              "      <th>teamID_WS9</th>\n",
              "      <th>teamID_WSU</th>\n",
              "      <th>yearID</th>\n",
              "      <th>prev_year_win_perc</th>\n",
              "      <th>rolling_3_win_perc</th>\n",
              "      <th>rolling_5_win_perc</th>\n",
              "      <th>medianERA</th>\n",
              "      <th>pitcherAverageAge</th>\n",
              "      <th>batterAverageAge</th>\n",
              "      <th>medianOPS</th>\n",
              "    </tr>\n",
              "  </thead>\n",
              "  <tbody>\n",
              "    <tr>\n",
              "      <th>0</th>\n",
              "      <td>0</td>\n",
              "      <td>0</td>\n",
              "      <td>0</td>\n",
              "      <td>0</td>\n",
              "      <td>0</td>\n",
              "      <td>0</td>\n",
              "      <td>0</td>\n",
              "      <td>0</td>\n",
              "      <td>0</td>\n",
              "      <td>0</td>\n",
              "      <td>...</td>\n",
              "      <td>0</td>\n",
              "      <td>0</td>\n",
              "      <td>1871</td>\n",
              "      <td>NaN</td>\n",
              "      <td>NaN</td>\n",
              "      <td>NaN</td>\n",
              "      <td>4.5</td>\n",
              "      <td>28.500000</td>\n",
              "      <td>25.272727</td>\n",
              "      <td>NaN</td>\n",
              "    </tr>\n",
              "    <tr>\n",
              "      <th>1</th>\n",
              "      <td>0</td>\n",
              "      <td>0</td>\n",
              "      <td>0</td>\n",
              "      <td>0</td>\n",
              "      <td>0</td>\n",
              "      <td>0</td>\n",
              "      <td>0</td>\n",
              "      <td>0</td>\n",
              "      <td>0</td>\n",
              "      <td>0</td>\n",
              "      <td>...</td>\n",
              "      <td>0</td>\n",
              "      <td>0</td>\n",
              "      <td>1871</td>\n",
              "      <td>NaN</td>\n",
              "      <td>NaN</td>\n",
              "      <td>NaN</td>\n",
              "      <td>2.5</td>\n",
              "      <td>26.000000</td>\n",
              "      <td>24.727273</td>\n",
              "      <td>NaN</td>\n",
              "    </tr>\n",
              "    <tr>\n",
              "      <th>2</th>\n",
              "      <td>0</td>\n",
              "      <td>0</td>\n",
              "      <td>0</td>\n",
              "      <td>0</td>\n",
              "      <td>0</td>\n",
              "      <td>0</td>\n",
              "      <td>0</td>\n",
              "      <td>0</td>\n",
              "      <td>0</td>\n",
              "      <td>0</td>\n",
              "      <td>...</td>\n",
              "      <td>0</td>\n",
              "      <td>0</td>\n",
              "      <td>1871</td>\n",
              "      <td>NaN</td>\n",
              "      <td>NaN</td>\n",
              "      <td>NaN</td>\n",
              "      <td>4.5</td>\n",
              "      <td>24.500000</td>\n",
              "      <td>22.076923</td>\n",
              "      <td>NaN</td>\n",
              "    </tr>\n",
              "    <tr>\n",
              "      <th>3</th>\n",
              "      <td>0</td>\n",
              "      <td>0</td>\n",
              "      <td>0</td>\n",
              "      <td>0</td>\n",
              "      <td>0</td>\n",
              "      <td>0</td>\n",
              "      <td>0</td>\n",
              "      <td>0</td>\n",
              "      <td>0</td>\n",
              "      <td>0</td>\n",
              "      <td>...</td>\n",
              "      <td>0</td>\n",
              "      <td>0</td>\n",
              "      <td>1871</td>\n",
              "      <td>NaN</td>\n",
              "      <td>NaN</td>\n",
              "      <td>NaN</td>\n",
              "      <td>5.0</td>\n",
              "      <td>20.000000</td>\n",
              "      <td>7.388889</td>\n",
              "      <td>NaN</td>\n",
              "    </tr>\n",
              "    <tr>\n",
              "      <th>4</th>\n",
              "      <td>0</td>\n",
              "      <td>0</td>\n",
              "      <td>0</td>\n",
              "      <td>0</td>\n",
              "      <td>0</td>\n",
              "      <td>0</td>\n",
              "      <td>0</td>\n",
              "      <td>0</td>\n",
              "      <td>0</td>\n",
              "      <td>0</td>\n",
              "      <td>...</td>\n",
              "      <td>0</td>\n",
              "      <td>0</td>\n",
              "      <td>1871</td>\n",
              "      <td>NaN</td>\n",
              "      <td>NaN</td>\n",
              "      <td>NaN</td>\n",
              "      <td>10.0</td>\n",
              "      <td>25.333333</td>\n",
              "      <td>26.363636</td>\n",
              "      <td>NaN</td>\n",
              "    </tr>\n",
              "  </tbody>\n",
              "</table>\n",
              "<p>5 rows × 157 columns</p>\n",
              "</div>\n",
              "      <button class=\"colab-df-convert\" onclick=\"convertToInteractive('df-f2f64e67-0a90-480f-9793-5e2a301858ed')\"\n",
              "              title=\"Convert this dataframe to an interactive table.\"\n",
              "              style=\"display:none;\">\n",
              "        \n",
              "  <svg xmlns=\"http://www.w3.org/2000/svg\" height=\"24px\"viewBox=\"0 0 24 24\"\n",
              "       width=\"24px\">\n",
              "    <path d=\"M0 0h24v24H0V0z\" fill=\"none\"/>\n",
              "    <path d=\"M18.56 5.44l.94 2.06.94-2.06 2.06-.94-2.06-.94-.94-2.06-.94 2.06-2.06.94zm-11 1L8.5 8.5l.94-2.06 2.06-.94-2.06-.94L8.5 2.5l-.94 2.06-2.06.94zm10 10l.94 2.06.94-2.06 2.06-.94-2.06-.94-.94-2.06-.94 2.06-2.06.94z\"/><path d=\"M17.41 7.96l-1.37-1.37c-.4-.4-.92-.59-1.43-.59-.52 0-1.04.2-1.43.59L10.3 9.45l-7.72 7.72c-.78.78-.78 2.05 0 2.83L4 21.41c.39.39.9.59 1.41.59.51 0 1.02-.2 1.41-.59l7.78-7.78 2.81-2.81c.8-.78.8-2.07 0-2.86zM5.41 20L4 18.59l7.72-7.72 1.47 1.35L5.41 20z\"/>\n",
              "  </svg>\n",
              "      </button>\n",
              "      \n",
              "  <style>\n",
              "    .colab-df-container {\n",
              "      display:flex;\n",
              "      flex-wrap:wrap;\n",
              "      gap: 12px;\n",
              "    }\n",
              "\n",
              "    .colab-df-convert {\n",
              "      background-color: #E8F0FE;\n",
              "      border: none;\n",
              "      border-radius: 50%;\n",
              "      cursor: pointer;\n",
              "      display: none;\n",
              "      fill: #1967D2;\n",
              "      height: 32px;\n",
              "      padding: 0 0 0 0;\n",
              "      width: 32px;\n",
              "    }\n",
              "\n",
              "    .colab-df-convert:hover {\n",
              "      background-color: #E2EBFA;\n",
              "      box-shadow: 0px 1px 2px rgba(60, 64, 67, 0.3), 0px 1px 3px 1px rgba(60, 64, 67, 0.15);\n",
              "      fill: #174EA6;\n",
              "    }\n",
              "\n",
              "    [theme=dark] .colab-df-convert {\n",
              "      background-color: #3B4455;\n",
              "      fill: #D2E3FC;\n",
              "    }\n",
              "\n",
              "    [theme=dark] .colab-df-convert:hover {\n",
              "      background-color: #434B5C;\n",
              "      box-shadow: 0px 1px 3px 1px rgba(0, 0, 0, 0.15);\n",
              "      filter: drop-shadow(0px 1px 2px rgba(0, 0, 0, 0.3));\n",
              "      fill: #FFFFFF;\n",
              "    }\n",
              "  </style>\n",
              "\n",
              "      <script>\n",
              "        const buttonEl =\n",
              "          document.querySelector('#df-f2f64e67-0a90-480f-9793-5e2a301858ed button.colab-df-convert');\n",
              "        buttonEl.style.display =\n",
              "          google.colab.kernel.accessAllowed ? 'block' : 'none';\n",
              "\n",
              "        async function convertToInteractive(key) {\n",
              "          const element = document.querySelector('#df-f2f64e67-0a90-480f-9793-5e2a301858ed');\n",
              "          const dataTable =\n",
              "            await google.colab.kernel.invokeFunction('convertToInteractive',\n",
              "                                                     [key], {});\n",
              "          if (!dataTable) return;\n",
              "\n",
              "          const docLinkHtml = 'Like what you see? Visit the ' +\n",
              "            '<a target=\"_blank\" href=https://colab.research.google.com/notebooks/data_table.ipynb>data table notebook</a>'\n",
              "            + ' to learn more about interactive tables.';\n",
              "          element.innerHTML = '';\n",
              "          dataTable['output_type'] = 'display_data';\n",
              "          await google.colab.output.renderOutput(dataTable, element);\n",
              "          const docLink = document.createElement('div');\n",
              "          docLink.innerHTML = docLinkHtml;\n",
              "          element.appendChild(docLink);\n",
              "        }\n",
              "      </script>\n",
              "    </div>\n",
              "  </div>\n",
              "  "
            ]
          },
          "metadata": {},
          "execution_count": 195
        }
      ]
    },
    {
      "cell_type": "code",
      "source": [
        "y"
      ],
      "metadata": {
        "colab": {
          "base_uri": "https://localhost:8080/"
        },
        "id": "FlUvKWAgbO09",
        "outputId": "ae01e73b-9336-42d4-9939-d6aaf2b60550"
      },
      "execution_count": 196,
      "outputs": [
        {
          "output_type": "execute_result",
          "data": {
            "text/plain": [
              "0       0.666667\n",
              "1       0.678571\n",
              "2       0.344828\n",
              "3       0.368421\n",
              "4       0.484848\n",
              "          ...   \n",
              "2980    0.555556\n",
              "2981    0.617284\n",
              "2982    0.370370\n",
              "2983    0.561728\n",
              "2984    0.401235\n",
              "Length: 2985, dtype: float64"
            ]
          },
          "metadata": {},
          "execution_count": 196
        }
      ]
    },
    {
      "cell_type": "markdown",
      "source": [
        "## Test/ train"
      ],
      "metadata": {
        "id": "-4CfwVVOV4uV"
      }
    },
    {
      "cell_type": "code",
      "source": [
        "from sklearn import dummy \n",
        "\n",
        "\n",
        "X_train, X_test, y_train, y_test = model_selection.train_test_split(X, y, test_size=0.2, random_state=8)\n",
        "clf = dummy.DummyRegressor(strategy='mean')\n",
        "clf.fit(X_train, y_train)\n",
        "\n",
        "clf.score(X_test, y_test)"
      ],
      "metadata": {
        "colab": {
          "base_uri": "https://localhost:8080/"
        },
        "id": "3y8aMLXT86tH",
        "outputId": "cee5dbc5-3797-471a-d045-2767d06a344a"
      },
      "execution_count": 285,
      "outputs": [
        {
          "output_type": "execute_result",
          "data": {
            "text/plain": [
              "-0.01023829108499319"
            ]
          },
          "metadata": {},
          "execution_count": 285
        }
      ]
    },
    {
      "cell_type": "markdown",
      "source": [
        "## Model"
      ],
      "metadata": {
        "id": "3IxRYiqIblzu"
      }
    },
    {
      "cell_type": "code",
      "source": [
        "# boost regression\n",
        "reg_xgb = xgb.XGBRegressor(objective = 'reg:squarederror' )\n",
        "reg_xgb.fit(X_train,y_train)\n",
        "y_pred = reg_xgb.predict(X_test)\n",
        "reg_xgb.score(X_test,y_test)\n"
      ],
      "metadata": {
        "colab": {
          "base_uri": "https://localhost:8080/"
        },
        "id": "8N-u5WcIeJy4",
        "outputId": "085af888-dae9-4bf7-b648-366b16c43e06"
      },
      "execution_count": 286,
      "outputs": [
        {
          "output_type": "execute_result",
          "data": {
            "text/plain": [
              "0.47222877227749605"
            ]
          },
          "metadata": {},
          "execution_count": 286
        }
      ]
    },
    {
      "cell_type": "code",
      "source": [
        "mse = metrics.mean_squared_error(y_test, y_pred)\n",
        "print(np.sqrt(mse))"
      ],
      "metadata": {
        "colab": {
          "base_uri": "https://localhost:8080/"
        },
        "id": "Gk-REho9DvSz",
        "outputId": "6e919d7e-b86f-43eb-a342-ed8ca14cd19f"
      },
      "execution_count": 287,
      "outputs": [
        {
          "output_type": "stream",
          "name": "stdout",
          "text": [
            "0.06455588397975634\n"
          ]
        }
      ]
    },
    {
      "cell_type": "code",
      "source": [
        "inv = list(ohe.inverse_transform(X_test[tid_names]).reshape(1,-1))[0]\n",
        "len(inv)"
      ],
      "metadata": {
        "colab": {
          "base_uri": "https://localhost:8080/"
        },
        "id": "y3AMl_RTvApR",
        "outputId": "58bc34b0-f7a6-4cf9-c933-f0293d7e5dc8"
      },
      "execution_count": 288,
      "outputs": [
        {
          "output_type": "execute_result",
          "data": {
            "text/plain": [
              "597"
            ]
          },
          "metadata": {},
          "execution_count": 288
        }
      ]
    },
    {
      "cell_type": "code",
      "source": [
        "list(y_test)"
      ],
      "metadata": {
        "id": "tvyPXRwcUJTS",
        "outputId": "27572bc3-77e9-4c64-b1b7-5dcda0503fd0",
        "colab": {
          "base_uri": "https://localhost:8080/"
        }
      },
      "execution_count": 295,
      "outputs": [
        {
          "output_type": "execute_result",
          "data": {
            "text/plain": [
              "[0.4533333333333333,\n",
              " 0.5138888888888888,\n",
              " 0.4691358024691358,\n",
              " 0.6797385620915033,\n",
              " 0.3790849673202614,\n",
              " 0.6753246753246753,\n",
              " 0.487012987012987,\n",
              " 0.6484375,\n",
              " 0.49382716049382713,\n",
              " 0.42592592592592593,\n",
              " 0.5308641975308642,\n",
              " 0.6066666666666667,\n",
              " 0.5123456790123457,\n",
              " 0.6111111111111112,\n",
              " 0.477124183006536,\n",
              " 0.5032679738562091,\n",
              " 0.47530864197530864,\n",
              " 0.5359477124183006,\n",
              " 0.5855263157894737,\n",
              " 0.5061728395061729,\n",
              " 0.49382716049382713,\n",
              " 0.4506172839506173,\n",
              " 0.5864197530864198,\n",
              " 0.43209876543209874,\n",
              " 0.4382716049382716,\n",
              " 0.4968944099378882,\n",
              " 0.5308641975308642,\n",
              " 0.5251798561151079,\n",
              " 0.525974025974026,\n",
              " 0.5947712418300654,\n",
              " 0.42592592592592593,\n",
              " 0.4567901234567901,\n",
              " 0.5347222222222222,\n",
              " 0.45962732919254656,\n",
              " 0.5987654320987654,\n",
              " 0.4090909090909091,\n",
              " 0.4966887417218543,\n",
              " 0.461038961038961,\n",
              " 0.4155844155844156,\n",
              " 0.6133333333333333,\n",
              " 0.577922077922078,\n",
              " 0.5617283950617284,\n",
              " 0.5755395683453237,\n",
              " 0.5403726708074534,\n",
              " 0.4567901234567901,\n",
              " 0.39751552795031053,\n",
              " 0.5308641975308642,\n",
              " 0.6111111111111112,\n",
              " 0.3888888888888889,\n",
              " 0.46296296296296297,\n",
              " 0.4876543209876543,\n",
              " 0.5493827160493827,\n",
              " 0.4658385093167702,\n",
              " 0.5078125,\n",
              " 0.3950617283950617,\n",
              " 0.4691358024691358,\n",
              " 0.5045045045045045,\n",
              " 0.3888888888888889,\n",
              " 0.4876543209876543,\n",
              " 0.5321100917431193,\n",
              " 0.5123456790123457,\n",
              " 0.6038961038961039,\n",
              " 0.5909090909090909,\n",
              " 0.42424242424242425,\n",
              " 0.3271604938271605,\n",
              " 0.48125,\n",
              " 0.5900621118012422,\n",
              " 0.44025157232704404,\n",
              " 0.5432098765432098,\n",
              " 0.5246913580246914,\n",
              " 0.4691358024691358,\n",
              " 0.4876543209876543,\n",
              " 0.4658385093167702,\n",
              " 0.6242038216560509,\n",
              " 0.4720496894409938,\n",
              " 0.5897435897435898,\n",
              " 0.5093167701863354,\n",
              " 0.31666666666666665,\n",
              " 0.5864197530864198,\n",
              " 0.3246753246753247,\n",
              " 0.60431654676259,\n",
              " 0.45454545454545453,\n",
              " 0.4409937888198758,\n",
              " 0.5688073394495413,\n",
              " 0.3888888888888889,\n",
              " 0.5595238095238095,\n",
              " 0.5194805194805194,\n",
              " 0.5099337748344371,\n",
              " 0.5323741007194245,\n",
              " 0.5679012345679012,\n",
              " 0.42592592592592593,\n",
              " 0.609271523178808,\n",
              " 0.5432098765432098,\n",
              " 0.6511627906976745,\n",
              " 0.46296296296296297,\n",
              " 0.3148148148148148,\n",
              " 0.5617283950617284,\n",
              " 0.45454545454545453,\n",
              " 0.4,\n",
              " 0.46405228758169936,\n",
              " 0.4691358024691358,\n",
              " 0.5123456790123457,\n",
              " 0.6513157894736842,\n",
              " 0.7045454545454546,\n",
              " 0.6168831168831169,\n",
              " 0.4161490683229814,\n",
              " 0.6168831168831169,\n",
              " 0.42857142857142855,\n",
              " 0.4567901234567901,\n",
              " 0.4906832298136646,\n",
              " 0.5263157894736842,\n",
              " 0.36419753086419754,\n",
              " 0.5341614906832298,\n",
              " 0.44274809160305345,\n",
              " 0.5370370370370371,\n",
              " 0.5584415584415584,\n",
              " 0.487012987012987,\n",
              " 0.48201438848920863,\n",
              " 0.525974025974026,\n",
              " 0.4567901234567901,\n",
              " 0.44155844155844154,\n",
              " 0.627906976744186,\n",
              " 0.551948051948052,\n",
              " 0.4382716049382716,\n",
              " 0.46296296296296297,\n",
              " 0.4567901234567901,\n",
              " 0.577922077922078,\n",
              " 0.5679012345679012,\n",
              " 0.5703703703703704,\n",
              " 0.5,\n",
              " 0.49382716049382713,\n",
              " 0.4155844155844156,\n",
              " 0.3148148148148148,\n",
              " 0.6296296296296297,\n",
              " 0.39416058394160586,\n",
              " 0.5,\n",
              " 0.41358024691358025,\n",
              " 0.6168831168831169,\n",
              " 0.41975308641975306,\n",
              " 0.5087719298245614,\n",
              " 0.35947712418300654,\n",
              " 0.4868421052631579,\n",
              " 0.41975308641975306,\n",
              " 0.40869565217391307,\n",
              " 0.461038961038961,\n",
              " 0.49019607843137253,\n",
              " 0.5061728395061729,\n",
              " 0.35064935064935066,\n",
              " 0.6049382716049383,\n",
              " 0.43209876543209874,\n",
              " 0.4276315789473684,\n",
              " 0.47019867549668876,\n",
              " 0.5493827160493827,\n",
              " 0.44155844155844154,\n",
              " 0.4876543209876543,\n",
              " 0.6038961038961039,\n",
              " 0.47530864197530864,\n",
              " 0.512987012987013,\n",
              " 0.5894039735099338,\n",
              " 0.46296296296296297,\n",
              " 0.5234899328859061,\n",
              " 0.5061728395061729,\n",
              " 0.5357142857142857,\n",
              " 0.4968944099378882,\n",
              " 0.5246913580246914,\n",
              " 0.6587301587301587,\n",
              " 0.564935064935065,\n",
              " 0.55,\n",
              " 0.46296296296296297,\n",
              " 0.4567901234567901,\n",
              " 0.487012987012987,\n",
              " 0.5493827160493827,\n",
              " 0.6666666666666666,\n",
              " 0.3092105263157895,\n",
              " 0.5493827160493827,\n",
              " 0.512987012987013,\n",
              " 0.5565217391304348,\n",
              " 0.5789473684210527,\n",
              " 0.5185185185185185,\n",
              " 0.5061728395061729,\n",
              " 0.4819277108433735,\n",
              " 0.5246913580246914,\n",
              " 0.4818181818181818,\n",
              " 0.43506493506493504,\n",
              " 0.5545454545454546,\n",
              " 0.35294117647058826,\n",
              " 0.35294117647058826,\n",
              " 0.35185185185185186,\n",
              " 0.5727272727272728,\n",
              " 0.4506172839506173,\n",
              " 0.5031055900621118,\n",
              " 0.5098039215686274,\n",
              " 0.4876543209876543,\n",
              " 0.38509316770186336,\n",
              " 0.5617283950617284,\n",
              " 0.5679012345679012,\n",
              " 0.6857142857142857,\n",
              " 0.5308641975308642,\n",
              " 0.5,\n",
              " 0.5493827160493827,\n",
              " 0.4382716049382716,\n",
              " 0.35064935064935066,\n",
              " 0.5648854961832062,\n",
              " 0.4567901234567901,\n",
              " 0.5185185185185185,\n",
              " 0.5185185185185185,\n",
              " 0.3925925925925926,\n",
              " 0.5617283950617284,\n",
              " 0.6666666666666666,\n",
              " 0.5740740740740741,\n",
              " 0.5802469135802469,\n",
              " 0.32926829268292684,\n",
              " 0.49382716049382713,\n",
              " 0.4444444444444444,\n",
              " 0.3950617283950617,\n",
              " 0.4066666666666667,\n",
              " 0.4935064935064935,\n",
              " 0.3333333333333333,\n",
              " 0.5123456790123457,\n",
              " 0.4,\n",
              " 0.45454545454545453,\n",
              " 0.5679012345679012,\n",
              " 0.4876543209876543,\n",
              " 0.4036697247706422,\n",
              " 0.5802469135802469,\n",
              " 0.48148148148148145,\n",
              " 0.5625,\n",
              " 0.5740740740740741,\n",
              " 0.5234899328859061,\n",
              " 0.5723684210526315,\n",
              " 0.4720496894409938,\n",
              " 0.4567901234567901,\n",
              " 0.45454545454545453,\n",
              " 0.4716981132075472,\n",
              " 0.6038961038961039,\n",
              " 0.41358024691358025,\n",
              " 0.41358024691358025,\n",
              " 0.48148148148148145,\n",
              " 0.3246753246753247,\n",
              " 0.4649122807017544,\n",
              " 0.45864661654135336,\n",
              " 0.5279503105590062,\n",
              " 0.3761467889908257,\n",
              " 0.5462962962962963,\n",
              " 0.831858407079646,\n",
              " 0.4935064935064935,\n",
              " 0.5197368421052632,\n",
              " 0.5271317829457365,\n",
              " 0.5735294117647058,\n",
              " 0.5432098765432098,\n",
              " 0.4876543209876543,\n",
              " 0.4691358024691358,\n",
              " 0.5617283950617284,\n",
              " 0.5,\n",
              " 0.5987654320987654,\n",
              " 0.577922077922078,\n",
              " 0.6224489795918368,\n",
              " 0.4423076923076923,\n",
              " 0.24793388429752067,\n",
              " 0.4567901234567901,\n",
              " 0.4608695652173913,\n",
              " 0.5838509316770186,\n",
              " 0.5324675324675324,\n",
              " 0.5802469135802469,\n",
              " 0.5925925925925926,\n",
              " 0.4876543209876543,\n",
              " 0.5864197530864198,\n",
              " 0.4876543209876543,\n",
              " 0.4407894736842105,\n",
              " 0.6728395061728395,\n",
              " 0.5328467153284672,\n",
              " 0.5592105263157895,\n",
              " 0.5,\n",
              " 0.29770992366412213,\n",
              " 0.23333333333333334,\n",
              " 0.40789473684210525,\n",
              " 0.4382716049382716,\n",
              " 0.34868421052631576,\n",
              " 0.5123456790123457,\n",
              " 0.41975308641975306,\n",
              " 0.49382716049382713,\n",
              " 0.5246913580246914,\n",
              " 0.3888888888888889,\n",
              " 0.5075757575757576,\n",
              " 0.5194805194805194,\n",
              " 0.625,\n",
              " 0.475,\n",
              " 0.43506493506493504,\n",
              " 0.551948051948052,\n",
              " 0.4567901234567901,\n",
              " 0.5432098765432098,\n",
              " 0.36666666666666664,\n",
              " 0.35802469135802467,\n",
              " 0.3660130718954248,\n",
              " 0.5864197530864198,\n",
              " 0.5185185185185185,\n",
              " 0.5228758169934641,\n",
              " 0.5802469135802469,\n",
              " 0.5748031496062992,\n",
              " 0.44155844155844154,\n",
              " 0.5151515151515151,\n",
              " 0.6102941176470589,\n",
              " 0.4012345679012346,\n",
              " 0.5679012345679012,\n",
              " 0.4691358024691358,\n",
              " 0.4391891891891892,\n",
              " 0.5185185185185185,\n",
              " 0.5925925925925926,\n",
              " 0.47530864197530864,\n",
              " 0.5808823529411765,\n",
              " 0.2777777777777778,\n",
              " 0.37037037037037035,\n",
              " 0.5751633986928104,\n",
              " 0.4074074074074074,\n",
              " 0.5123456790123457,\n",
              " 0.5512820512820513,\n",
              " 0.4090909090909091,\n",
              " 0.43506493506493504,\n",
              " 0.4444444444444444,\n",
              " 0.38961038961038963,\n",
              " 0.5925925925925926,\n",
              " 0.6513157894736842,\n",
              " 0.47058823529411764,\n",
              " 0.6948051948051948,\n",
              " 0.4472049689440994,\n",
              " 0.5370370370370371,\n",
              " 0.5246913580246914,\n",
              " 0.5194805194805194,\n",
              " 0.6168831168831169,\n",
              " 0.6666666666666666,\n",
              " 0.5308641975308642,\n",
              " 0.512987012987013,\n",
              " 0.19047619047619047,\n",
              " 0.45,\n",
              " 0.45962732919254656,\n",
              " 0.6049382716049383,\n",
              " 0.6111111111111112,\n",
              " 0.48366013071895425,\n",
              " 0.5533333333333333,\n",
              " 0.48148148148148145,\n",
              " 0.487012987012987,\n",
              " 0.4625,\n",
              " 0.5827814569536424,\n",
              " 0.5308641975308642,\n",
              " 0.47530864197530864,\n",
              " 0.2857142857142857,\n",
              " 0.41975308641975306,\n",
              " 0.4864864864864865,\n",
              " 0.6103896103896104,\n",
              " 0.5061728395061729,\n",
              " 0.5033557046979866,\n",
              " 0.44805194805194803,\n",
              " 0.5987654320987654,\n",
              " 0.4485294117647059,\n",
              " 0.5064935064935064,\n",
              " 0.4074074074074074,\n",
              " 0.4691358024691358,\n",
              " 0.5123456790123457,\n",
              " 0.38562091503267976,\n",
              " 0.42857142857142855,\n",
              " 0.6068965517241379,\n",
              " 0.7767857142857143,\n",
              " 0.506578947368421,\n",
              " 0.5359477124183006,\n",
              " 0.36363636363636365,\n",
              " 0.4012345679012346,\n",
              " 0.5808823529411765,\n",
              " 0.5185185185185185,\n",
              " 0.5679012345679012,\n",
              " 0.487012987012987,\n",
              " 0.4276315789473684,\n",
              " 0.46296296296296297,\n",
              " 0.6143790849673203,\n",
              " 0.46296296296296297,\n",
              " 0.4658385093167702,\n",
              " 0.4506172839506173,\n",
              " 0.43506493506493504,\n",
              " 0.45454545454545453,\n",
              " 0.6038961038961039,\n",
              " 0.4155844155844156,\n",
              " 0.5784313725490197,\n",
              " 0.5679012345679012,\n",
              " 0.48672566371681414,\n",
              " 0.5432098765432098,\n",
              " 0.48148148148148145,\n",
              " 0.4074074074074074,\n",
              " 0.3918918918918919,\n",
              " 0.5308641975308642,\n",
              " 0.3881578947368421,\n",
              " 0.5657894736842105,\n",
              " 0.23728813559322035,\n",
              " 0.42857142857142855,\n",
              " 0.4513888888888889,\n",
              " 0.6190476190476191,\n",
              " 0.45751633986928103,\n",
              " 0.5617283950617284,\n",
              " 0.4342105263157895,\n",
              " 0.47058823529411764,\n",
              " 0.49382716049382713,\n",
              " 0.6078431372549019,\n",
              " 0.5308641975308642,\n",
              " 0.4596774193548387,\n",
              " 0.3051948051948052,\n",
              " 0.4906832298136646,\n",
              " 0.4,\n",
              " 0.5,\n",
              " 0.5555555555555556,\n",
              " 0.4161490683229814,\n",
              " 0.5660377358490566,\n",
              " 0.5864197530864198,\n",
              " 0.45864661654135336,\n",
              " 0.6134969325153374,\n",
              " 0.577922077922078,\n",
              " 0.4567901234567901,\n",
              " 0.5100671140939598,\n",
              " 0.32098765432098764,\n",
              " 0.515527950310559,\n",
              " 0.5308641975308642,\n",
              " 0.41358024691358025,\n",
              " 0.37037037037037035,\n",
              " 0.46875,\n",
              " 0.5185185185185185,\n",
              " 0.5700934579439252,\n",
              " 0.47530864197530864,\n",
              " 0.422360248447205,\n",
              " 0.5555555555555556,\n",
              " 0.4117647058823529,\n",
              " 0.512987012987013,\n",
              " 0.4791666666666667,\n",
              " 0.5802469135802469,\n",
              " 0.4935064935064935,\n",
              " 0.4691358024691358,\n",
              " 0.5974025974025974,\n",
              " 0.3888888888888889,\n",
              " 0.5617283950617284,\n",
              " 0.41358024691358025,\n",
              " 0.6405228758169934,\n",
              " 0.5493827160493827,\n",
              " 0.4382716049382716,\n",
              " 0.3815789473684211,\n",
              " 0.39805825242718446,\n",
              " 0.41975308641975306,\n",
              " 0.37267080745341613,\n",
              " 0.6296296296296297,\n",
              " 0.49382716049382713,\n",
              " 0.49606299212598426,\n",
              " 0.5133333333333333,\n",
              " 0.5246913580246914,\n",
              " 0.10344827586206896,\n",
              " 0.5370370370370371,\n",
              " 0.5679012345679012,\n",
              " 0.43209876543209874,\n",
              " 0.5474452554744526,\n",
              " 0.34415584415584416,\n",
              " 0.3148148148148148,\n",
              " 0.4868421052631579,\n",
              " 0.506578947368421,\n",
              " 0.42592592592592593,\n",
              " 0.5246913580246914,\n",
              " 0.5555555555555556,\n",
              " 0.43478260869565216,\n",
              " 0.3443708609271523,\n",
              " 0.34415584415584416,\n",
              " 0.3961038961038961,\n",
              " 0.4318181818181818,\n",
              " 0.538961038961039,\n",
              " 0.5,\n",
              " 0.5617283950617284,\n",
              " 0.5974025974025974,\n",
              " 0.3950617283950617,\n",
              " 0.43209876543209874,\n",
              " 0.5308641975308642,\n",
              " 0.5493827160493827,\n",
              " 0.40145985401459855,\n",
              " 0.5185185185185185,\n",
              " 0.3888888888888889,\n",
              " 0.40372670807453415,\n",
              " 0.45098039215686275,\n",
              " 0.5555555555555556,\n",
              " 0.484472049689441,\n",
              " 0.5493827160493827,\n",
              " 0.5555555555555556,\n",
              " 0.4691358024691358,\n",
              " 0.5528455284552846,\n",
              " 0.5844155844155844,\n",
              " 0.5954198473282443,\n",
              " 0.3271604938271605,\n",
              " 0.5,\n",
              " 0.0,\n",
              " 0.5,\n",
              " 0.3076923076923077,\n",
              " 0.5929203539823009,\n",
              " 0.5555555555555556,\n",
              " 0.42592592592592593,\n",
              " 0.362962962962963,\n",
              " 0.4691358024691358,\n",
              " 0.48148148148148145,\n",
              " 0.422360248447205,\n",
              " 0.375,\n",
              " 0.40875912408759124,\n",
              " 0.5061728395061729,\n",
              " 0.4074074074074074,\n",
              " 0.4782608695652174,\n",
              " 0.7,\n",
              " 0.35036496350364965,\n",
              " 0.46296296296296297,\n",
              " 0.4690265486725664,\n",
              " 0.5987654320987654,\n",
              " 0.525974025974026,\n",
              " 0.4649122807017544,\n",
              " 0.4090909090909091,\n",
              " 0.3724137931034483,\n",
              " 0.5194805194805194,\n",
              " 0.4691358024691358,\n",
              " 0.5123456790123457,\n",
              " 0.2900763358778626,\n",
              " 0.4720496894409938,\n",
              " 0.3246753246753247,\n",
              " 0.5644171779141104,\n",
              " 0.49382716049382713,\n",
              " 0.4876543209876543,\n",
              " 0.38961038961038963,\n",
              " 0.33116883116883117,\n",
              " 0.32450331125827814,\n",
              " 0.4506172839506173,\n",
              " 0.5679012345679012,\n",
              " 0.35185185185185186,\n",
              " 0.41358024691358025,\n",
              " 0.5617283950617284,\n",
              " 0.5864197530864198,\n",
              " 0.5521472392638037,\n",
              " 0.4012345679012346,\n",
              " 0.47297297297297297,\n",
              " 0.41975308641975306,\n",
              " 0.5194805194805194,\n",
              " 0.5925925925925926,\n",
              " 0.47530864197530864,\n",
              " 0.3116883116883117,\n",
              " 0.48366013071895425,\n",
              " 0.44525547445255476,\n",
              " 0.42857142857142855,\n",
              " 0.6103896103896104,\n",
              " 0.5228758169934641,\n",
              " 0.5370370370370371,\n",
              " 0.577922077922078,\n",
              " 0.48333333333333334,\n",
              " 0.5061728395061729,\n",
              " 0.4805194805194805,\n",
              " 0.5900621118012422,\n",
              " 0.3359375,\n",
              " 0.4506172839506173,\n",
              " 0.5099337748344371,\n",
              " 0.4090909090909091,\n",
              " 0.538961038961039,\n",
              " 0.4472049689440994,\n",
              " 0.43790849673202614,\n",
              " 0.5802469135802469,\n",
              " 0.625,\n",
              " 0.5466666666666666,\n",
              " 0.6178343949044586,\n",
              " 0.5123456790123457,\n",
              " 0.41358024691358025,\n",
              " 0.4642857142857143,\n",
              " 0.5123456790123457,\n",
              " 0.4900662251655629,\n",
              " 0.6103896103896104,\n",
              " 0.6875,\n",
              " 0.5038167938931297,\n",
              " 0.46296296296296297,\n",
              " 0.487012987012987,\n",
              " 0.5185185185185185,\n",
              " 0.41975308641975306,\n",
              " 0.5,\n",
              " 0.42857142857142855,\n",
              " 0.5733333333333334,\n",
              " 0.42592592592592593,\n",
              " 0.5197368421052632,\n",
              " 0.5454545454545454,\n",
              " 0.5308641975308642,\n",
              " 0.5308641975308642,\n",
              " 0.564935064935065,\n",
              " 0.4720496894409938,\n",
              " 0.5555555555555556,\n",
              " 0.49382716049382713,\n",
              " 0.5493827160493827,\n",
              " 0.4876543209876543,\n",
              " 0.25,\n",
              " 0.538961038961039,\n",
              " 0.5061728395061729,\n",
              " 0.4567901234567901,\n",
              " 0.5064935064935064,\n",
              " 0.5925925925925926,\n",
              " 0.4935064935064935,\n",
              " 0.4691358024691358,\n",
              " 0.49019607843137253,\n",
              " 0.45454545454545453,\n",
              " 0.4382716049382716]"
            ]
          },
          "metadata": {},
          "execution_count": 295
        }
      ]
    },
    {
      "cell_type": "code",
      "source": [
        "result_df = pd.DataFrame()\n",
        "result_df['teamID'] = inv\n",
        "result_df['win_prob_pred'] = list(y_pred)\n",
        "result_df['win_prob_pred'] *= 100\n",
        "result_df['win_prob_actual'] = list(y_test)\n",
        "result_df['win_prob_actual'] *= 100\n",
        "\n",
        "result_df"
      ],
      "metadata": {
        "colab": {
          "base_uri": "https://localhost:8080/",
          "height": 424
        },
        "id": "s9BVdpoXvrtM",
        "outputId": "3babb862-c620-4bdf-d345-c50f56a86122"
      },
      "execution_count": 297,
      "outputs": [
        {
          "output_type": "execute_result",
          "data": {
            "text/plain": [
              "    teamID  win_prob_pred  win_prob_actual\n",
              "0      PHA      53.335697        45.333333\n",
              "1      TEX      51.628452        51.388889\n",
              "2      CIN      50.720413        46.913580\n",
              "3      CHN      67.028137        67.973856\n",
              "4      BRO      44.607483        37.908497\n",
              "..     ...            ...              ...\n",
              "592    BSN      49.300457        49.350649\n",
              "593    OAK      48.166218        46.913580\n",
              "594    WS1      44.814037        49.019608\n",
              "595    CHA      52.419312        45.454545\n",
              "596    NYA      48.684399        43.827160\n",
              "\n",
              "[597 rows x 3 columns]"
            ],
            "text/html": [
              "\n",
              "  <div id=\"df-be5a7df2-4cb4-4a21-8e0a-aef9ca243e21\">\n",
              "    <div class=\"colab-df-container\">\n",
              "      <div>\n",
              "<style scoped>\n",
              "    .dataframe tbody tr th:only-of-type {\n",
              "        vertical-align: middle;\n",
              "    }\n",
              "\n",
              "    .dataframe tbody tr th {\n",
              "        vertical-align: top;\n",
              "    }\n",
              "\n",
              "    .dataframe thead th {\n",
              "        text-align: right;\n",
              "    }\n",
              "</style>\n",
              "<table border=\"1\" class=\"dataframe\">\n",
              "  <thead>\n",
              "    <tr style=\"text-align: right;\">\n",
              "      <th></th>\n",
              "      <th>teamID</th>\n",
              "      <th>win_prob_pred</th>\n",
              "      <th>win_prob_actual</th>\n",
              "    </tr>\n",
              "  </thead>\n",
              "  <tbody>\n",
              "    <tr>\n",
              "      <th>0</th>\n",
              "      <td>PHA</td>\n",
              "      <td>53.335697</td>\n",
              "      <td>45.333333</td>\n",
              "    </tr>\n",
              "    <tr>\n",
              "      <th>1</th>\n",
              "      <td>TEX</td>\n",
              "      <td>51.628452</td>\n",
              "      <td>51.388889</td>\n",
              "    </tr>\n",
              "    <tr>\n",
              "      <th>2</th>\n",
              "      <td>CIN</td>\n",
              "      <td>50.720413</td>\n",
              "      <td>46.913580</td>\n",
              "    </tr>\n",
              "    <tr>\n",
              "      <th>3</th>\n",
              "      <td>CHN</td>\n",
              "      <td>67.028137</td>\n",
              "      <td>67.973856</td>\n",
              "    </tr>\n",
              "    <tr>\n",
              "      <th>4</th>\n",
              "      <td>BRO</td>\n",
              "      <td>44.607483</td>\n",
              "      <td>37.908497</td>\n",
              "    </tr>\n",
              "    <tr>\n",
              "      <th>...</th>\n",
              "      <td>...</td>\n",
              "      <td>...</td>\n",
              "      <td>...</td>\n",
              "    </tr>\n",
              "    <tr>\n",
              "      <th>592</th>\n",
              "      <td>BSN</td>\n",
              "      <td>49.300457</td>\n",
              "      <td>49.350649</td>\n",
              "    </tr>\n",
              "    <tr>\n",
              "      <th>593</th>\n",
              "      <td>OAK</td>\n",
              "      <td>48.166218</td>\n",
              "      <td>46.913580</td>\n",
              "    </tr>\n",
              "    <tr>\n",
              "      <th>594</th>\n",
              "      <td>WS1</td>\n",
              "      <td>44.814037</td>\n",
              "      <td>49.019608</td>\n",
              "    </tr>\n",
              "    <tr>\n",
              "      <th>595</th>\n",
              "      <td>CHA</td>\n",
              "      <td>52.419312</td>\n",
              "      <td>45.454545</td>\n",
              "    </tr>\n",
              "    <tr>\n",
              "      <th>596</th>\n",
              "      <td>NYA</td>\n",
              "      <td>48.684399</td>\n",
              "      <td>43.827160</td>\n",
              "    </tr>\n",
              "  </tbody>\n",
              "</table>\n",
              "<p>597 rows × 3 columns</p>\n",
              "</div>\n",
              "      <button class=\"colab-df-convert\" onclick=\"convertToInteractive('df-be5a7df2-4cb4-4a21-8e0a-aef9ca243e21')\"\n",
              "              title=\"Convert this dataframe to an interactive table.\"\n",
              "              style=\"display:none;\">\n",
              "        \n",
              "  <svg xmlns=\"http://www.w3.org/2000/svg\" height=\"24px\"viewBox=\"0 0 24 24\"\n",
              "       width=\"24px\">\n",
              "    <path d=\"M0 0h24v24H0V0z\" fill=\"none\"/>\n",
              "    <path d=\"M18.56 5.44l.94 2.06.94-2.06 2.06-.94-2.06-.94-.94-2.06-.94 2.06-2.06.94zm-11 1L8.5 8.5l.94-2.06 2.06-.94-2.06-.94L8.5 2.5l-.94 2.06-2.06.94zm10 10l.94 2.06.94-2.06 2.06-.94-2.06-.94-.94-2.06-.94 2.06-2.06.94z\"/><path d=\"M17.41 7.96l-1.37-1.37c-.4-.4-.92-.59-1.43-.59-.52 0-1.04.2-1.43.59L10.3 9.45l-7.72 7.72c-.78.78-.78 2.05 0 2.83L4 21.41c.39.39.9.59 1.41.59.51 0 1.02-.2 1.41-.59l7.78-7.78 2.81-2.81c.8-.78.8-2.07 0-2.86zM5.41 20L4 18.59l7.72-7.72 1.47 1.35L5.41 20z\"/>\n",
              "  </svg>\n",
              "      </button>\n",
              "      \n",
              "  <style>\n",
              "    .colab-df-container {\n",
              "      display:flex;\n",
              "      flex-wrap:wrap;\n",
              "      gap: 12px;\n",
              "    }\n",
              "\n",
              "    .colab-df-convert {\n",
              "      background-color: #E8F0FE;\n",
              "      border: none;\n",
              "      border-radius: 50%;\n",
              "      cursor: pointer;\n",
              "      display: none;\n",
              "      fill: #1967D2;\n",
              "      height: 32px;\n",
              "      padding: 0 0 0 0;\n",
              "      width: 32px;\n",
              "    }\n",
              "\n",
              "    .colab-df-convert:hover {\n",
              "      background-color: #E2EBFA;\n",
              "      box-shadow: 0px 1px 2px rgba(60, 64, 67, 0.3), 0px 1px 3px 1px rgba(60, 64, 67, 0.15);\n",
              "      fill: #174EA6;\n",
              "    }\n",
              "\n",
              "    [theme=dark] .colab-df-convert {\n",
              "      background-color: #3B4455;\n",
              "      fill: #D2E3FC;\n",
              "    }\n",
              "\n",
              "    [theme=dark] .colab-df-convert:hover {\n",
              "      background-color: #434B5C;\n",
              "      box-shadow: 0px 1px 3px 1px rgba(0, 0, 0, 0.15);\n",
              "      filter: drop-shadow(0px 1px 2px rgba(0, 0, 0, 0.3));\n",
              "      fill: #FFFFFF;\n",
              "    }\n",
              "  </style>\n",
              "\n",
              "      <script>\n",
              "        const buttonEl =\n",
              "          document.querySelector('#df-be5a7df2-4cb4-4a21-8e0a-aef9ca243e21 button.colab-df-convert');\n",
              "        buttonEl.style.display =\n",
              "          google.colab.kernel.accessAllowed ? 'block' : 'none';\n",
              "\n",
              "        async function convertToInteractive(key) {\n",
              "          const element = document.querySelector('#df-be5a7df2-4cb4-4a21-8e0a-aef9ca243e21');\n",
              "          const dataTable =\n",
              "            await google.colab.kernel.invokeFunction('convertToInteractive',\n",
              "                                                     [key], {});\n",
              "          if (!dataTable) return;\n",
              "\n",
              "          const docLinkHtml = 'Like what you see? Visit the ' +\n",
              "            '<a target=\"_blank\" href=https://colab.research.google.com/notebooks/data_table.ipynb>data table notebook</a>'\n",
              "            + ' to learn more about interactive tables.';\n",
              "          element.innerHTML = '';\n",
              "          dataTable['output_type'] = 'display_data';\n",
              "          await google.colab.output.renderOutput(dataTable, element);\n",
              "          const docLink = document.createElement('div');\n",
              "          docLink.innerHTML = docLinkHtml;\n",
              "          element.appendChild(docLink);\n",
              "        }\n",
              "      </script>\n",
              "    </div>\n",
              "  </div>\n",
              "  "
            ]
          },
          "metadata": {},
          "execution_count": 297
        }
      ]
    },
    {
      "cell_type": "markdown",
      "source": [
        "## cross validation"
      ],
      "metadata": {
        "id": "lUCA86D9fpl3"
      }
    },
    {
      "cell_type": "code",
      "source": [
        "cv_score = model_selection.cross_val_score(reg_xgb, X_train, y_train, cv = 5, scoring = 'r2').mean()\n",
        "print(cv_score)"
      ],
      "metadata": {
        "colab": {
          "base_uri": "https://localhost:8080/"
        },
        "id": "7jjkSuUsfoSh",
        "outputId": "880217f3-933b-4c68-e15b-1afbc7268774"
      },
      "execution_count": 249,
      "outputs": [
        {
          "output_type": "stream",
          "name": "stdout",
          "text": [
            "0.4360197209958413\n"
          ]
        }
      ]
    },
    {
      "cell_type": "markdown",
      "source": [
        "## Plots"
      ],
      "metadata": {
        "id": "266kWh_yKv56"
      }
    },
    {
      "cell_type": "code",
      "source": [
        "plt.figure(figsize=(10, 10))\n",
        "plt.scatter(y_test, y_pred)\n",
        "plt.xlabel('predicted target')\n",
        "plt.ylabel('actual')\n",
        "plt.show()"
      ],
      "metadata": {
        "colab": {
          "base_uri": "https://localhost:8080/",
          "height": 606
        },
        "id": "ROptBAlPKzKw",
        "outputId": "c15fbd84-e10b-4840-bc73-4f58fd6e1469"
      },
      "execution_count": 305,
      "outputs": [
        {
          "output_type": "display_data",
          "data": {
            "text/plain": [
              "<Figure size 720x720 with 1 Axes>"
            ],
            "image/png": "[encoded data removed]"
          },
          "metadata": {
            "needs_background": "light"
          }
        }
      ]
    },
    {
      "cell_type": "markdown",
      "source": [
        "## other basic models "
      ],
      "metadata": {
        "id": "dsoM_sZ_hkwb"
      }
    },
    {
      "cell_type": "code",
      "source": [
        "imputer_mean = impute.SimpleImputer()\n",
        "X_train_ = imputer_mean.fit_transform(X_train)\n",
        "X_test_ = imputer_mean.transform(X_test)"
      ],
      "metadata": {
        "id": "8Mpd9u4vhp73"
      },
      "execution_count": 252,
      "outputs": []
    },
    {
      "cell_type": "code",
      "source": [
        "#@title linear regression\n",
        "\n",
        "reg1 = linear_model.LinearRegression()\n",
        "reg1.fit(X_train_, y_train)\n",
        "y_pred1 = reg1.predict(X_test_)\n",
        "print(metrics.r2_score(y_test, y_pred1))"
      ],
      "metadata": {
        "colab": {
          "base_uri": "https://localhost:8080/"
        },
        "cellView": "form",
        "id": "maU1yQcxiy0_",
        "outputId": "4ef2c874-1840-40dc-d3a7-38a6848fc102"
      },
      "execution_count": 254,
      "outputs": [
        {
          "output_type": "stream",
          "name": "stdout",
          "text": [
            "-1.6872669340836102e+19\n"
          ]
        }
      ]
    },
    {
      "cell_type": "code",
      "source": [
        "#@title decision tree\n",
        "reg2 = tree.DecisionTreeRegressor()\n",
        "reg2.fit(X_train_, y_train)\n",
        "y_pred2 = reg2.predict(X_test_)\n",
        "print(metrics.r2_score(y_test, y_pred2))"
      ],
      "metadata": {
        "colab": {
          "base_uri": "https://localhost:8080/"
        },
        "cellView": "form",
        "id": "GppGZM5qjH_b",
        "outputId": "ef840e75-20a4-419e-bd76-78c50a87b174"
      },
      "execution_count": 255,
      "outputs": [
        {
          "output_type": "stream",
          "name": "stdout",
          "text": [
            "-0.13121094463208105\n"
          ]
        }
      ]
    }
  ]
}