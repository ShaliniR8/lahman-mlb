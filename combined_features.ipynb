{
  "nbformat": 4,
  "nbformat_minor": 0,
  "metadata": {
    "colab": {
      "provenance": [],
      "name": "combined features.ipynb",
      "authorship_tag": "ABX9TyOD1gscj+cYuecTnkPF1G8F",
      "include_colab_link": true
    },
    "kernelspec": {
      "name": "python3",
      "display_name": "Python 3"
    },
    "language_info": {
      "name": "python"
    },
    "gpuClass": "standard"
  },
  "cells": [
    {
      "cell_type": "markdown",
      "metadata": {
        "id": "view-in-github",
        "colab_type": "text"
      },
      "source": [
        "<a href=\"https://colab.research.google.com/github/ShaliniR8/lahman-mlb/blob/main/combined_features.ipynb\" target=\"_parent\"><img src=\"https://colab.research.google.com/assets/colab-badge.svg\" alt=\"Open In Colab\"/></a>"
      ]
    },
    {
      "cell_type": "markdown",
      "source": [
        "## imports"
      ],
      "metadata": {
        "id": "gD6us8iDSKyT"
      }
    },
    {
      "cell_type": "code",
      "source": [
        "import os\n",
        "import pandas as pd\n",
        "import numpy as np\n",
        "import matplotlib.pyplot as plt"
      ],
      "metadata": {
        "id": "DoTTTZDgyXVt"
      },
      "execution_count": 1,
      "outputs": []
    },
    {
      "cell_type": "code",
      "source": [
        "from sklearn import preprocessing\n",
        "from sklearn import compose\n",
        "from sklearn import impute\n",
        "from sklearn import decomposition\n",
        "from sklearn import model_selection\n",
        "from sklearn import tree\n",
        "from sklearn.utils import compute_class_weight\n",
        "from sklearn import linear_model\n",
        "from sklearn import ensemble\n",
        "from sklearn import metrics\n",
        "from sklearn import pipeline"
      ],
      "metadata": {
        "id": "bjHZHcdq2Em0"
      },
      "execution_count": 2,
      "outputs": []
    },
    {
      "cell_type": "code",
      "execution_count": 3,
      "metadata": {
        "id": "ePTNl5aVs3j8"
      },
      "outputs": [],
      "source": [
        "%%capture\n",
        "!pip install xgboost"
      ]
    },
    {
      "cell_type": "code",
      "source": [
        "import xgboost as xgb"
      ],
      "metadata": {
        "id": "7j9_VpTrSDtK"
      },
      "execution_count": 4,
      "outputs": []
    },
    {
      "cell_type": "code",
      "source": [
        "#@title Load Dataset\n",
        "\n",
        "%%capture\n",
        "# ---- filtered (only from 1910) \n",
        "# !wget https://github.com/ShaliniR8/lahman-mlb/raw/main/baseballdatabase.zip\n",
        "# !unzip /content/baseballdatabase.zip -d \"/content/\"\n",
        "\n",
        "\n",
        "#---- full\n",
        "!wget https://github.com/ShaliniR8/lahman-mlb/raw/main/baseballdatabank_2022.zip\n",
        "!unzip /content/baseballdatabank_2022.zip -d \"/content/\"\n",
        "\n",
        "path = \"/content/baseballdatabank-2022.2/core/\"\n",
        "\n"
      ],
      "metadata": {
        "id": "g2fL6mw9s64h",
        "cellView": "form"
      },
      "execution_count": 5,
      "outputs": []
    },
    {
      "cell_type": "code",
      "source": [
        "batting = pd.read_csv(path + \"Batting.csv\")\n",
        "pitching = pd.read_csv(path + \"Pitching.csv\")\n",
        "people = pd.read_csv(path + \"People.csv\")\n",
        "# fielding = pd.read_csv(path + \"Fielding.csv\")\n",
        "teams = pd.read_csv(path + \"Teams.csv\")"
      ],
      "metadata": {
        "id": "K5k0dtuf9TnN"
      },
      "execution_count": 6,
      "outputs": []
    },
    {
      "cell_type": "markdown",
      "source": [
        "## Dataset"
      ],
      "metadata": {
        "id": "O4n14dOApCJk"
      }
    },
    {
      "cell_type": "code",
      "source": [
        "batting = batting[[\"playerID\",\"yearID\",\"teamID\", \"H\", \"BB\", \"HBP\", \"AB\", \"SF\", \"2B\", \"3B\", \"HR\"]].copy()\n",
        "pitching = pitching[[\"playerID\",\"yearID\",\"teamID\", \"ERA\"]].copy()\n",
        "people = people[['playerID', 'birthYear']].copy()\n",
        "teams = teams[['teamID', 'yearID', 'W', 'L']].copy()\n",
        "all_dfs = { \n",
        "    'batting': batting,\n",
        "    'pitching': pitching,\n",
        "    'people':people,\n",
        "    # 'fielding':fielding,\n",
        "    'teams':teams\n",
        "}"
      ],
      "metadata": {
        "id": "v8XqvsdR59SM"
      },
      "execution_count": 7,
      "outputs": []
    },
    {
      "cell_type": "markdown",
      "source": [
        "## Cleaning"
      ],
      "metadata": {
        "id": "fh7Ib-e562c8"
      }
    },
    {
      "cell_type": "code",
      "source": [
        "\n",
        "def cleanX(X):\n",
        "  categorical_features = X.select_dtypes(\"object\").columns.to_list()\n",
        "  numerical_features = X.select_dtypes([\"int64\", \"float64\"]).columns.to_list()\n",
        "  knnImp = impute.KNNImputer(missing_values=np.nan)\n",
        "  simpleImp = impute.SimpleImputer(strategy = 'median', missing_values=np.nan)\n",
        "  Ximputer = compose.ColumnTransformer([\n",
        "    ('categorical', knnImp, categorical_features),\n",
        "    ('numerical', simpleImp, numerical_features)\n",
        "  ])\n",
        "  X_ = Ximputer.fit_transform(X)\n",
        "\n",
        "  return X_"
      ],
      "metadata": {
        "id": "mP8gjfgIyQIN"
      },
      "execution_count": 8,
      "outputs": []
    },
    {
      "cell_type": "code",
      "source": [
        "for name,df in all_dfs.items():\n",
        "  not_keys = list(set(df.columns.to_list()) - {'teamID', 'playerID'})\n",
        "  keys = list(set(df.columns.to_list()) - set(not_keys))\n",
        "  imputedX = pd.DataFrame(cleanX(df[not_keys]), columns = not_keys, dtype='int64')\n",
        "  all_dfs[name] = pd.concat([df[keys], imputedX], axis = 1)\n",
        "  print(name)\n",
        "  print(all_dfs[name].info())\n",
        "  \n"
      ],
      "metadata": {
        "id": "TGPoSuGp0SVl",
        "colab": {
          "base_uri": "https://localhost:8080/"
        },
        "outputId": "200e4e9d-5899-4df8-b587-9db74d9f4b71"
      },
      "execution_count": 9,
      "outputs": [
        {
          "output_type": "stream",
          "name": "stdout",
          "text": [
            "batting\n",
            "<class 'pandas.core.frame.DataFrame'>\n",
            "RangeIndex: 110495 entries, 0 to 110494\n",
            "Data columns (total 11 columns):\n",
            " #   Column    Non-Null Count   Dtype \n",
            "---  ------    --------------   ----- \n",
            " 0   playerID  110495 non-null  object\n",
            " 1   teamID    110495 non-null  object\n",
            " 2   3B        110495 non-null  int64 \n",
            " 3   BB        110495 non-null  int64 \n",
            " 4   H         110495 non-null  int64 \n",
            " 5   HBP       110495 non-null  int64 \n",
            " 6   SF        110495 non-null  int64 \n",
            " 7   AB        110495 non-null  int64 \n",
            " 8   HR        110495 non-null  int64 \n",
            " 9   yearID    110495 non-null  int64 \n",
            " 10  2B        110495 non-null  int64 \n",
            "dtypes: int64(9), object(2)\n",
            "memory usage: 9.3+ MB\n",
            "None\n",
            "pitching\n",
            "<class 'pandas.core.frame.DataFrame'>\n",
            "RangeIndex: 49430 entries, 0 to 49429\n",
            "Data columns (total 4 columns):\n",
            " #   Column    Non-Null Count  Dtype \n",
            "---  ------    --------------  ----- \n",
            " 0   playerID  49430 non-null  object\n",
            " 1   teamID    49430 non-null  object\n",
            " 2   yearID    49430 non-null  int64 \n",
            " 3   ERA       49430 non-null  int64 \n",
            "dtypes: int64(2), object(2)\n",
            "memory usage: 1.5+ MB\n",
            "None\n",
            "people\n",
            "<class 'pandas.core.frame.DataFrame'>\n",
            "RangeIndex: 20370 entries, 0 to 20369\n",
            "Data columns (total 2 columns):\n",
            " #   Column     Non-Null Count  Dtype \n",
            "---  ------     --------------  ----- \n",
            " 0   playerID   20370 non-null  object\n",
            " 1   birthYear  20370 non-null  int64 \n",
            "dtypes: int64(1), object(1)\n",
            "memory usage: 318.4+ KB\n",
            "None\n",
            "teams\n",
            "<class 'pandas.core.frame.DataFrame'>\n",
            "RangeIndex: 2985 entries, 0 to 2984\n",
            "Data columns (total 4 columns):\n",
            " #   Column  Non-Null Count  Dtype \n",
            "---  ------  --------------  ----- \n",
            " 0   teamID  2985 non-null   object\n",
            " 1   yearID  2985 non-null   int64 \n",
            " 2   W       2985 non-null   int64 \n",
            " 3   L       2985 non-null   int64 \n",
            "dtypes: int64(3), object(1)\n",
            "memory usage: 93.4+ KB\n",
            "None\n"
          ]
        },
        {
          "output_type": "stream",
          "name": "stderr",
          "text": [
            "/usr/local/lib/python3.7/dist-packages/ipykernel_launcher.py:4: FutureWarning: In a future version, passing float-dtype values and an integer dtype to DataFrame will retain floating dtype if they cannot be cast losslessly (matching Series behavior). To retain the old behavior, use DataFrame(data).astype(dtype)\n",
            "  after removing the cwd from sys.path.\n"
          ]
        }
      ]
    },
    {
      "cell_type": "markdown",
      "source": [
        "## Constructing Features\n",
        "\n",
        "No need to run this after the feature is already constructed "
      ],
      "metadata": {
        "id": "jAWaH5maRzTJ"
      }
    },
    {
      "cell_type": "code",
      "source": [
        "def win_perc(team, year):\n",
        "    team_year = teams[(teams['yearID'] == year) & (teams['teamID'] == team)]\n",
        "    if team_year.empty:\n",
        "        return np.nan\n",
        "    team_year = team_year.iloc[0]\n",
        "    w = team_year['W']\n",
        "    l = team_year['L']\n",
        "    return w / (w + l)\n",
        "\n",
        "\n",
        "def get_rolling_win_perc (row):\n",
        "    year = row['yearID']\n",
        "    team = row['teamID']\n",
        "    year1 = win_perc(team, year - 1)\n",
        "    year2 = win_perc(team, year - 2)\n",
        "    year3 = win_perc(team, year - 3)\n",
        "    year4 = win_perc(team, year - 4)\n",
        "    year5 = win_perc(team, year - 5)\n",
        "    if (year1 == np.nan or year2 == np.nan or year3 == np.nan or year3 == np.nan or year4 == np.nan or year5 == np.nan):\n",
        "      if (year1 == np.nan or year2 == np.nan or year3 ==np.nan):\n",
        "        if year1 == np.nan: \n",
        "          return (year, team, np.nan, np.nan, np.nan)\n",
        "        else:\n",
        "          return (year, team, year1, np.nan, np.nan)\n",
        "      else:\n",
        "        return (year, team, year1, (year1 + year2 + year3)/3, np.nan )\n",
        "    else: \n",
        "        return (year, team, year1, (year1 + year2 + year3)/3, (year1 + year2 + year3 + year4 + year5)/5)\n"
      ],
      "metadata": {
        "id": "5rFfyDpq4u_I"
      },
      "execution_count": 56,
      "outputs": []
    },
    {
      "cell_type": "code",
      "source": [
        "def get_age(row):\n",
        "  playerID = row['playerID']\n",
        "  yearID = row['yearID']\n",
        "  birthYear = people[people['playerID'] == playerID]['birthYear']\n",
        "  birthYear = birthYear.iloc[0]\n",
        "  age = yearID - birthYear\n",
        "  row['age'] = age\n",
        "  return row"
      ],
      "metadata": {
        "id": "VtDNJQb_Dllj"
      },
      "execution_count": 57,
      "outputs": []
    },
    {
      "cell_type": "code",
      "source": [
        "def ops_calc(row):\n",
        "  #calc done on rows of batting table\n",
        "  if row['AB'] == 0:\n",
        "      return np.nan\n",
        "  HBP = row[\"HBP\"]\n",
        "  SF = row[\"SF\"]\n",
        "  singles = row[\"H\"] - row[\"2B\"] - row[\"3B\"] - row[\"HR\"]\n",
        "  obp = (row[\"H\"] + row[\"BB\"] + HBP) / (row[\"AB\"] + row[\"BB\"] + SF + HBP)\n",
        "  slug = (singles + (2 * row[\"2B\"]) + (3 * row[\"3B\"]) + (4 * row[\"HR\"])) / row[\"AB\"]\n",
        " \n",
        "  return slug + obp \n",
        "\n",
        "def get_ops(row):\n",
        "  year = row['yearID'] - 1\n",
        "  team = row['teamID']\n",
        "  player = row[\"playerID\"]\n",
        "  row['ops'] = np.nan\n",
        "  filtered_df = batting[(batting['yearID'] == year) & (batting['teamID'] == team) & (batting['playerID'] == player)]\n",
        "  if filtered_df.empty:\n",
        "      return row\n",
        "  filtered_df = filtered_df.iloc[0]\n",
        "  row['ops'] = ops_calc(filtered_df)\n",
        "  return row"
      ],
      "metadata": {
        "id": "4HASY-XJTael"
      },
      "execution_count": 58,
      "outputs": []
    },
    {
      "cell_type": "code",
      "source": [
        "teams = all_dfs['teams']\n",
        "pitching = all_dfs['pitching']\n",
        "people = all_dfs['people']\n",
        "batting = all_dfs['batting']"
      ],
      "metadata": {
        "id": "gD3XTbG1yoYK"
      },
      "execution_count": 59,
      "outputs": []
    },
    {
      "cell_type": "code",
      "source": [
        "# teams winning perc\n",
        "p = teams.apply(lambda x: get_rolling_win_perc(x), axis = 1).copy()\n",
        "t_features = pd.DataFrame(list(p), columns = ['yearID', 'teamID', 'prev_year_win_perc', 'rolling_3_win_perc', 'rolling_5_win_perc'])"
      ],
      "metadata": {
        "id": "ZXGH2UTh0dZt"
      },
      "execution_count": null,
      "outputs": []
    },
    {
      "cell_type": "code",
      "source": [
        "#pitcher ages\n",
        "ages = pitching.apply(lambda x: get_age(x), axis = 1).copy()"
      ],
      "metadata": {
        "id": "oPQewMuoCCqU"
      },
      "execution_count": null,
      "outputs": []
    },
    {
      "cell_type": "code",
      "source": [
        "#median era and mean pitching age\n",
        "p_features = ages.groupby(['teamID', 'yearID']).agg({'ERA':'median', \n",
        "                                                            'age':'mean'}).reset_index()\n",
        "p_features = p_features.rename(columns = {\"ERA\": \"medianERA\", 'age': 'pitcherAverageAge'})"
      ],
      "metadata": {
        "id": "6Ptd-O4cuC9M"
      },
      "execution_count": null,
      "outputs": []
    },
    {
      "cell_type": "code",
      "source": [
        "#batter ages\n",
        "ages = batting.apply(lambda x: get_age(x), axis = 1).copy()"
      ],
      "metadata": {
        "id": "Rv3O583-Dt1b"
      },
      "execution_count": null,
      "outputs": []
    },
    {
      "cell_type": "code",
      "source": [
        "ops = ages.apply(lambda x: get_ops(x), axis=1).copy()"
      ],
      "metadata": {
        "id": "WtAiaD1ypQLE"
      },
      "execution_count": null,
      "outputs": []
    },
    {
      "cell_type": "code",
      "source": [
        "#median ops and average age\n",
        "\n",
        "b_features = ops.groupby(['teamID', 'yearID']).agg({'age':'mean', \n",
        "                                                            'ops':'median'}).reset_index()\n",
        "b_features = b_features.rename(columns = {\"age\": \"batterAverageAge\", \"ops\": \"medianOPS\"})\n",
        "\n"
      ],
      "metadata": {
        "id": "1SS-0Lgyg2aD"
      },
      "execution_count": null,
      "outputs": []
    },
    {
      "cell_type": "markdown",
      "source": [
        "## construct target data\n",
        "\n"
      ],
      "metadata": {
        "id": "oALVRISF7pxa"
      }
    },
    {
      "cell_type": "code",
      "source": [
        "y = teams.apply(lambda y: y['W']/ (y['W'] + y['L']), axis=1)\n"
      ],
      "metadata": {
        "id": "VdszIwG17nGJ"
      },
      "execution_count": 131,
      "outputs": []
    },
    {
      "cell_type": "markdown",
      "source": [
        "## Load constructed features "
      ],
      "metadata": {
        "id": "pYwFen1i2wAR"
      }
    },
    {
      "cell_type": "code",
      "source": [
        "%%capture\n",
        "!wget https://github.com/ShaliniR8/lahman-mlb/raw/main/b_features.csv \n",
        "!wget https://github.com/ShaliniR8/lahman-mlb/raw/main/p_features.csv \n",
        "!wget https://github.com/ShaliniR8/lahman-mlb/raw/main/t_features.csv "
      ],
      "metadata": {
        "id": "rrvilcHH2ugC"
      },
      "execution_count": 132,
      "outputs": []
    },
    {
      "cell_type": "code",
      "source": [
        "b_features = pd.read_csv('/content/b_features.csv').drop(columns = ['Unnamed: 0'])\n",
        "p_features = pd.read_csv('/content/p_features.csv').drop(columns = ['Unnamed: 0'])\n",
        "t_features = pd.read_csv('/content/t_features.csv').drop(columns = ['Unnamed: 0'])"
      ],
      "metadata": {
        "id": "hMMX6ylF3-KI"
      },
      "execution_count": 133,
      "outputs": []
    },
    {
      "cell_type": "code",
      "source": [
        "cols_to_merge_on = list(set(t_features.columns).intersection(set(p_features.columns)))\n",
        "print(cols_to_merge_on)\n",
        "temp1 = pd.merge(t_features, p_features, how='inner', left_on = cols_to_merge_on, right_on = cols_to_merge_on)"
      ],
      "metadata": {
        "id": "aa4cvOLO4lD6",
        "colab": {
          "base_uri": "https://localhost:8080/"
        },
        "outputId": "024d8628-f38d-40ac-faa9-954e5898a28e"
      },
      "execution_count": 134,
      "outputs": [
        {
          "output_type": "stream",
          "name": "stdout",
          "text": [
            "['yearID', 'teamID']\n"
          ]
        }
      ]
    },
    {
      "cell_type": "code",
      "source": [
        "cols_to_merge_on = list(set(b_features.columns).intersection(set(temp1.columns)))\n",
        "features = pd.merge(temp1, b_features, how='inner', left_on=cols_to_merge_on, right_on=cols_to_merge_on)"
      ],
      "metadata": {
        "id": "UJETKYCY70FL"
      },
      "execution_count": 135,
      "outputs": []
    },
    {
      "cell_type": "markdown",
      "source": [
        "## preprocess"
      ],
      "metadata": {
        "id": "M3k9hWYFYKn-"
      }
    },
    {
      "cell_type": "code",
      "source": [
        "ohe = preprocessing.OneHotEncoder()\n",
        "ss = preprocessing.StandardScaler()\n",
        "year_array = list(set(features['yearID']))\n",
        "year_array.sort()\n",
        "mm = preprocessing.MinMaxScaler(feature_range=(0, len(set(features['yearID']))-1))"
      ],
      "metadata": {
        "id": "kvn5YYbNXGo7"
      },
      "execution_count": 136,
      "outputs": []
    },
    {
      "cell_type": "code",
      "source": [
        "fcols = list(features.columns)\n",
        "fcols.remove('teamID')\n",
        "fcols.remove('yearID')\n",
        "print(fcols)"
      ],
      "metadata": {
        "id": "0Occe6idlRTS",
        "outputId": "5cf6138a-e9ae-4059-e6ef-7be0ad2bfe0f",
        "colab": {
          "base_uri": "https://localhost:8080/"
        }
      },
      "execution_count": 137,
      "outputs": [
        {
          "output_type": "stream",
          "name": "stdout",
          "text": [
            "['prev_year_win_perc', 'rolling_3_win_perc', 'rolling_5_win_perc', 'medianERA', 'pitcherAverageAge', 'batterAverageAge', 'medianOPS']\n"
          ]
        }
      ]
    },
    {
      "cell_type": "code",
      "source": [
        "# perctages and ages std scaled\n",
        "features_ss = ss.fit_transform(features[fcols])\n",
        "features[fcols] = features_ss"
      ],
      "metadata": {
        "id": "WPuY_9AhlJ5T"
      },
      "execution_count": 138,
      "outputs": []
    },
    {
      "cell_type": "code",
      "source": [
        "# scaling down year\n",
        "ymm = mm.fit_transform(features[['yearID']]).astype('int64')\n",
        "ymm = ymm.reshape(1, -1)[0]\n",
        "features['yearID'] = pd.Series(ymm)"
      ],
      "metadata": {
        "id": "h8fqJtlFY1DL"
      },
      "execution_count": 139,
      "outputs": []
    },
    {
      "cell_type": "code",
      "source": [
        "# one hot encoding teamID\n",
        "teamID = features[['teamID']]\n",
        "teamID_ohe = ohe.fit_transform(teamID)\n",
        "tid_names = list(ohe.get_feature_names_out())\n",
        "teamID_df = pd.DataFrame(teamID_ohe.toarray(), columns= tid_names, dtype = 'int64')\n",
        "features = features.drop(columns = ['teamID'])\n",
        "X = pd.concat([teamID_df, features], axis = 1)"
      ],
      "metadata": {
        "id": "iNsmd0e6ZJJS"
      },
      "execution_count": 140,
      "outputs": []
    },
    {
      "cell_type": "code",
      "source": [
        "X.head()"
      ],
      "metadata": {
        "colab": {
          "base_uri": "https://localhost:8080/",
          "height": 0
        },
        "id": "HZfMsQ1kalVc",
        "outputId": "7439ab7d-fd54-40cb-9bcd-859bd32de37e"
      },
      "execution_count": 141,
      "outputs": [
        {
          "output_type": "execute_result",
          "data": {
            "text/plain": [
              "   teamID_ALT  teamID_ANA  teamID_ARI  teamID_ATL  teamID_BAL  teamID_BFN  \\\n",
              "0           0           0           0           0           0           0   \n",
              "1           0           0           0           0           0           0   \n",
              "2           0           0           0           0           0           0   \n",
              "3           0           0           0           0           0           0   \n",
              "4           0           0           0           0           0           0   \n",
              "\n",
              "   teamID_BFP  teamID_BL1  teamID_BL2  teamID_BL3  ...  teamID_WS9  \\\n",
              "0           0           0           0           0  ...           0   \n",
              "1           0           0           0           0  ...           0   \n",
              "2           0           0           0           0  ...           0   \n",
              "3           0           0           0           0  ...           0   \n",
              "4           0           0           0           0  ...           0   \n",
              "\n",
              "   teamID_WSU  yearID  prev_year_win_perc  rolling_3_win_perc  \\\n",
              "0           0       0                 NaN                 NaN   \n",
              "1           0       0                 NaN                 NaN   \n",
              "2           0       0                 NaN                 NaN   \n",
              "3           0       0                 NaN                 NaN   \n",
              "4           0       0                 NaN                 NaN   \n",
              "\n",
              "   rolling_5_win_perc  medianERA  pitcherAverageAge  batterAverageAge  \\\n",
              "0                 NaN   0.975867           0.246971         -1.187270   \n",
              "1                 NaN  -1.182682          -0.568166         -1.430563   \n",
              "2                 NaN   0.975867          -1.057247         -2.612721   \n",
              "3                 NaN   1.515504          -2.524493         -9.164149   \n",
              "4                 NaN   6.911877          -0.785535         -0.700682   \n",
              "\n",
              "   medianOPS  \n",
              "0        NaN  \n",
              "1        NaN  \n",
              "2        NaN  \n",
              "3        NaN  \n",
              "4        NaN  \n",
              "\n",
              "[5 rows x 157 columns]"
            ],
            "text/html": [
              "\n",
              "  <div id=\"df-f83b98d7-50b0-45e1-be02-375cc9d371ff\">\n",
              "    <div class=\"colab-df-container\">\n",
              "      <div>\n",
              "<style scoped>\n",
              "    .dataframe tbody tr th:only-of-type {\n",
              "        vertical-align: middle;\n",
              "    }\n",
              "\n",
              "    .dataframe tbody tr th {\n",
              "        vertical-align: top;\n",
              "    }\n",
              "\n",
              "    .dataframe thead th {\n",
              "        text-align: right;\n",
              "    }\n",
              "</style>\n",
              "<table border=\"1\" class=\"dataframe\">\n",
              "  <thead>\n",
              "    <tr style=\"text-align: right;\">\n",
              "      <th></th>\n",
              "      <th>teamID_ALT</th>\n",
              "      <th>teamID_ANA</th>\n",
              "      <th>teamID_ARI</th>\n",
              "      <th>teamID_ATL</th>\n",
              "      <th>teamID_BAL</th>\n",
              "      <th>teamID_BFN</th>\n",
              "      <th>teamID_BFP</th>\n",
              "      <th>teamID_BL1</th>\n",
              "      <th>teamID_BL2</th>\n",
              "      <th>teamID_BL3</th>\n",
              "      <th>...</th>\n",
              "      <th>teamID_WS9</th>\n",
              "      <th>teamID_WSU</th>\n",
              "      <th>yearID</th>\n",
              "      <th>prev_year_win_perc</th>\n",
              "      <th>rolling_3_win_perc</th>\n",
              "      <th>rolling_5_win_perc</th>\n",
              "      <th>medianERA</th>\n",
              "      <th>pitcherAverageAge</th>\n",
              "      <th>batterAverageAge</th>\n",
              "      <th>medianOPS</th>\n",
              "    </tr>\n",
              "  </thead>\n",
              "  <tbody>\n",
              "    <tr>\n",
              "      <th>0</th>\n",
              "      <td>0</td>\n",
              "      <td>0</td>\n",
              "      <td>0</td>\n",
              "      <td>0</td>\n",
              "      <td>0</td>\n",
              "      <td>0</td>\n",
              "      <td>0</td>\n",
              "      <td>0</td>\n",
              "      <td>0</td>\n",
              "      <td>0</td>\n",
              "      <td>...</td>\n",
              "      <td>0</td>\n",
              "      <td>0</td>\n",
              "      <td>0</td>\n",
              "      <td>NaN</td>\n",
              "      <td>NaN</td>\n",
              "      <td>NaN</td>\n",
              "      <td>0.975867</td>\n",
              "      <td>0.246971</td>\n",
              "      <td>-1.187270</td>\n",
              "      <td>NaN</td>\n",
              "    </tr>\n",
              "    <tr>\n",
              "      <th>1</th>\n",
              "      <td>0</td>\n",
              "      <td>0</td>\n",
              "      <td>0</td>\n",
              "      <td>0</td>\n",
              "      <td>0</td>\n",
              "      <td>0</td>\n",
              "      <td>0</td>\n",
              "      <td>0</td>\n",
              "      <td>0</td>\n",
              "      <td>0</td>\n",
              "      <td>...</td>\n",
              "      <td>0</td>\n",
              "      <td>0</td>\n",
              "      <td>0</td>\n",
              "      <td>NaN</td>\n",
              "      <td>NaN</td>\n",
              "      <td>NaN</td>\n",
              "      <td>-1.182682</td>\n",
              "      <td>-0.568166</td>\n",
              "      <td>-1.430563</td>\n",
              "      <td>NaN</td>\n",
              "    </tr>\n",
              "    <tr>\n",
              "      <th>2</th>\n",
              "      <td>0</td>\n",
              "      <td>0</td>\n",
              "      <td>0</td>\n",
              "      <td>0</td>\n",
              "      <td>0</td>\n",
              "      <td>0</td>\n",
              "      <td>0</td>\n",
              "      <td>0</td>\n",
              "      <td>0</td>\n",
              "      <td>0</td>\n",
              "      <td>...</td>\n",
              "      <td>0</td>\n",
              "      <td>0</td>\n",
              "      <td>0</td>\n",
              "      <td>NaN</td>\n",
              "      <td>NaN</td>\n",
              "      <td>NaN</td>\n",
              "      <td>0.975867</td>\n",
              "      <td>-1.057247</td>\n",
              "      <td>-2.612721</td>\n",
              "      <td>NaN</td>\n",
              "    </tr>\n",
              "    <tr>\n",
              "      <th>3</th>\n",
              "      <td>0</td>\n",
              "      <td>0</td>\n",
              "      <td>0</td>\n",
              "      <td>0</td>\n",
              "      <td>0</td>\n",
              "      <td>0</td>\n",
              "      <td>0</td>\n",
              "      <td>0</td>\n",
              "      <td>0</td>\n",
              "      <td>0</td>\n",
              "      <td>...</td>\n",
              "      <td>0</td>\n",
              "      <td>0</td>\n",
              "      <td>0</td>\n",
              "      <td>NaN</td>\n",
              "      <td>NaN</td>\n",
              "      <td>NaN</td>\n",
              "      <td>1.515504</td>\n",
              "      <td>-2.524493</td>\n",
              "      <td>-9.164149</td>\n",
              "      <td>NaN</td>\n",
              "    </tr>\n",
              "    <tr>\n",
              "      <th>4</th>\n",
              "      <td>0</td>\n",
              "      <td>0</td>\n",
              "      <td>0</td>\n",
              "      <td>0</td>\n",
              "      <td>0</td>\n",
              "      <td>0</td>\n",
              "      <td>0</td>\n",
              "      <td>0</td>\n",
              "      <td>0</td>\n",
              "      <td>0</td>\n",
              "      <td>...</td>\n",
              "      <td>0</td>\n",
              "      <td>0</td>\n",
              "      <td>0</td>\n",
              "      <td>NaN</td>\n",
              "      <td>NaN</td>\n",
              "      <td>NaN</td>\n",
              "      <td>6.911877</td>\n",
              "      <td>-0.785535</td>\n",
              "      <td>-0.700682</td>\n",
              "      <td>NaN</td>\n",
              "    </tr>\n",
              "  </tbody>\n",
              "</table>\n",
              "<p>5 rows × 157 columns</p>\n",
              "</div>\n",
              "      <button class=\"colab-df-convert\" onclick=\"convertToInteractive('df-f83b98d7-50b0-45e1-be02-375cc9d371ff')\"\n",
              "              title=\"Convert this dataframe to an interactive table.\"\n",
              "              style=\"display:none;\">\n",
              "        \n",
              "  <svg xmlns=\"http://www.w3.org/2000/svg\" height=\"24px\"viewBox=\"0 0 24 24\"\n",
              "       width=\"24px\">\n",
              "    <path d=\"M0 0h24v24H0V0z\" fill=\"none\"/>\n",
              "    <path d=\"M18.56 5.44l.94 2.06.94-2.06 2.06-.94-2.06-.94-.94-2.06-.94 2.06-2.06.94zm-11 1L8.5 8.5l.94-2.06 2.06-.94-2.06-.94L8.5 2.5l-.94 2.06-2.06.94zm10 10l.94 2.06.94-2.06 2.06-.94-2.06-.94-.94-2.06-.94 2.06-2.06.94z\"/><path d=\"M17.41 7.96l-1.37-1.37c-.4-.4-.92-.59-1.43-.59-.52 0-1.04.2-1.43.59L10.3 9.45l-7.72 7.72c-.78.78-.78 2.05 0 2.83L4 21.41c.39.39.9.59 1.41.59.51 0 1.02-.2 1.41-.59l7.78-7.78 2.81-2.81c.8-.78.8-2.07 0-2.86zM5.41 20L4 18.59l7.72-7.72 1.47 1.35L5.41 20z\"/>\n",
              "  </svg>\n",
              "      </button>\n",
              "      \n",
              "  <style>\n",
              "    .colab-df-container {\n",
              "      display:flex;\n",
              "      flex-wrap:wrap;\n",
              "      gap: 12px;\n",
              "    }\n",
              "\n",
              "    .colab-df-convert {\n",
              "      background-color: #E8F0FE;\n",
              "      border: none;\n",
              "      border-radius: 50%;\n",
              "      cursor: pointer;\n",
              "      display: none;\n",
              "      fill: #1967D2;\n",
              "      height: 32px;\n",
              "      padding: 0 0 0 0;\n",
              "      width: 32px;\n",
              "    }\n",
              "\n",
              "    .colab-df-convert:hover {\n",
              "      background-color: #E2EBFA;\n",
              "      box-shadow: 0px 1px 2px rgba(60, 64, 67, 0.3), 0px 1px 3px 1px rgba(60, 64, 67, 0.15);\n",
              "      fill: #174EA6;\n",
              "    }\n",
              "\n",
              "    [theme=dark] .colab-df-convert {\n",
              "      background-color: #3B4455;\n",
              "      fill: #D2E3FC;\n",
              "    }\n",
              "\n",
              "    [theme=dark] .colab-df-convert:hover {\n",
              "      background-color: #434B5C;\n",
              "      box-shadow: 0px 1px 3px 1px rgba(0, 0, 0, 0.15);\n",
              "      filter: drop-shadow(0px 1px 2px rgba(0, 0, 0, 0.3));\n",
              "      fill: #FFFFFF;\n",
              "    }\n",
              "  </style>\n",
              "\n",
              "      <script>\n",
              "        const buttonEl =\n",
              "          document.querySelector('#df-f83b98d7-50b0-45e1-be02-375cc9d371ff button.colab-df-convert');\n",
              "        buttonEl.style.display =\n",
              "          google.colab.kernel.accessAllowed ? 'block' : 'none';\n",
              "\n",
              "        async function convertToInteractive(key) {\n",
              "          const element = document.querySelector('#df-f83b98d7-50b0-45e1-be02-375cc9d371ff');\n",
              "          const dataTable =\n",
              "            await google.colab.kernel.invokeFunction('convertToInteractive',\n",
              "                                                     [key], {});\n",
              "          if (!dataTable) return;\n",
              "\n",
              "          const docLinkHtml = 'Like what you see? Visit the ' +\n",
              "            '<a target=\"_blank\" href=https://colab.research.google.com/notebooks/data_table.ipynb>data table notebook</a>'\n",
              "            + ' to learn more about interactive tables.';\n",
              "          element.innerHTML = '';\n",
              "          dataTable['output_type'] = 'display_data';\n",
              "          await google.colab.output.renderOutput(dataTable, element);\n",
              "          const docLink = document.createElement('div');\n",
              "          docLink.innerHTML = docLinkHtml;\n",
              "          element.appendChild(docLink);\n",
              "        }\n",
              "      </script>\n",
              "    </div>\n",
              "  </div>\n",
              "  "
            ]
          },
          "metadata": {},
          "execution_count": 141
        }
      ]
    },
    {
      "cell_type": "code",
      "source": [
        "y = list(y)"
      ],
      "metadata": {
        "id": "FlUvKWAgbO09"
      },
      "execution_count": 142,
      "outputs": []
    },
    {
      "cell_type": "markdown",
      "source": [
        "## Test/ train"
      ],
      "metadata": {
        "id": "-4CfwVVOV4uV"
      }
    },
    {
      "cell_type": "code",
      "source": [
        "#@title custom train test split\n",
        "def train_test_split(X, y, train_size):\n",
        "  # produces time separated test and train split of roughly the train_size passed into this method\n",
        "  X_train, y_train = pd.DataFrame(), []\n",
        "  X_test, y_test = pd.DataFrame(), []\n",
        "  train_size = int(X.shape[0]*train_size)\n",
        "  counts = X.groupby(['yearID'], sort=True)['yearID'].count()\n",
        "  years_mm = list(set(X['yearID']))\n",
        "  years_mm.sort()\n",
        "  for i, count in enumerate(counts):\n",
        "    X_train_ = X[X['yearID'] == i]\n",
        "    idx = X_train_.index\n",
        "    y_train_ = np.array(y)[idx]\n",
        "    years_mm.pop(0)\n",
        "    X_train = pd.concat([X_train, X_train_])\n",
        "    y_train += list(y_train_)\n",
        "    if X_train.shape[0] >= train_size:\n",
        "      break\n",
        "\n",
        "  for year in years_mm:\n",
        "    X_test_ = X[X['yearID'] == year]\n",
        "    idx = X_test_.index\n",
        "    y_test_ = np.array(y)[idx]\n",
        "    X_test = pd.concat([X_test, X_test_])\n",
        "    y_test += list(y_test_)\n",
        "\n",
        "  return (X_train, X_test, y_train, y_test)\n"
      ],
      "metadata": {
        "cellView": "form",
        "id": "6T6TmZte25mx"
      },
      "execution_count": 143,
      "outputs": []
    },
    {
      "cell_type": "code",
      "source": [
        "from sklearn import dummy \n",
        "\n",
        "X_train, X_test, y_train, y_test = train_test_split(X, y, train_size=0.8)\n",
        "clf = dummy.DummyRegressor(strategy='mean')\n",
        "clf.fit(X_train, y_train)\n",
        "\n",
        "clf.score(X_test, y_test)"
      ],
      "metadata": {
        "colab": {
          "base_uri": "https://localhost:8080/"
        },
        "id": "3y8aMLXT86tH",
        "outputId": "07f45701-136d-477e-ae76-e36d402f09b1"
      },
      "execution_count": 144,
      "outputs": [
        {
          "output_type": "execute_result",
          "data": {
            "text/plain": [
              "-0.0007190381786659206"
            ]
          },
          "metadata": {},
          "execution_count": 144
        }
      ]
    },
    {
      "cell_type": "markdown",
      "source": [
        "## Model"
      ],
      "metadata": {
        "id": "3IxRYiqIblzu"
      }
    },
    {
      "cell_type": "code",
      "source": [
        "# boost regression\n",
        "reg_xgb = xgb.XGBRegressor(objective = 'reg:squarederror' )\n",
        "reg_xgb.fit(X_train,y_train)"
      ],
      "metadata": {
        "colab": {
          "base_uri": "https://localhost:8080/"
        },
        "id": "8N-u5WcIeJy4",
        "outputId": "62e292dd-f3f3-4990-deeb-7ffb7b85b529"
      },
      "execution_count": 145,
      "outputs": [
        {
          "output_type": "execute_result",
          "data": {
            "text/plain": [
              "XGBRegressor(objective='reg:squarederror')"
            ]
          },
          "metadata": {},
          "execution_count": 145
        }
      ]
    },
    {
      "cell_type": "markdown",
      "source": [
        "## Cross validation"
      ],
      "metadata": {
        "id": "lUCA86D9fpl3"
      }
    },
    {
      "cell_type": "code",
      "source": [
        "#@title custom cross validation\n",
        "# cross val\n",
        "\n",
        "def cross_val(model, k):\n",
        "  n_years = len(set(X_train['yearID']))\n",
        "  years = list(set(X_train['yearID']))\n",
        "  years.sort()\n",
        "  if n_years%2 != k%2: k += 1\n",
        "  print('k :', k) \n",
        "  size_k = int(n_years/k)\n",
        "  splits = {}\n",
        "  j = 0\n",
        "  for i in range(k):\n",
        "    splits[i] = years[j:j+size_k]\n",
        "    j = j+size_k\n",
        "\n",
        "  X_val_train_set = {}\n",
        "  y_val_train_set = {}\n",
        "  X_val_test_set = {}\n",
        "  y_val_test_set = {}\n",
        "\n",
        "  min_train_size = X_train.shape[0]\n",
        "  min_test_size = X_test.shape[0]\n",
        "  for i in range(k):\n",
        "    val_set = splits[i]\n",
        "    start_year = val_set[0]\n",
        "    end_year = val_set[size_k - 1]\n",
        "    \n",
        "    X_val_test = X_train[(X_train['yearID'] >= start_year) & (X_train['yearID'] <= end_year)].copy()\n",
        "    idx = X_val_test.index\n",
        "    if len(idx) < min_test_size: min_test_size = len(idx)\n",
        "    y_val_test = np.array(y)[idx]\n",
        "\n",
        "    up = X_train[(X_train['yearID'] < start_year)]\n",
        "    up = None if up.empty else up\n",
        "    do = X_train[(X_train['yearID'] > end_year)]\n",
        "    do = None if do.empty else do\n",
        "    X_val_train =  pd.concat([up, do]).copy()\n",
        "    idx = X_val_train.index\n",
        "    if len(idx) < min_train_size: min_train_size = len(idx)\n",
        "    y_val_train = np.array(y)[idx]\n",
        "\n",
        "    X_val_test_set[i] = X_val_test\n",
        "    X_val_train_set[i] = X_val_train\n",
        "    y_val_test_set[i] = y_val_test\n",
        "    y_val_train_set[i] = y_val_train\n",
        "\n",
        "  scores = []\n",
        "  min_test_size1 = int(min_train_size/k)\n",
        "  min_test_size = min(min_test_size, min_test_size1)\n",
        "  min_train_size = k*min_test_size\n",
        "  for i in range(k):\n",
        "    random_scores = []\n",
        "    for j in range(3):\n",
        "      idx_train = np.array(list(X_val_train_set[i].index)) \n",
        "      selected_idx = np.random.choice(len(idx_train), replace = False, size = min_train_size)\n",
        "      y_val_train = y_val_train_set[i][selected_idx]\n",
        "      selected_idx = idx_train[selected_idx]\n",
        "      X_val_train = X_val_train_set[i].loc[selected_idx]\n",
        "\n",
        "      idx_test = np.array(list(X_val_test_set[i].index)) \n",
        "      selected_idx = np.random.choice(len(idx_test), replace = False, size = min_test_size)\n",
        "      y_val_test = y_val_test_set[i][selected_idx]\n",
        "      selected_idx = idx_test[selected_idx]\n",
        "      X_val_test = X_val_test_set[i].loc[selected_idx]\n",
        "    \n",
        "      model.fit(X_val_train, y_val_train)\n",
        "      score = model.score(X_val_test, y_val_test)\n",
        "      random_scores.append(score)\n",
        "    scores.append(np.mean(random_scores))\n",
        "\n",
        "  return np.array(scores)\n",
        "    \n",
        "score = cross_val(reg_xgb, 5).mean()\n",
        "print(score)\n"
      ],
      "metadata": {
        "cellView": "form",
        "id": "KFoBGpAbT-fq",
        "outputId": "31be9d71-4bc2-40ec-cbe1-b705a24bcf5d",
        "colab": {
          "base_uri": "https://localhost:8080/"
        }
      },
      "execution_count": 146,
      "outputs": [
        {
          "output_type": "stream",
          "name": "stdout",
          "text": [
            "k : 6\n",
            "0.39432374575962736\n"
          ]
        }
      ]
    },
    {
      "cell_type": "markdown",
      "source": [
        "## Testing"
      ],
      "metadata": {
        "id": "Q1H80SghyXii"
      }
    },
    {
      "cell_type": "code",
      "source": [
        "y_pred = reg_xgb.predict(X_test)\n",
        "score = reg_xgb.score(X_test, y_test)\n",
        "print(score)"
      ],
      "metadata": {
        "id": "h26dtjwbyWsP",
        "outputId": "555506ad-94a7-4d59-b6a7-ede34850e57d",
        "colab": {
          "base_uri": "https://localhost:8080/"
        }
      },
      "execution_count": 147,
      "outputs": [
        {
          "output_type": "stream",
          "name": "stdout",
          "text": [
            "0.3733477743249882\n"
          ]
        }
      ]
    },
    {
      "cell_type": "markdown",
      "source": [
        "## Result visualization"
      ],
      "metadata": {
        "id": "266kWh_yKv56"
      }
    },
    {
      "cell_type": "code",
      "source": [
        "inv = list(ohe.inverse_transform(X_test[tid_names]).reshape(1,-1))[0]\n",
        "test_years = list(X_test['yearID'])\n",
        "\n",
        "result_df = pd.DataFrame()\n",
        "result_df['yearID'] = np.array(year_array)[test_years]\n",
        "result_df['teamID'] = inv\n",
        "result_df['win_prob_pred'] = list(y_pred)\n",
        "result_df['win_prob_pred'] *= 100\n",
        "result_df['win_prob_actual'] = list(y_test)\n",
        "result_df['win_prob_actual'] *= 100\n",
        "\n",
        "\n",
        "result_df"
      ],
      "metadata": {
        "id": "s9BVdpoXvrtM",
        "outputId": "b0fe2b43-467a-49de-fbe0-16dc57f5cc9b",
        "colab": {
          "base_uri": "https://localhost:8080/",
          "height": 424
        }
      },
      "execution_count": 149,
      "outputs": [
        {
          "output_type": "execute_result",
          "data": {
            "text/plain": [
              "     yearID teamID  win_prob_pred  win_prob_actual\n",
              "0      2003    ANA      54.540016        47.530864\n",
              "1      2003    ARI      56.599110        51.851852\n",
              "2      2003    ATL      59.780205        62.345679\n",
              "3      2003    BAL      41.568245        43.827160\n",
              "4      2003    BOS      52.954113        58.641975\n",
              "..      ...    ...            ...              ...\n",
              "565    2021    SLN      50.452572        55.555556\n",
              "566    2021    TBA      60.941231        61.728395\n",
              "567    2021    TEX      41.486439        37.037037\n",
              "568    2021    TOR      51.165432        56.172840\n",
              "569    2021    WAS      42.317207        40.123457\n",
              "\n",
              "[570 rows x 4 columns]"
            ],
            "text/html": [
              "\n",
              "  <div id=\"df-5d935c14-d13e-4741-909a-56dadc3cab9f\">\n",
              "    <div class=\"colab-df-container\">\n",
              "      <div>\n",
              "<style scoped>\n",
              "    .dataframe tbody tr th:only-of-type {\n",
              "        vertical-align: middle;\n",
              "    }\n",
              "\n",
              "    .dataframe tbody tr th {\n",
              "        vertical-align: top;\n",
              "    }\n",
              "\n",
              "    .dataframe thead th {\n",
              "        text-align: right;\n",
              "    }\n",
              "</style>\n",
              "<table border=\"1\" class=\"dataframe\">\n",
              "  <thead>\n",
              "    <tr style=\"text-align: right;\">\n",
              "      <th></th>\n",
              "      <th>yearID</th>\n",
              "      <th>teamID</th>\n",
              "      <th>win_prob_pred</th>\n",
              "      <th>win_prob_actual</th>\n",
              "    </tr>\n",
              "  </thead>\n",
              "  <tbody>\n",
              "    <tr>\n",
              "      <th>0</th>\n",
              "      <td>2003</td>\n",
              "      <td>ANA</td>\n",
              "      <td>54.540016</td>\n",
              "      <td>47.530864</td>\n",
              "    </tr>\n",
              "    <tr>\n",
              "      <th>1</th>\n",
              "      <td>2003</td>\n",
              "      <td>ARI</td>\n",
              "      <td>56.599110</td>\n",
              "      <td>51.851852</td>\n",
              "    </tr>\n",
              "    <tr>\n",
              "      <th>2</th>\n",
              "      <td>2003</td>\n",
              "      <td>ATL</td>\n",
              "      <td>59.780205</td>\n",
              "      <td>62.345679</td>\n",
              "    </tr>\n",
              "    <tr>\n",
              "      <th>3</th>\n",
              "      <td>2003</td>\n",
              "      <td>BAL</td>\n",
              "      <td>41.568245</td>\n",
              "      <td>43.827160</td>\n",
              "    </tr>\n",
              "    <tr>\n",
              "      <th>4</th>\n",
              "      <td>2003</td>\n",
              "      <td>BOS</td>\n",
              "      <td>52.954113</td>\n",
              "      <td>58.641975</td>\n",
              "    </tr>\n",
              "    <tr>\n",
              "      <th>...</th>\n",
              "      <td>...</td>\n",
              "      <td>...</td>\n",
              "      <td>...</td>\n",
              "      <td>...</td>\n",
              "    </tr>\n",
              "    <tr>\n",
              "      <th>565</th>\n",
              "      <td>2021</td>\n",
              "      <td>SLN</td>\n",
              "      <td>50.452572</td>\n",
              "      <td>55.555556</td>\n",
              "    </tr>\n",
              "    <tr>\n",
              "      <th>566</th>\n",
              "      <td>2021</td>\n",
              "      <td>TBA</td>\n",
              "      <td>60.941231</td>\n",
              "      <td>61.728395</td>\n",
              "    </tr>\n",
              "    <tr>\n",
              "      <th>567</th>\n",
              "      <td>2021</td>\n",
              "      <td>TEX</td>\n",
              "      <td>41.486439</td>\n",
              "      <td>37.037037</td>\n",
              "    </tr>\n",
              "    <tr>\n",
              "      <th>568</th>\n",
              "      <td>2021</td>\n",
              "      <td>TOR</td>\n",
              "      <td>51.165432</td>\n",
              "      <td>56.172840</td>\n",
              "    </tr>\n",
              "    <tr>\n",
              "      <th>569</th>\n",
              "      <td>2021</td>\n",
              "      <td>WAS</td>\n",
              "      <td>42.317207</td>\n",
              "      <td>40.123457</td>\n",
              "    </tr>\n",
              "  </tbody>\n",
              "</table>\n",
              "<p>570 rows × 4 columns</p>\n",
              "</div>\n",
              "      <button class=\"colab-df-convert\" onclick=\"convertToInteractive('df-5d935c14-d13e-4741-909a-56dadc3cab9f')\"\n",
              "              title=\"Convert this dataframe to an interactive table.\"\n",
              "              style=\"display:none;\">\n",
              "        \n",
              "  <svg xmlns=\"http://www.w3.org/2000/svg\" height=\"24px\"viewBox=\"0 0 24 24\"\n",
              "       width=\"24px\">\n",
              "    <path d=\"M0 0h24v24H0V0z\" fill=\"none\"/>\n",
              "    <path d=\"M18.56 5.44l.94 2.06.94-2.06 2.06-.94-2.06-.94-.94-2.06-.94 2.06-2.06.94zm-11 1L8.5 8.5l.94-2.06 2.06-.94-2.06-.94L8.5 2.5l-.94 2.06-2.06.94zm10 10l.94 2.06.94-2.06 2.06-.94-2.06-.94-.94-2.06-.94 2.06-2.06.94z\"/><path d=\"M17.41 7.96l-1.37-1.37c-.4-.4-.92-.59-1.43-.59-.52 0-1.04.2-1.43.59L10.3 9.45l-7.72 7.72c-.78.78-.78 2.05 0 2.83L4 21.41c.39.39.9.59 1.41.59.51 0 1.02-.2 1.41-.59l7.78-7.78 2.81-2.81c.8-.78.8-2.07 0-2.86zM5.41 20L4 18.59l7.72-7.72 1.47 1.35L5.41 20z\"/>\n",
              "  </svg>\n",
              "      </button>\n",
              "      \n",
              "  <style>\n",
              "    .colab-df-container {\n",
              "      display:flex;\n",
              "      flex-wrap:wrap;\n",
              "      gap: 12px;\n",
              "    }\n",
              "\n",
              "    .colab-df-convert {\n",
              "      background-color: #E8F0FE;\n",
              "      border: none;\n",
              "      border-radius: 50%;\n",
              "      cursor: pointer;\n",
              "      display: none;\n",
              "      fill: #1967D2;\n",
              "      height: 32px;\n",
              "      padding: 0 0 0 0;\n",
              "      width: 32px;\n",
              "    }\n",
              "\n",
              "    .colab-df-convert:hover {\n",
              "      background-color: #E2EBFA;\n",
              "      box-shadow: 0px 1px 2px rgba(60, 64, 67, 0.3), 0px 1px 3px 1px rgba(60, 64, 67, 0.15);\n",
              "      fill: #174EA6;\n",
              "    }\n",
              "\n",
              "    [theme=dark] .colab-df-convert {\n",
              "      background-color: #3B4455;\n",
              "      fill: #D2E3FC;\n",
              "    }\n",
              "\n",
              "    [theme=dark] .colab-df-convert:hover {\n",
              "      background-color: #434B5C;\n",
              "      box-shadow: 0px 1px 3px 1px rgba(0, 0, 0, 0.15);\n",
              "      filter: drop-shadow(0px 1px 2px rgba(0, 0, 0, 0.3));\n",
              "      fill: #FFFFFF;\n",
              "    }\n",
              "  </style>\n",
              "\n",
              "      <script>\n",
              "        const buttonEl =\n",
              "          document.querySelector('#df-5d935c14-d13e-4741-909a-56dadc3cab9f button.colab-df-convert');\n",
              "        buttonEl.style.display =\n",
              "          google.colab.kernel.accessAllowed ? 'block' : 'none';\n",
              "\n",
              "        async function convertToInteractive(key) {\n",
              "          const element = document.querySelector('#df-5d935c14-d13e-4741-909a-56dadc3cab9f');\n",
              "          const dataTable =\n",
              "            await google.colab.kernel.invokeFunction('convertToInteractive',\n",
              "                                                     [key], {});\n",
              "          if (!dataTable) return;\n",
              "\n",
              "          const docLinkHtml = 'Like what you see? Visit the ' +\n",
              "            '<a target=\"_blank\" href=https://colab.research.google.com/notebooks/data_table.ipynb>data table notebook</a>'\n",
              "            + ' to learn more about interactive tables.';\n",
              "          element.innerHTML = '';\n",
              "          dataTable['output_type'] = 'display_data';\n",
              "          await google.colab.output.renderOutput(dataTable, element);\n",
              "          const docLink = document.createElement('div');\n",
              "          docLink.innerHTML = docLinkHtml;\n",
              "          element.appendChild(docLink);\n",
              "        }\n",
              "      </script>\n",
              "    </div>\n",
              "  </div>\n",
              "  "
            ]
          },
          "metadata": {},
          "execution_count": 149
        }
      ]
    },
    {
      "cell_type": "code",
      "source": [
        "plt.figure(figsize=(10, 10))\n",
        "plt.scatter(y_test, y_pred)\n",
        "plt.xlabel('predicted target')\n",
        "plt.ylabel('actual')\n",
        "plt.show()"
      ],
      "metadata": {
        "colab": {
          "base_uri": "https://localhost:8080/",
          "height": 606
        },
        "id": "ROptBAlPKzKw",
        "outputId": "e1010464-1d56-443d-fc8e-cfce10935600"
      },
      "execution_count": 150,
      "outputs": [
        {
          "output_type": "display_data",
          "data": {
            "text/plain": [
              "<Figure size 720x720 with 1 Axes>"
            ],
            "image/png": "[encoded data removed]"
          },
          "metadata": {
            "needs_background": "light"
          }
        }
      ]
    },
    {
      "cell_type": "code",
      "source": [
        "#@title graph for 2021 \n",
        "result_df_2021 = result_df[result_df['yearID'] == 2021 ]\n",
        "plt.figure(figsize = (15,6))\n",
        "plt.plot(result_df_2021['teamID'], result_df_2021['win_prob_pred'], label = 'win_prob_pred')\n",
        "plt.plot(result_df_2021['teamID'], result_df_2021['win_prob_actual'], label = 'win_prob_actual')\n",
        "plt.title('2021 analysis')\n",
        "plt.xlabel('Teams')\n",
        "plt.xticks(rotation=45)\n",
        "plt.legend()\n",
        "plt.show()"
      ],
      "metadata": {
        "cellView": "form",
        "id": "Imbkf8R0G_Ux",
        "outputId": "2f18c553-339d-4650-e7a8-281bdb9f96e9",
        "colab": {
          "base_uri": "https://localhost:8080/",
          "height": 417
        }
      },
      "execution_count": 158,
      "outputs": [
        {
          "output_type": "display_data",
          "data": {
            "text/plain": [
              "<Figure size 1080x432 with 1 Axes>"
            ],
            "image/png": "[encoded data removed]"
          },
          "metadata": {
            "needs_background": "light"
          }
        }
      ]
    },
    {
      "cell_type": "markdown",
      "source": [
        "## other basic models "
      ],
      "metadata": {
        "id": "dsoM_sZ_hkwb"
      }
    },
    {
      "cell_type": "code",
      "source": [
        "imputer_mean = impute.SimpleImputer()\n",
        "X_train_ = imputer_mean.fit_transform(X_train)\n",
        "X_test_ = imputer_mean.transform(X_test)"
      ],
      "metadata": {
        "id": "8Mpd9u4vhp73"
      },
      "execution_count": 85,
      "outputs": []
    },
    {
      "cell_type": "code",
      "source": [
        "#@title linear regression\n",
        "\n",
        "reg1 = linear_model.LinearRegression()\n",
        "reg1.fit(X_train_, y_train)\n",
        "y_pred1 = reg1.predict(X_test_)\n",
        "print(metrics.r2_score(y_test, y_pred1))"
      ],
      "metadata": {
        "colab": {
          "base_uri": "https://localhost:8080/"
        },
        "cellView": "form",
        "id": "maU1yQcxiy0_",
        "outputId": "37752663-89ba-4d45-e001-91f33dd86c9d"
      },
      "execution_count": 86,
      "outputs": [
        {
          "output_type": "stream",
          "name": "stdout",
          "text": [
            "0.341971073352618\n"
          ]
        }
      ]
    },
    {
      "cell_type": "code",
      "source": [
        "#@title decision tree\n",
        "reg2 = tree.DecisionTreeRegressor()\n",
        "reg2.fit(X_train_, y_train)\n",
        "y_pred2 = reg2.predict(X_test_)\n",
        "print(metrics.r2_score(y_test, y_pred2))"
      ],
      "metadata": {
        "colab": {
          "base_uri": "https://localhost:8080/"
        },
        "cellView": "form",
        "id": "GppGZM5qjH_b",
        "outputId": "9bebaa43-28bf-43db-80dc-ba3f744c2b3f"
      },
      "execution_count": 87,
      "outputs": [
        {
          "output_type": "stream",
          "name": "stdout",
          "text": [
            "-0.34794073825518157\n"
          ]
        }
      ]
    }
  ]
}