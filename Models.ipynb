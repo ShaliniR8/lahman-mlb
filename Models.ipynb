{
  "cells": [
    {
      "cell_type": "markdown",
      "metadata": {
        "id": "view-in-github",
        "colab_type": "text"
      },
      "source": [
        "<a href=\"https://colab.research.google.com/github/ShaliniR8/lahman-mlb/blob/main/Models.ipynb\" target=\"_parent\"><img src=\"https://colab.research.google.com/assets/colab-badge.svg\" alt=\"Open In Colab\"/></a>"
      ]
    },
    {
      "cell_type": "code",
      "execution_count": 15,
      "id": "f0933a01-7bff-46e1-a563-40605150137a",
      "metadata": {
        "id": "f0933a01-7bff-46e1-a563-40605150137a"
      },
      "outputs": [],
      "source": [
        "import pandas as pd\n",
        "import numpy as np\n",
        "from sklearn.svm import SVR\n",
        "from sklearn import tree\n",
        "from sklearn.model_selection import cross_validate\n",
        "from sklearn.preprocessing import StandardScaler \n",
        "from sklearn.neural_network import MLPClassifier\n",
        "from sklearn.datasets import make_classification\n",
        "from sklearn.model_selection import train_test_split\n",
        "from sklearn.preprocessing import OneHotEncoder\n",
        "from sklearn.ensemble import RandomForestClassifier\n",
        "from sklearn import linear_model\n",
        "from sklearn.impute import SimpleImputer\n",
        "from sklearn import impute\n",
        "from sklearn.model_selection import cross_validate\n",
        "from sklearn import metrics\n",
        "from sklearn.linear_model import SGDRegressor\n",
        "from sklearn.ensemble import GradientBoostingRegressor\n",
        "from sklearn.ensemble import AdaBoostRegressor\n",
        "from sklearn import preprocessing\n",
        "from sklearn.preprocessing import StandardScaler\n",
        "from sklearn.neural_network import MLPRegressor\n",
        "from sklearn import neighbors\n",
        "from sklearn.ensemble import RandomForestRegressor"
      ]
    },
    {
      "cell_type": "code",
      "source": [
        "%%capture\n",
        "!pip install shap\n",
        "import shap"
      ],
      "metadata": {
        "id": "Swh09wcnAvJ4"
      },
      "id": "Swh09wcnAvJ4",
      "execution_count": 3,
      "outputs": []
    },
    {
      "cell_type": "code",
      "execution_count": 4,
      "id": "c1e6848e-81f0-406a-82f2-40f9ede8d2f5",
      "metadata": {
        "id": "c1e6848e-81f0-406a-82f2-40f9ede8d2f5"
      },
      "outputs": [],
      "source": [
        "df = pd.read_csv('features.csv')"
      ]
    },
    {
      "cell_type": "code",
      "execution_count": 5,
      "id": "8e250318-c1d9-4e47-97d9-aa9c639ab668",
      "metadata": {
        "id": "8e250318-c1d9-4e47-97d9-aa9c639ab668"
      },
      "outputs": [],
      "source": [
        "y = pd.read_csv('targets.csv')"
      ]
    },
    {
      "cell_type": "code",
      "execution_count": 6,
      "id": "d23c9fca-4746-4323-97fa-23eef69019b4",
      "metadata": {
        "colab": {
          "base_uri": "https://localhost:8080/",
          "height": 423
        },
        "id": "d23c9fca-4746-4323-97fa-23eef69019b4",
        "outputId": "e98c7b5e-a7a5-48ee-dabe-677670025179"
      },
      "outputs": [
        {
          "output_type": "execute_result",
          "data": {
            "text/plain": [
              "      Unnamed: 0         0\n",
              "0              0  0.648148\n",
              "1              1  0.103448\n",
              "2              2  0.243243\n",
              "3              3  0.829787\n",
              "4              4  0.272727\n",
              "...          ...       ...\n",
              "2971        2971  0.555556\n",
              "2972        2972  0.617284\n",
              "2973        2973  0.370370\n",
              "2974        2974  0.561728\n",
              "2975        2975  0.401235\n",
              "\n",
              "[2976 rows x 2 columns]"
            ],
            "text/html": [
              "\n",
              "  <div id=\"df-49fcc13d-b37e-45b9-b92a-cddbc31ec29c\">\n",
              "    <div class=\"colab-df-container\">\n",
              "      <div>\n",
              "<style scoped>\n",
              "    .dataframe tbody tr th:only-of-type {\n",
              "        vertical-align: middle;\n",
              "    }\n",
              "\n",
              "    .dataframe tbody tr th {\n",
              "        vertical-align: top;\n",
              "    }\n",
              "\n",
              "    .dataframe thead th {\n",
              "        text-align: right;\n",
              "    }\n",
              "</style>\n",
              "<table border=\"1\" class=\"dataframe\">\n",
              "  <thead>\n",
              "    <tr style=\"text-align: right;\">\n",
              "      <th></th>\n",
              "      <th>Unnamed: 0</th>\n",
              "      <th>0</th>\n",
              "    </tr>\n",
              "  </thead>\n",
              "  <tbody>\n",
              "    <tr>\n",
              "      <th>0</th>\n",
              "      <td>0</td>\n",
              "      <td>0.648148</td>\n",
              "    </tr>\n",
              "    <tr>\n",
              "      <th>1</th>\n",
              "      <td>1</td>\n",
              "      <td>0.103448</td>\n",
              "    </tr>\n",
              "    <tr>\n",
              "      <th>2</th>\n",
              "      <td>2</td>\n",
              "      <td>0.243243</td>\n",
              "    </tr>\n",
              "    <tr>\n",
              "      <th>3</th>\n",
              "      <td>3</td>\n",
              "      <td>0.829787</td>\n",
              "    </tr>\n",
              "    <tr>\n",
              "      <th>4</th>\n",
              "      <td>4</td>\n",
              "      <td>0.272727</td>\n",
              "    </tr>\n",
              "    <tr>\n",
              "      <th>...</th>\n",
              "      <td>...</td>\n",
              "      <td>...</td>\n",
              "    </tr>\n",
              "    <tr>\n",
              "      <th>2971</th>\n",
              "      <td>2971</td>\n",
              "      <td>0.555556</td>\n",
              "    </tr>\n",
              "    <tr>\n",
              "      <th>2972</th>\n",
              "      <td>2972</td>\n",
              "      <td>0.617284</td>\n",
              "    </tr>\n",
              "    <tr>\n",
              "      <th>2973</th>\n",
              "      <td>2973</td>\n",
              "      <td>0.370370</td>\n",
              "    </tr>\n",
              "    <tr>\n",
              "      <th>2974</th>\n",
              "      <td>2974</td>\n",
              "      <td>0.561728</td>\n",
              "    </tr>\n",
              "    <tr>\n",
              "      <th>2975</th>\n",
              "      <td>2975</td>\n",
              "      <td>0.401235</td>\n",
              "    </tr>\n",
              "  </tbody>\n",
              "</table>\n",
              "<p>2976 rows × 2 columns</p>\n",
              "</div>\n",
              "      <button class=\"colab-df-convert\" onclick=\"convertToInteractive('df-49fcc13d-b37e-45b9-b92a-cddbc31ec29c')\"\n",
              "              title=\"Convert this dataframe to an interactive table.\"\n",
              "              style=\"display:none;\">\n",
              "        \n",
              "  <svg xmlns=\"http://www.w3.org/2000/svg\" height=\"24px\"viewBox=\"0 0 24 24\"\n",
              "       width=\"24px\">\n",
              "    <path d=\"M0 0h24v24H0V0z\" fill=\"none\"/>\n",
              "    <path d=\"M18.56 5.44l.94 2.06.94-2.06 2.06-.94-2.06-.94-.94-2.06-.94 2.06-2.06.94zm-11 1L8.5 8.5l.94-2.06 2.06-.94-2.06-.94L8.5 2.5l-.94 2.06-2.06.94zm10 10l.94 2.06.94-2.06 2.06-.94-2.06-.94-.94-2.06-.94 2.06-2.06.94z\"/><path d=\"M17.41 7.96l-1.37-1.37c-.4-.4-.92-.59-1.43-.59-.52 0-1.04.2-1.43.59L10.3 9.45l-7.72 7.72c-.78.78-.78 2.05 0 2.83L4 21.41c.39.39.9.59 1.41.59.51 0 1.02-.2 1.41-.59l7.78-7.78 2.81-2.81c.8-.78.8-2.07 0-2.86zM5.41 20L4 18.59l7.72-7.72 1.47 1.35L5.41 20z\"/>\n",
              "  </svg>\n",
              "      </button>\n",
              "      \n",
              "  <style>\n",
              "    .colab-df-container {\n",
              "      display:flex;\n",
              "      flex-wrap:wrap;\n",
              "      gap: 12px;\n",
              "    }\n",
              "\n",
              "    .colab-df-convert {\n",
              "      background-color: #E8F0FE;\n",
              "      border: none;\n",
              "      border-radius: 50%;\n",
              "      cursor: pointer;\n",
              "      display: none;\n",
              "      fill: #1967D2;\n",
              "      height: 32px;\n",
              "      padding: 0 0 0 0;\n",
              "      width: 32px;\n",
              "    }\n",
              "\n",
              "    .colab-df-convert:hover {\n",
              "      background-color: #E2EBFA;\n",
              "      box-shadow: 0px 1px 2px rgba(60, 64, 67, 0.3), 0px 1px 3px 1px rgba(60, 64, 67, 0.15);\n",
              "      fill: #174EA6;\n",
              "    }\n",
              "\n",
              "    [theme=dark] .colab-df-convert {\n",
              "      background-color: #3B4455;\n",
              "      fill: #D2E3FC;\n",
              "    }\n",
              "\n",
              "    [theme=dark] .colab-df-convert:hover {\n",
              "      background-color: #434B5C;\n",
              "      box-shadow: 0px 1px 3px 1px rgba(0, 0, 0, 0.15);\n",
              "      filter: drop-shadow(0px 1px 2px rgba(0, 0, 0, 0.3));\n",
              "      fill: #FFFFFF;\n",
              "    }\n",
              "  </style>\n",
              "\n",
              "      <script>\n",
              "        const buttonEl =\n",
              "          document.querySelector('#df-49fcc13d-b37e-45b9-b92a-cddbc31ec29c button.colab-df-convert');\n",
              "        buttonEl.style.display =\n",
              "          google.colab.kernel.accessAllowed ? 'block' : 'none';\n",
              "\n",
              "        async function convertToInteractive(key) {\n",
              "          const element = document.querySelector('#df-49fcc13d-b37e-45b9-b92a-cddbc31ec29c');\n",
              "          const dataTable =\n",
              "            await google.colab.kernel.invokeFunction('convertToInteractive',\n",
              "                                                     [key], {});\n",
              "          if (!dataTable) return;\n",
              "\n",
              "          const docLinkHtml = 'Like what you see? Visit the ' +\n",
              "            '<a target=\"_blank\" href=https://colab.research.google.com/notebooks/data_table.ipynb>data table notebook</a>'\n",
              "            + ' to learn more about interactive tables.';\n",
              "          element.innerHTML = '';\n",
              "          dataTable['output_type'] = 'display_data';\n",
              "          await google.colab.output.renderOutput(dataTable, element);\n",
              "          const docLink = document.createElement('div');\n",
              "          docLink.innerHTML = docLinkHtml;\n",
              "          element.appendChild(docLink);\n",
              "        }\n",
              "      </script>\n",
              "    </div>\n",
              "  </div>\n",
              "  "
            ]
          },
          "metadata": {},
          "execution_count": 6
        }
      ],
      "source": [
        "y"
      ]
    },
    {
      "cell_type": "code",
      "execution_count": 7,
      "id": "eb1e0ae5-1784-4c7b-abfc-0d5804c57858",
      "metadata": {
        "id": "eb1e0ae5-1784-4c7b-abfc-0d5804c57858"
      },
      "outputs": [],
      "source": [
        "y = y['0'].to_list()"
      ]
    },
    {
      "cell_type": "code",
      "execution_count": 8,
      "id": "1632cc36-58a6-4d33-8b80-e7c8f54d5fc4",
      "metadata": {
        "id": "1632cc36-58a6-4d33-8b80-e7c8f54d5fc4"
      },
      "outputs": [],
      "source": [
        "df = df.drop(['Unnamed: 0'], axis=1)"
      ]
    },
    {
      "cell_type": "code",
      "execution_count": 9,
      "id": "f34c9694-ba8e-48d1-97c8-639191cd3801",
      "metadata": {
        "colab": {
          "base_uri": "https://localhost:8080/",
          "height": 487
        },
        "id": "f34c9694-ba8e-48d1-97c8-639191cd3801",
        "outputId": "7e52fcaa-56e7-4d3e-acdd-b93c0dac78a0"
      },
      "outputs": [
        {
          "output_type": "execute_result",
          "data": {
            "text/plain": [
              "      teamID_ALT  teamID_ANA  teamID_ARI  teamID_ATL  teamID_BAL  teamID_BFN  \\\n",
              "0              0           0           0           0           0           0   \n",
              "1              0           0           0           0           0           0   \n",
              "2              0           0           0           0           0           0   \n",
              "3              0           0           0           0           0           0   \n",
              "4              0           0           0           0           0           0   \n",
              "...          ...         ...         ...         ...         ...         ...   \n",
              "2971           0           0           0           0           0           0   \n",
              "2972           0           0           0           0           0           0   \n",
              "2973           0           0           0           0           0           0   \n",
              "2974           0           0           0           0           0           0   \n",
              "2975           0           0           0           0           0           0   \n",
              "\n",
              "      teamID_BFP  teamID_BL1  teamID_BL2  teamID_BL3  ...  pwp_1.83  \\\n",
              "0              0           1           0           0  ...       NaN   \n",
              "1              0           0           0           0  ...       NaN   \n",
              "2              0           0           0           0  ...       NaN   \n",
              "3              0           0           0           0  ...  5.150994   \n",
              "4              0           0           0           0  ...  8.999966   \n",
              "...          ...         ...         ...         ...  ...       ...   \n",
              "2971           0           0           0           0  ... -0.411656   \n",
              "2972           0           0           0           0  ...  0.064596   \n",
              "2973           0           0           0           0  ... -0.188963   \n",
              "2974           0           0           0           0  ...  0.068397   \n",
              "2975           0           0           0           0  ...  0.202754   \n",
              "\n",
              "      rolling_3_win_perc  rolling_5_win_perc  yearID   CS_perc        BA  \\\n",
              "0                    NaN                 NaN       0       NaN       NaN   \n",
              "1                    NaN                 NaN       0       NaN       NaN   \n",
              "2                    NaN                 NaN       0       NaN       NaN   \n",
              "3                    NaN                 NaN       0 -1.058460  3.239081   \n",
              "4                    NaN                 NaN       0 -1.217624  1.591295   \n",
              "...                  ...                 ...     ...       ...       ...   \n",
              "2971            0.525841            0.461700     149 -1.228354 -1.042232   \n",
              "2972            1.426873            0.660834     149 -0.349458 -1.095304   \n",
              "2973           -1.160136           -0.599499     149 -1.127531 -1.716126   \n",
              "2974           -0.524932           -0.326362     149 -1.229413  0.258788   \n",
              "2975            0.017877            0.567187     149 -0.399067 -0.207248   \n",
              "\n",
              "      medianERA  pitcherAverageAge  batterAverageAge  medianOPS  \n",
              "0     -1.736156          -1.062462         -1.527248        NaN  \n",
              "1      4.260342         -11.185544         -6.222553        NaN  \n",
              "2      0.444389         -32.248087        -13.110602        NaN  \n",
              "3     -2.281292           0.570293         -0.794024   0.879553  \n",
              "4      1.534661          -0.463785         -1.602838   0.667606  \n",
              "...         ...                ...               ...        ...  \n",
              "2971   0.444389           0.733569          0.484782  -0.096897  \n",
              "2972  -0.645884           0.518523          0.431278   1.490159  \n",
              "2973   0.444389           0.192719         -0.128832   0.557565  \n",
              "2974   0.444389           0.398424          0.271064   2.128444  \n",
              "2975   1.534661           0.773151          0.838721   1.511279  \n",
              "\n",
              "[2976 rows x 158 columns]"
            ],
            "text/html": [
              "\n",
              "  <div id=\"df-c9d96b4a-96ce-49bd-abec-c143952c7e0c\">\n",
              "    <div class=\"colab-df-container\">\n",
              "      <div>\n",
              "<style scoped>\n",
              "    .dataframe tbody tr th:only-of-type {\n",
              "        vertical-align: middle;\n",
              "    }\n",
              "\n",
              "    .dataframe tbody tr th {\n",
              "        vertical-align: top;\n",
              "    }\n",
              "\n",
              "    .dataframe thead th {\n",
              "        text-align: right;\n",
              "    }\n",
              "</style>\n",
              "<table border=\"1\" class=\"dataframe\">\n",
              "  <thead>\n",
              "    <tr style=\"text-align: right;\">\n",
              "      <th></th>\n",
              "      <th>teamID_ALT</th>\n",
              "      <th>teamID_ANA</th>\n",
              "      <th>teamID_ARI</th>\n",
              "      <th>teamID_ATL</th>\n",
              "      <th>teamID_BAL</th>\n",
              "      <th>teamID_BFN</th>\n",
              "      <th>teamID_BFP</th>\n",
              "      <th>teamID_BL1</th>\n",
              "      <th>teamID_BL2</th>\n",
              "      <th>teamID_BL3</th>\n",
              "      <th>...</th>\n",
              "      <th>pwp_1.83</th>\n",
              "      <th>rolling_3_win_perc</th>\n",
              "      <th>rolling_5_win_perc</th>\n",
              "      <th>yearID</th>\n",
              "      <th>CS_perc</th>\n",
              "      <th>BA</th>\n",
              "      <th>medianERA</th>\n",
              "      <th>pitcherAverageAge</th>\n",
              "      <th>batterAverageAge</th>\n",
              "      <th>medianOPS</th>\n",
              "    </tr>\n",
              "  </thead>\n",
              "  <tbody>\n",
              "    <tr>\n",
              "      <th>0</th>\n",
              "      <td>0</td>\n",
              "      <td>0</td>\n",
              "      <td>0</td>\n",
              "      <td>0</td>\n",
              "      <td>0</td>\n",
              "      <td>0</td>\n",
              "      <td>0</td>\n",
              "      <td>1</td>\n",
              "      <td>0</td>\n",
              "      <td>0</td>\n",
              "      <td>...</td>\n",
              "      <td>NaN</td>\n",
              "      <td>NaN</td>\n",
              "      <td>NaN</td>\n",
              "      <td>0</td>\n",
              "      <td>NaN</td>\n",
              "      <td>NaN</td>\n",
              "      <td>-1.736156</td>\n",
              "      <td>-1.062462</td>\n",
              "      <td>-1.527248</td>\n",
              "      <td>NaN</td>\n",
              "    </tr>\n",
              "    <tr>\n",
              "      <th>1</th>\n",
              "      <td>0</td>\n",
              "      <td>0</td>\n",
              "      <td>0</td>\n",
              "      <td>0</td>\n",
              "      <td>0</td>\n",
              "      <td>0</td>\n",
              "      <td>0</td>\n",
              "      <td>0</td>\n",
              "      <td>0</td>\n",
              "      <td>0</td>\n",
              "      <td>...</td>\n",
              "      <td>NaN</td>\n",
              "      <td>NaN</td>\n",
              "      <td>NaN</td>\n",
              "      <td>0</td>\n",
              "      <td>NaN</td>\n",
              "      <td>NaN</td>\n",
              "      <td>4.260342</td>\n",
              "      <td>-11.185544</td>\n",
              "      <td>-6.222553</td>\n",
              "      <td>NaN</td>\n",
              "    </tr>\n",
              "    <tr>\n",
              "      <th>2</th>\n",
              "      <td>0</td>\n",
              "      <td>0</td>\n",
              "      <td>0</td>\n",
              "      <td>0</td>\n",
              "      <td>0</td>\n",
              "      <td>0</td>\n",
              "      <td>0</td>\n",
              "      <td>0</td>\n",
              "      <td>0</td>\n",
              "      <td>0</td>\n",
              "      <td>...</td>\n",
              "      <td>NaN</td>\n",
              "      <td>NaN</td>\n",
              "      <td>NaN</td>\n",
              "      <td>0</td>\n",
              "      <td>NaN</td>\n",
              "      <td>NaN</td>\n",
              "      <td>0.444389</td>\n",
              "      <td>-32.248087</td>\n",
              "      <td>-13.110602</td>\n",
              "      <td>NaN</td>\n",
              "    </tr>\n",
              "    <tr>\n",
              "      <th>3</th>\n",
              "      <td>0</td>\n",
              "      <td>0</td>\n",
              "      <td>0</td>\n",
              "      <td>0</td>\n",
              "      <td>0</td>\n",
              "      <td>0</td>\n",
              "      <td>0</td>\n",
              "      <td>0</td>\n",
              "      <td>0</td>\n",
              "      <td>0</td>\n",
              "      <td>...</td>\n",
              "      <td>5.150994</td>\n",
              "      <td>NaN</td>\n",
              "      <td>NaN</td>\n",
              "      <td>0</td>\n",
              "      <td>-1.058460</td>\n",
              "      <td>3.239081</td>\n",
              "      <td>-2.281292</td>\n",
              "      <td>0.570293</td>\n",
              "      <td>-0.794024</td>\n",
              "      <td>0.879553</td>\n",
              "    </tr>\n",
              "    <tr>\n",
              "      <th>4</th>\n",
              "      <td>0</td>\n",
              "      <td>0</td>\n",
              "      <td>0</td>\n",
              "      <td>0</td>\n",
              "      <td>0</td>\n",
              "      <td>0</td>\n",
              "      <td>0</td>\n",
              "      <td>0</td>\n",
              "      <td>0</td>\n",
              "      <td>0</td>\n",
              "      <td>...</td>\n",
              "      <td>8.999966</td>\n",
              "      <td>NaN</td>\n",
              "      <td>NaN</td>\n",
              "      <td>0</td>\n",
              "      <td>-1.217624</td>\n",
              "      <td>1.591295</td>\n",
              "      <td>1.534661</td>\n",
              "      <td>-0.463785</td>\n",
              "      <td>-1.602838</td>\n",
              "      <td>0.667606</td>\n",
              "    </tr>\n",
              "    <tr>\n",
              "      <th>...</th>\n",
              "      <td>...</td>\n",
              "      <td>...</td>\n",
              "      <td>...</td>\n",
              "      <td>...</td>\n",
              "      <td>...</td>\n",
              "      <td>...</td>\n",
              "      <td>...</td>\n",
              "      <td>...</td>\n",
              "      <td>...</td>\n",
              "      <td>...</td>\n",
              "      <td>...</td>\n",
              "      <td>...</td>\n",
              "      <td>...</td>\n",
              "      <td>...</td>\n",
              "      <td>...</td>\n",
              "      <td>...</td>\n",
              "      <td>...</td>\n",
              "      <td>...</td>\n",
              "      <td>...</td>\n",
              "      <td>...</td>\n",
              "      <td>...</td>\n",
              "    </tr>\n",
              "    <tr>\n",
              "      <th>2971</th>\n",
              "      <td>0</td>\n",
              "      <td>0</td>\n",
              "      <td>0</td>\n",
              "      <td>0</td>\n",
              "      <td>0</td>\n",
              "      <td>0</td>\n",
              "      <td>0</td>\n",
              "      <td>0</td>\n",
              "      <td>0</td>\n",
              "      <td>0</td>\n",
              "      <td>...</td>\n",
              "      <td>-0.411656</td>\n",
              "      <td>0.525841</td>\n",
              "      <td>0.461700</td>\n",
              "      <td>149</td>\n",
              "      <td>-1.228354</td>\n",
              "      <td>-1.042232</td>\n",
              "      <td>0.444389</td>\n",
              "      <td>0.733569</td>\n",
              "      <td>0.484782</td>\n",
              "      <td>-0.096897</td>\n",
              "    </tr>\n",
              "    <tr>\n",
              "      <th>2972</th>\n",
              "      <td>0</td>\n",
              "      <td>0</td>\n",
              "      <td>0</td>\n",
              "      <td>0</td>\n",
              "      <td>0</td>\n",
              "      <td>0</td>\n",
              "      <td>0</td>\n",
              "      <td>0</td>\n",
              "      <td>0</td>\n",
              "      <td>0</td>\n",
              "      <td>...</td>\n",
              "      <td>0.064596</td>\n",
              "      <td>1.426873</td>\n",
              "      <td>0.660834</td>\n",
              "      <td>149</td>\n",
              "      <td>-0.349458</td>\n",
              "      <td>-1.095304</td>\n",
              "      <td>-0.645884</td>\n",
              "      <td>0.518523</td>\n",
              "      <td>0.431278</td>\n",
              "      <td>1.490159</td>\n",
              "    </tr>\n",
              "    <tr>\n",
              "      <th>2973</th>\n",
              "      <td>0</td>\n",
              "      <td>0</td>\n",
              "      <td>0</td>\n",
              "      <td>0</td>\n",
              "      <td>0</td>\n",
              "      <td>0</td>\n",
              "      <td>0</td>\n",
              "      <td>0</td>\n",
              "      <td>0</td>\n",
              "      <td>0</td>\n",
              "      <td>...</td>\n",
              "      <td>-0.188963</td>\n",
              "      <td>-1.160136</td>\n",
              "      <td>-0.599499</td>\n",
              "      <td>149</td>\n",
              "      <td>-1.127531</td>\n",
              "      <td>-1.716126</td>\n",
              "      <td>0.444389</td>\n",
              "      <td>0.192719</td>\n",
              "      <td>-0.128832</td>\n",
              "      <td>0.557565</td>\n",
              "    </tr>\n",
              "    <tr>\n",
              "      <th>2974</th>\n",
              "      <td>0</td>\n",
              "      <td>0</td>\n",
              "      <td>0</td>\n",
              "      <td>0</td>\n",
              "      <td>0</td>\n",
              "      <td>0</td>\n",
              "      <td>0</td>\n",
              "      <td>0</td>\n",
              "      <td>0</td>\n",
              "      <td>0</td>\n",
              "      <td>...</td>\n",
              "      <td>0.068397</td>\n",
              "      <td>-0.524932</td>\n",
              "      <td>-0.326362</td>\n",
              "      <td>149</td>\n",
              "      <td>-1.229413</td>\n",
              "      <td>0.258788</td>\n",
              "      <td>0.444389</td>\n",
              "      <td>0.398424</td>\n",
              "      <td>0.271064</td>\n",
              "      <td>2.128444</td>\n",
              "    </tr>\n",
              "    <tr>\n",
              "      <th>2975</th>\n",
              "      <td>0</td>\n",
              "      <td>0</td>\n",
              "      <td>0</td>\n",
              "      <td>0</td>\n",
              "      <td>0</td>\n",
              "      <td>0</td>\n",
              "      <td>0</td>\n",
              "      <td>0</td>\n",
              "      <td>0</td>\n",
              "      <td>0</td>\n",
              "      <td>...</td>\n",
              "      <td>0.202754</td>\n",
              "      <td>0.017877</td>\n",
              "      <td>0.567187</td>\n",
              "      <td>149</td>\n",
              "      <td>-0.399067</td>\n",
              "      <td>-0.207248</td>\n",
              "      <td>1.534661</td>\n",
              "      <td>0.773151</td>\n",
              "      <td>0.838721</td>\n",
              "      <td>1.511279</td>\n",
              "    </tr>\n",
              "  </tbody>\n",
              "</table>\n",
              "<p>2976 rows × 158 columns</p>\n",
              "</div>\n",
              "      <button class=\"colab-df-convert\" onclick=\"convertToInteractive('df-c9d96b4a-96ce-49bd-abec-c143952c7e0c')\"\n",
              "              title=\"Convert this dataframe to an interactive table.\"\n",
              "              style=\"display:none;\">\n",
              "        \n",
              "  <svg xmlns=\"http://www.w3.org/2000/svg\" height=\"24px\"viewBox=\"0 0 24 24\"\n",
              "       width=\"24px\">\n",
              "    <path d=\"M0 0h24v24H0V0z\" fill=\"none\"/>\n",
              "    <path d=\"M18.56 5.44l.94 2.06.94-2.06 2.06-.94-2.06-.94-.94-2.06-.94 2.06-2.06.94zm-11 1L8.5 8.5l.94-2.06 2.06-.94-2.06-.94L8.5 2.5l-.94 2.06-2.06.94zm10 10l.94 2.06.94-2.06 2.06-.94-2.06-.94-.94-2.06-.94 2.06-2.06.94z\"/><path d=\"M17.41 7.96l-1.37-1.37c-.4-.4-.92-.59-1.43-.59-.52 0-1.04.2-1.43.59L10.3 9.45l-7.72 7.72c-.78.78-.78 2.05 0 2.83L4 21.41c.39.39.9.59 1.41.59.51 0 1.02-.2 1.41-.59l7.78-7.78 2.81-2.81c.8-.78.8-2.07 0-2.86zM5.41 20L4 18.59l7.72-7.72 1.47 1.35L5.41 20z\"/>\n",
              "  </svg>\n",
              "      </button>\n",
              "      \n",
              "  <style>\n",
              "    .colab-df-container {\n",
              "      display:flex;\n",
              "      flex-wrap:wrap;\n",
              "      gap: 12px;\n",
              "    }\n",
              "\n",
              "    .colab-df-convert {\n",
              "      background-color: #E8F0FE;\n",
              "      border: none;\n",
              "      border-radius: 50%;\n",
              "      cursor: pointer;\n",
              "      display: none;\n",
              "      fill: #1967D2;\n",
              "      height: 32px;\n",
              "      padding: 0 0 0 0;\n",
              "      width: 32px;\n",
              "    }\n",
              "\n",
              "    .colab-df-convert:hover {\n",
              "      background-color: #E2EBFA;\n",
              "      box-shadow: 0px 1px 2px rgba(60, 64, 67, 0.3), 0px 1px 3px 1px rgba(60, 64, 67, 0.15);\n",
              "      fill: #174EA6;\n",
              "    }\n",
              "\n",
              "    [theme=dark] .colab-df-convert {\n",
              "      background-color: #3B4455;\n",
              "      fill: #D2E3FC;\n",
              "    }\n",
              "\n",
              "    [theme=dark] .colab-df-convert:hover {\n",
              "      background-color: #434B5C;\n",
              "      box-shadow: 0px 1px 3px 1px rgba(0, 0, 0, 0.15);\n",
              "      filter: drop-shadow(0px 1px 2px rgba(0, 0, 0, 0.3));\n",
              "      fill: #FFFFFF;\n",
              "    }\n",
              "  </style>\n",
              "\n",
              "      <script>\n",
              "        const buttonEl =\n",
              "          document.querySelector('#df-c9d96b4a-96ce-49bd-abec-c143952c7e0c button.colab-df-convert');\n",
              "        buttonEl.style.display =\n",
              "          google.colab.kernel.accessAllowed ? 'block' : 'none';\n",
              "\n",
              "        async function convertToInteractive(key) {\n",
              "          const element = document.querySelector('#df-c9d96b4a-96ce-49bd-abec-c143952c7e0c');\n",
              "          const dataTable =\n",
              "            await google.colab.kernel.invokeFunction('convertToInteractive',\n",
              "                                                     [key], {});\n",
              "          if (!dataTable) return;\n",
              "\n",
              "          const docLinkHtml = 'Like what you see? Visit the ' +\n",
              "            '<a target=\"_blank\" href=https://colab.research.google.com/notebooks/data_table.ipynb>data table notebook</a>'\n",
              "            + ' to learn more about interactive tables.';\n",
              "          element.innerHTML = '';\n",
              "          dataTable['output_type'] = 'display_data';\n",
              "          await google.colab.output.renderOutput(dataTable, element);\n",
              "          const docLink = document.createElement('div');\n",
              "          docLink.innerHTML = docLinkHtml;\n",
              "          element.appendChild(docLink);\n",
              "        }\n",
              "      </script>\n",
              "    </div>\n",
              "  </div>\n",
              "  "
            ]
          },
          "metadata": {},
          "execution_count": 9
        }
      ],
      "source": [
        "df"
      ]
    },
    {
      "cell_type": "code",
      "execution_count": null,
      "id": "94c1d23e-093c-4924-a89e-00b8f5f64854",
      "metadata": {
        "id": "94c1d23e-093c-4924-a89e-00b8f5f64854",
        "outputId": "dc4227c0-d451-4a94-d8d0-e9222fafd6f3"
      },
      "outputs": [
        {
          "data": {
            "text/plain": [
              "2976"
            ]
          },
          "execution_count": 8,
          "metadata": {},
          "output_type": "execute_result"
        }
      ],
      "source": [
        "len(y)"
      ]
    },
    {
      "cell_type": "code",
      "execution_count": 10,
      "id": "c0d2c19f-8df1-4a10-9b67-dbda875d3277",
      "metadata": {
        "id": "c0d2c19f-8df1-4a10-9b67-dbda875d3277"
      },
      "outputs": [],
      "source": [
        "X_train, X_test, y_train, y_test = train_test_split(df, y, test_size=0.30, random_state=1)"
      ]
    },
    {
      "cell_type": "code",
      "execution_count": 11,
      "id": "36c97098-cbc0-4b43-900b-7fe9172fd3d6",
      "metadata": {
        "colab": {
          "base_uri": "https://localhost:8080/",
          "height": 487
        },
        "id": "36c97098-cbc0-4b43-900b-7fe9172fd3d6",
        "outputId": "dc0cacbd-0846-4fec-e988-5ee7750c23ba"
      },
      "outputs": [
        {
          "output_type": "execute_result",
          "data": {
            "text/plain": [
              "      teamID_ALT  teamID_ANA  teamID_ARI  teamID_ATL  teamID_BAL  teamID_BFN  \\\n",
              "2231           0           0           0           0           0           0   \n",
              "130            0           0           0           0           0           0   \n",
              "2541           0           0           0           0           0           0   \n",
              "1365           0           0           0           0           0           0   \n",
              "553            0           0           0           0           0           0   \n",
              "...          ...         ...         ...         ...         ...         ...   \n",
              "2763           0           0           0           0           0           0   \n",
              "905            0           0           0           0           0           0   \n",
              "1096           0           0           0           0           0           0   \n",
              "235            0           0           0           0           0           0   \n",
              "1061           0           0           0           0           0           0   \n",
              "\n",
              "      teamID_BFP  teamID_BL1  teamID_BL2  teamID_BL3  ...  pwp_1.83  \\\n",
              "2231           0           0           0           0  ...  0.866147   \n",
              "130            0           0           0           0  ...       NaN   \n",
              "2541           0           0           0           0  ...  0.331770   \n",
              "1365           0           0           0           0  ...  0.005909   \n",
              "553            0           0           0           0  ... -0.614012   \n",
              "...          ...         ...         ...         ...  ...       ...   \n",
              "2763           0           0           0           0  ... -0.297733   \n",
              "905            0           0           0           0  ...  0.447226   \n",
              "1096           0           0           0           0  ...  0.126711   \n",
              "235            0           0           0           0  ...  1.234581   \n",
              "1061           0           0           0           0  ...  0.332109   \n",
              "\n",
              "      rolling_3_win_perc  rolling_5_win_perc  yearID   CS_perc        BA  \\\n",
              "2231            0.382241            0.052510     125  0.523814  1.758791   \n",
              "130                  NaN                 NaN      12       NaN       NaN   \n",
              "2541           -0.611085           -1.184478     135 -0.899296  0.040093   \n",
              "1365            0.288458                 NaN      89  0.438485  0.130736   \n",
              "553            -0.197490            0.326594      40       NaN -0.373232   \n",
              "...                  ...                 ...     ...       ...       ...   \n",
              "2763            1.006534            0.942589     142 -0.026170 -0.285944   \n",
              "905            -1.948814           -1.803132      61  1.913829  0.644302   \n",
              "1096           -1.144033           -1.339803      73       NaN  0.337416   \n",
              "235             0.724833            2.048080      18       NaN -0.083468   \n",
              "1061           -0.991594           -0.782988      70 -1.042219 -0.216128   \n",
              "\n",
              "      medianERA  pitcherAverageAge  batterAverageAge  medianOPS  \n",
              "2231   1.534661           0.015157         -0.026949   1.520392  \n",
              "130    0.444389          -1.372685         -2.272032        NaN  \n",
              "2541   0.444389           0.515868          0.543920  -0.721159  \n",
              "1365  -0.645884           0.026042         -0.303634   0.244555  \n",
              "553   -0.645884          -0.956813         -0.781655  -0.070586  \n",
              "...         ...                ...               ...        ...  \n",
              "2763   0.444389           0.129449          0.220772  -0.392530  \n",
              "905    0.444389           1.256051          0.915686   0.282729  \n",
              "1096   0.444389           0.867158          0.778249  -0.764499  \n",
              "235   -0.645884          -1.407155         -1.321475   0.127940  \n",
              "1061   1.534661          -0.184856         -0.418593  -1.675350  \n",
              "\n",
              "[2083 rows x 158 columns]"
            ],
            "text/html": [
              "\n",
              "  <div id=\"df-36915cef-eea6-46ba-94b8-fa394c32439f\">\n",
              "    <div class=\"colab-df-container\">\n",
              "      <div>\n",
              "<style scoped>\n",
              "    .dataframe tbody tr th:only-of-type {\n",
              "        vertical-align: middle;\n",
              "    }\n",
              "\n",
              "    .dataframe tbody tr th {\n",
              "        vertical-align: top;\n",
              "    }\n",
              "\n",
              "    .dataframe thead th {\n",
              "        text-align: right;\n",
              "    }\n",
              "</style>\n",
              "<table border=\"1\" class=\"dataframe\">\n",
              "  <thead>\n",
              "    <tr style=\"text-align: right;\">\n",
              "      <th></th>\n",
              "      <th>teamID_ALT</th>\n",
              "      <th>teamID_ANA</th>\n",
              "      <th>teamID_ARI</th>\n",
              "      <th>teamID_ATL</th>\n",
              "      <th>teamID_BAL</th>\n",
              "      <th>teamID_BFN</th>\n",
              "      <th>teamID_BFP</th>\n",
              "      <th>teamID_BL1</th>\n",
              "      <th>teamID_BL2</th>\n",
              "      <th>teamID_BL3</th>\n",
              "      <th>...</th>\n",
              "      <th>pwp_1.83</th>\n",
              "      <th>rolling_3_win_perc</th>\n",
              "      <th>rolling_5_win_perc</th>\n",
              "      <th>yearID</th>\n",
              "      <th>CS_perc</th>\n",
              "      <th>BA</th>\n",
              "      <th>medianERA</th>\n",
              "      <th>pitcherAverageAge</th>\n",
              "      <th>batterAverageAge</th>\n",
              "      <th>medianOPS</th>\n",
              "    </tr>\n",
              "  </thead>\n",
              "  <tbody>\n",
              "    <tr>\n",
              "      <th>2231</th>\n",
              "      <td>0</td>\n",
              "      <td>0</td>\n",
              "      <td>0</td>\n",
              "      <td>0</td>\n",
              "      <td>0</td>\n",
              "      <td>0</td>\n",
              "      <td>0</td>\n",
              "      <td>0</td>\n",
              "      <td>0</td>\n",
              "      <td>0</td>\n",
              "      <td>...</td>\n",
              "      <td>0.866147</td>\n",
              "      <td>0.382241</td>\n",
              "      <td>0.052510</td>\n",
              "      <td>125</td>\n",
              "      <td>0.523814</td>\n",
              "      <td>1.758791</td>\n",
              "      <td>1.534661</td>\n",
              "      <td>0.015157</td>\n",
              "      <td>-0.026949</td>\n",
              "      <td>1.520392</td>\n",
              "    </tr>\n",
              "    <tr>\n",
              "      <th>130</th>\n",
              "      <td>0</td>\n",
              "      <td>0</td>\n",
              "      <td>0</td>\n",
              "      <td>0</td>\n",
              "      <td>0</td>\n",
              "      <td>0</td>\n",
              "      <td>0</td>\n",
              "      <td>0</td>\n",
              "      <td>0</td>\n",
              "      <td>0</td>\n",
              "      <td>...</td>\n",
              "      <td>NaN</td>\n",
              "      <td>NaN</td>\n",
              "      <td>NaN</td>\n",
              "      <td>12</td>\n",
              "      <td>NaN</td>\n",
              "      <td>NaN</td>\n",
              "      <td>0.444389</td>\n",
              "      <td>-1.372685</td>\n",
              "      <td>-2.272032</td>\n",
              "      <td>NaN</td>\n",
              "    </tr>\n",
              "    <tr>\n",
              "      <th>2541</th>\n",
              "      <td>0</td>\n",
              "      <td>0</td>\n",
              "      <td>0</td>\n",
              "      <td>0</td>\n",
              "      <td>0</td>\n",
              "      <td>0</td>\n",
              "      <td>0</td>\n",
              "      <td>0</td>\n",
              "      <td>0</td>\n",
              "      <td>0</td>\n",
              "      <td>...</td>\n",
              "      <td>0.331770</td>\n",
              "      <td>-0.611085</td>\n",
              "      <td>-1.184478</td>\n",
              "      <td>135</td>\n",
              "      <td>-0.899296</td>\n",
              "      <td>0.040093</td>\n",
              "      <td>0.444389</td>\n",
              "      <td>0.515868</td>\n",
              "      <td>0.543920</td>\n",
              "      <td>-0.721159</td>\n",
              "    </tr>\n",
              "    <tr>\n",
              "      <th>1365</th>\n",
              "      <td>0</td>\n",
              "      <td>0</td>\n",
              "      <td>0</td>\n",
              "      <td>0</td>\n",
              "      <td>0</td>\n",
              "      <td>0</td>\n",
              "      <td>0</td>\n",
              "      <td>0</td>\n",
              "      <td>0</td>\n",
              "      <td>0</td>\n",
              "      <td>...</td>\n",
              "      <td>0.005909</td>\n",
              "      <td>0.288458</td>\n",
              "      <td>NaN</td>\n",
              "      <td>89</td>\n",
              "      <td>0.438485</td>\n",
              "      <td>0.130736</td>\n",
              "      <td>-0.645884</td>\n",
              "      <td>0.026042</td>\n",
              "      <td>-0.303634</td>\n",
              "      <td>0.244555</td>\n",
              "    </tr>\n",
              "    <tr>\n",
              "      <th>553</th>\n",
              "      <td>0</td>\n",
              "      <td>0</td>\n",
              "      <td>0</td>\n",
              "      <td>0</td>\n",
              "      <td>0</td>\n",
              "      <td>0</td>\n",
              "      <td>0</td>\n",
              "      <td>0</td>\n",
              "      <td>0</td>\n",
              "      <td>0</td>\n",
              "      <td>...</td>\n",
              "      <td>-0.614012</td>\n",
              "      <td>-0.197490</td>\n",
              "      <td>0.326594</td>\n",
              "      <td>40</td>\n",
              "      <td>NaN</td>\n",
              "      <td>-0.373232</td>\n",
              "      <td>-0.645884</td>\n",
              "      <td>-0.956813</td>\n",
              "      <td>-0.781655</td>\n",
              "      <td>-0.070586</td>\n",
              "    </tr>\n",
              "    <tr>\n",
              "      <th>...</th>\n",
              "      <td>...</td>\n",
              "      <td>...</td>\n",
              "      <td>...</td>\n",
              "      <td>...</td>\n",
              "      <td>...</td>\n",
              "      <td>...</td>\n",
              "      <td>...</td>\n",
              "      <td>...</td>\n",
              "      <td>...</td>\n",
              "      <td>...</td>\n",
              "      <td>...</td>\n",
              "      <td>...</td>\n",
              "      <td>...</td>\n",
              "      <td>...</td>\n",
              "      <td>...</td>\n",
              "      <td>...</td>\n",
              "      <td>...</td>\n",
              "      <td>...</td>\n",
              "      <td>...</td>\n",
              "      <td>...</td>\n",
              "      <td>...</td>\n",
              "    </tr>\n",
              "    <tr>\n",
              "      <th>2763</th>\n",
              "      <td>0</td>\n",
              "      <td>0</td>\n",
              "      <td>0</td>\n",
              "      <td>0</td>\n",
              "      <td>0</td>\n",
              "      <td>0</td>\n",
              "      <td>0</td>\n",
              "      <td>0</td>\n",
              "      <td>0</td>\n",
              "      <td>0</td>\n",
              "      <td>...</td>\n",
              "      <td>-0.297733</td>\n",
              "      <td>1.006534</td>\n",
              "      <td>0.942589</td>\n",
              "      <td>142</td>\n",
              "      <td>-0.026170</td>\n",
              "      <td>-0.285944</td>\n",
              "      <td>0.444389</td>\n",
              "      <td>0.129449</td>\n",
              "      <td>0.220772</td>\n",
              "      <td>-0.392530</td>\n",
              "    </tr>\n",
              "    <tr>\n",
              "      <th>905</th>\n",
              "      <td>0</td>\n",
              "      <td>0</td>\n",
              "      <td>0</td>\n",
              "      <td>0</td>\n",
              "      <td>0</td>\n",
              "      <td>0</td>\n",
              "      <td>0</td>\n",
              "      <td>0</td>\n",
              "      <td>0</td>\n",
              "      <td>0</td>\n",
              "      <td>...</td>\n",
              "      <td>0.447226</td>\n",
              "      <td>-1.948814</td>\n",
              "      <td>-1.803132</td>\n",
              "      <td>61</td>\n",
              "      <td>1.913829</td>\n",
              "      <td>0.644302</td>\n",
              "      <td>0.444389</td>\n",
              "      <td>1.256051</td>\n",
              "      <td>0.915686</td>\n",
              "      <td>0.282729</td>\n",
              "    </tr>\n",
              "    <tr>\n",
              "      <th>1096</th>\n",
              "      <td>0</td>\n",
              "      <td>0</td>\n",
              "      <td>0</td>\n",
              "      <td>0</td>\n",
              "      <td>0</td>\n",
              "      <td>0</td>\n",
              "      <td>0</td>\n",
              "      <td>0</td>\n",
              "      <td>0</td>\n",
              "      <td>0</td>\n",
              "      <td>...</td>\n",
              "      <td>0.126711</td>\n",
              "      <td>-1.144033</td>\n",
              "      <td>-1.339803</td>\n",
              "      <td>73</td>\n",
              "      <td>NaN</td>\n",
              "      <td>0.337416</td>\n",
              "      <td>0.444389</td>\n",
              "      <td>0.867158</td>\n",
              "      <td>0.778249</td>\n",
              "      <td>-0.764499</td>\n",
              "    </tr>\n",
              "    <tr>\n",
              "      <th>235</th>\n",
              "      <td>0</td>\n",
              "      <td>0</td>\n",
              "      <td>0</td>\n",
              "      <td>0</td>\n",
              "      <td>0</td>\n",
              "      <td>0</td>\n",
              "      <td>0</td>\n",
              "      <td>0</td>\n",
              "      <td>0</td>\n",
              "      <td>0</td>\n",
              "      <td>...</td>\n",
              "      <td>1.234581</td>\n",
              "      <td>0.724833</td>\n",
              "      <td>2.048080</td>\n",
              "      <td>18</td>\n",
              "      <td>NaN</td>\n",
              "      <td>-0.083468</td>\n",
              "      <td>-0.645884</td>\n",
              "      <td>-1.407155</td>\n",
              "      <td>-1.321475</td>\n",
              "      <td>0.127940</td>\n",
              "    </tr>\n",
              "    <tr>\n",
              "      <th>1061</th>\n",
              "      <td>0</td>\n",
              "      <td>0</td>\n",
              "      <td>0</td>\n",
              "      <td>0</td>\n",
              "      <td>0</td>\n",
              "      <td>0</td>\n",
              "      <td>0</td>\n",
              "      <td>0</td>\n",
              "      <td>0</td>\n",
              "      <td>0</td>\n",
              "      <td>...</td>\n",
              "      <td>0.332109</td>\n",
              "      <td>-0.991594</td>\n",
              "      <td>-0.782988</td>\n",
              "      <td>70</td>\n",
              "      <td>-1.042219</td>\n",
              "      <td>-0.216128</td>\n",
              "      <td>1.534661</td>\n",
              "      <td>-0.184856</td>\n",
              "      <td>-0.418593</td>\n",
              "      <td>-1.675350</td>\n",
              "    </tr>\n",
              "  </tbody>\n",
              "</table>\n",
              "<p>2083 rows × 158 columns</p>\n",
              "</div>\n",
              "      <button class=\"colab-df-convert\" onclick=\"convertToInteractive('df-36915cef-eea6-46ba-94b8-fa394c32439f')\"\n",
              "              title=\"Convert this dataframe to an interactive table.\"\n",
              "              style=\"display:none;\">\n",
              "        \n",
              "  <svg xmlns=\"http://www.w3.org/2000/svg\" height=\"24px\"viewBox=\"0 0 24 24\"\n",
              "       width=\"24px\">\n",
              "    <path d=\"M0 0h24v24H0V0z\" fill=\"none\"/>\n",
              "    <path d=\"M18.56 5.44l.94 2.06.94-2.06 2.06-.94-2.06-.94-.94-2.06-.94 2.06-2.06.94zm-11 1L8.5 8.5l.94-2.06 2.06-.94-2.06-.94L8.5 2.5l-.94 2.06-2.06.94zm10 10l.94 2.06.94-2.06 2.06-.94-2.06-.94-.94-2.06-.94 2.06-2.06.94z\"/><path d=\"M17.41 7.96l-1.37-1.37c-.4-.4-.92-.59-1.43-.59-.52 0-1.04.2-1.43.59L10.3 9.45l-7.72 7.72c-.78.78-.78 2.05 0 2.83L4 21.41c.39.39.9.59 1.41.59.51 0 1.02-.2 1.41-.59l7.78-7.78 2.81-2.81c.8-.78.8-2.07 0-2.86zM5.41 20L4 18.59l7.72-7.72 1.47 1.35L5.41 20z\"/>\n",
              "  </svg>\n",
              "      </button>\n",
              "      \n",
              "  <style>\n",
              "    .colab-df-container {\n",
              "      display:flex;\n",
              "      flex-wrap:wrap;\n",
              "      gap: 12px;\n",
              "    }\n",
              "\n",
              "    .colab-df-convert {\n",
              "      background-color: #E8F0FE;\n",
              "      border: none;\n",
              "      border-radius: 50%;\n",
              "      cursor: pointer;\n",
              "      display: none;\n",
              "      fill: #1967D2;\n",
              "      height: 32px;\n",
              "      padding: 0 0 0 0;\n",
              "      width: 32px;\n",
              "    }\n",
              "\n",
              "    .colab-df-convert:hover {\n",
              "      background-color: #E2EBFA;\n",
              "      box-shadow: 0px 1px 2px rgba(60, 64, 67, 0.3), 0px 1px 3px 1px rgba(60, 64, 67, 0.15);\n",
              "      fill: #174EA6;\n",
              "    }\n",
              "\n",
              "    [theme=dark] .colab-df-convert {\n",
              "      background-color: #3B4455;\n",
              "      fill: #D2E3FC;\n",
              "    }\n",
              "\n",
              "    [theme=dark] .colab-df-convert:hover {\n",
              "      background-color: #434B5C;\n",
              "      box-shadow: 0px 1px 3px 1px rgba(0, 0, 0, 0.15);\n",
              "      filter: drop-shadow(0px 1px 2px rgba(0, 0, 0, 0.3));\n",
              "      fill: #FFFFFF;\n",
              "    }\n",
              "  </style>\n",
              "\n",
              "      <script>\n",
              "        const buttonEl =\n",
              "          document.querySelector('#df-36915cef-eea6-46ba-94b8-fa394c32439f button.colab-df-convert');\n",
              "        buttonEl.style.display =\n",
              "          google.colab.kernel.accessAllowed ? 'block' : 'none';\n",
              "\n",
              "        async function convertToInteractive(key) {\n",
              "          const element = document.querySelector('#df-36915cef-eea6-46ba-94b8-fa394c32439f');\n",
              "          const dataTable =\n",
              "            await google.colab.kernel.invokeFunction('convertToInteractive',\n",
              "                                                     [key], {});\n",
              "          if (!dataTable) return;\n",
              "\n",
              "          const docLinkHtml = 'Like what you see? Visit the ' +\n",
              "            '<a target=\"_blank\" href=https://colab.research.google.com/notebooks/data_table.ipynb>data table notebook</a>'\n",
              "            + ' to learn more about interactive tables.';\n",
              "          element.innerHTML = '';\n",
              "          dataTable['output_type'] = 'display_data';\n",
              "          await google.colab.output.renderOutput(dataTable, element);\n",
              "          const docLink = document.createElement('div');\n",
              "          docLink.innerHTML = docLinkHtml;\n",
              "          element.appendChild(docLink);\n",
              "        }\n",
              "      </script>\n",
              "    </div>\n",
              "  </div>\n",
              "  "
            ]
          },
          "metadata": {},
          "execution_count": 11
        }
      ],
      "source": [
        "X_train"
      ]
    },
    {
      "cell_type": "code",
      "execution_count": 12,
      "id": "a5a8bd78-bdb1-49f7-9228-fc837704fdd3",
      "metadata": {
        "id": "a5a8bd78-bdb1-49f7-9228-fc837704fdd3"
      },
      "outputs": [],
      "source": [
        "imputer_mean = impute.SimpleImputer()\n",
        "X_train_ = imputer_mean.fit_transform(X_train)\n",
        "X_test_ = imputer_mean.transform(X_test)"
      ]
    },
    {
      "cell_type": "code",
      "source": [
        "#@title linear regression\n",
        "\n",
        "lr1 = linear_model.LinearRegression()\n",
        "print(\"cv score: \", cross_validate(lr1, X_train_, y_train, cv=5, scoring='r2')['test_score'].mean())\n",
        "lr1.fit(X_train_, y_train)\n",
        "y_pred1 = lr1.predict(X_test_)\n",
        "print(\"test score :\\nr2 = \", metrics.r2_score(y_test, y_pred1))"
      ],
      "metadata": {
        "colab": {
          "base_uri": "https://localhost:8080/"
        },
        "id": "UBJfngr3BGXP",
        "outputId": "558d5145-3fbf-49b1-a9d4-fc703ed5f11c"
      },
      "id": "UBJfngr3BGXP",
      "execution_count": 14,
      "outputs": [
        {
          "output_type": "stream",
          "name": "stdout",
          "text": [
            "cv score:  -4.27530856400306e+19\n",
            "test score :\n",
            "r2 =  0.5486241718428455\n"
          ]
        }
      ]
    },
    {
      "cell_type": "code",
      "source": [
        "#@title decision tree\n",
        "\n",
        "dtree = tree.DecisionTreeRegressor()\n",
        "print(\"cv score: \", cross_validate(dtree, X_train_, y_train, cv=5, scoring='r2')['test_score'].mean())\n",
        "dtree.fit(X_train_, y_train)\n",
        "y_pred2 = dtree.predict(X_test_)\n",
        "print(\"test score :\\nr2 = \", metrics.r2_score(y_test, y_pred1))"
      ],
      "metadata": {
        "colab": {
          "base_uri": "https://localhost:8080/"
        },
        "id": "yug-4M62B3jo",
        "outputId": "28ebd935-4a56-4b54-c845-7476d50c55f3"
      },
      "id": "yug-4M62B3jo",
      "execution_count": 17,
      "outputs": [
        {
          "output_type": "stream",
          "name": "stdout",
          "text": [
            "cv score:  0.06842877062865713\n",
            "test score :\n",
            "r2 =  0.5486241718428455\n"
          ]
        }
      ]
    },
    {
      "cell_type": "markdown",
      "id": "9ae6edef-3f2f-463a-8df5-271fb90486dc",
      "metadata": {
        "id": "9ae6edef-3f2f-463a-8df5-271fb90486dc"
      },
      "source": [
        "# Bayesian Regression"
      ]
    },
    {
      "cell_type": "code",
      "execution_count": null,
      "id": "46e100ae-13d3-408c-8034-60635e3f03a7",
      "metadata": {
        "id": "46e100ae-13d3-408c-8034-60635e3f03a7",
        "outputId": "6d2be34d-a02d-444a-b39a-4c85cbde9ed8"
      },
      "outputs": [
        {
          "data": {
            "text/plain": [
              "0.5096476860774694"
            ]
          },
          "execution_count": 12,
          "metadata": {},
          "output_type": "execute_result"
        }
      ],
      "source": [
        "br = linear_model.BayesianRidge()\n",
        "cross_validate(br, X_train_, y_train, cv=5, scoring='r2')['test_score'].mean()"
      ]
    },
    {
      "cell_type": "code",
      "execution_count": null,
      "id": "20cc3d2d-e16d-463d-8da3-89134a031a41",
      "metadata": {
        "id": "20cc3d2d-e16d-463d-8da3-89134a031a41",
        "outputId": "6da3cfb6-88ed-4afd-b220-b79b923037de"
      },
      "outputs": [
        {
          "name": "stdout",
          "output_type": "stream",
          "text": [
            "r2: 0.5637910204924319 , rmse: 0.06253880317006125 , mea: 0.04619407763781516\n"
          ]
        }
      ],
      "source": [
        "br.fit(X_train_, y_train)\n",
        "pred = br.predict(X_test_)\n",
        "r2 = metrics.r2_score(y_test, pred)\n",
        "rmse = metrics.mean_squared_error(y_test, pred, squared=False)\n",
        "mea = metrics.mean_absolute_error(y_test, pred)\n",
        "print('r2:' , r2, ', rmse:', rmse, ', mea:', mea)"
      ]
    },
    {
      "cell_type": "markdown",
      "id": "c94705c6-d7d7-4bad-9525-2f0a2eefc584",
      "metadata": {
        "id": "c94705c6-d7d7-4bad-9525-2f0a2eefc584"
      },
      "source": [
        "#### Improving parameters"
      ]
    },
    {
      "cell_type": "code",
      "execution_count": null,
      "id": "634a1c70-82ee-4a1b-be47-956f1e34a2fc",
      "metadata": {
        "id": "634a1c70-82ee-4a1b-be47-956f1e34a2fc",
        "outputId": "aee4a972-804e-4219-a8f8-1e179f94e1fe"
      },
      "outputs": [
        {
          "data": {
            "text/plain": [
              "0.5096476860774694"
            ]
          },
          "execution_count": 14,
          "metadata": {},
          "output_type": "execute_result"
        }
      ],
      "source": [
        "br = linear_model.BayesianRidge(n_iter = 500)\n",
        "cross_validate(br, X_train_, y_train, cv=5, scoring='r2')['test_score'].mean()"
      ]
    },
    {
      "cell_type": "code",
      "execution_count": null,
      "id": "8288b881-c809-46cc-8022-0e36340b7e03",
      "metadata": {
        "id": "8288b881-c809-46cc-8022-0e36340b7e03",
        "outputId": "f242a8a3-a56b-4860-d993-fda83d3c08dd"
      },
      "outputs": [
        {
          "data": {
            "text/plain": [
              "0.5096476860774694"
            ]
          },
          "execution_count": 15,
          "metadata": {},
          "output_type": "execute_result"
        }
      ],
      "source": [
        "br = linear_model.BayesianRidge(n_iter = 300)\n",
        "cross_validate(br, X_train_, y_train, cv=5, scoring='r2')['test_score'].mean()"
      ]
    },
    {
      "cell_type": "code",
      "execution_count": null,
      "id": "15ddcb04-7020-48a9-8fc7-4c04a74bfe43",
      "metadata": {
        "id": "15ddcb04-7020-48a9-8fc7-4c04a74bfe43",
        "outputId": "9adbb538-079d-4204-890e-860cb9dd197d"
      },
      "outputs": [
        {
          "data": {
            "text/plain": [
              "0.5096499238785729"
            ]
          },
          "execution_count": 16,
          "metadata": {},
          "output_type": "execute_result"
        }
      ],
      "source": [
        "br = linear_model.BayesianRidge(lambda_2 = .00000001)\n",
        "cross_validate(br, X_train_, y_train, cv=5, scoring='r2')['test_score'].mean()"
      ]
    },
    {
      "cell_type": "code",
      "execution_count": null,
      "id": "726c823f-1144-4432-96e4-d19e7d024b77",
      "metadata": {
        "id": "726c823f-1144-4432-96e4-d19e7d024b77",
        "outputId": "4b39f725-6401-4c10-a911-c971df9e4c3d"
      },
      "outputs": [
        {
          "data": {
            "text/plain": [
              "0.5313112833863622"
            ]
          },
          "execution_count": 17,
          "metadata": {},
          "output_type": "execute_result"
        }
      ],
      "source": [
        "br = linear_model.BayesianRidge(lambda_1 = 40)\n",
        "cross_validate(br, X_train_, y_train, cv=5, scoring='r2')['test_score'].mean()"
      ]
    },
    {
      "cell_type": "code",
      "execution_count": null,
      "id": "e6d7f996-4e7f-48d9-8d4a-ef8cca0db291",
      "metadata": {
        "id": "e6d7f996-4e7f-48d9-8d4a-ef8cca0db291",
        "outputId": "901f3461-f1c7-48e4-d5ec-f04929880304"
      },
      "outputs": [
        {
          "name": "stdout",
          "output_type": "stream",
          "text": [
            "r2: 0.5725804689185325 , rmse: 0.06190553008990684 , mea: 0.04589209058297949\n"
          ]
        }
      ],
      "source": [
        "br.fit(X_train_, y_train)\n",
        "pred = br.predict(X_test_)\n",
        "r2 = metrics.r2_score(y_test, pred)\n",
        "rmse = metrics.mean_squared_error(y_test, pred, squared=False)\n",
        "mea = metrics.mean_absolute_error(y_test, pred)\n",
        "print('r2:' , r2, ', rmse:', rmse, ', mea:', mea)"
      ]
    },
    {
      "cell_type": "markdown",
      "id": "bedf84f7-3ce2-46ab-8f8f-b42adb6a92c2",
      "metadata": {
        "id": "bedf84f7-3ce2-46ab-8f8f-b42adb6a92c2"
      },
      "source": [
        "# Stochastic Gradient Descent"
      ]
    },
    {
      "cell_type": "code",
      "execution_count": null,
      "id": "a7657bce-c190-4af1-b47d-27b2125a945e",
      "metadata": {
        "id": "a7657bce-c190-4af1-b47d-27b2125a945e",
        "outputId": "f0ca1c57-07a5-4ac8-c9e0-01631dcd880d"
      },
      "outputs": [
        {
          "data": {
            "text/plain": [
              "-7.265461843486607"
            ]
          },
          "execution_count": 19,
          "metadata": {},
          "output_type": "execute_result"
        }
      ],
      "source": [
        "sgd = SGDRegressor()\n",
        "scaled = preprocessing.scale(X_train_)\n",
        "cross_validate(sgd, scaled, y_train, cv=5, scoring='r2')['test_score'].mean()"
      ]
    },
    {
      "cell_type": "markdown",
      "id": "7d76ff3f-2391-40dc-a661-56e550843139",
      "metadata": {
        "id": "7d76ff3f-2391-40dc-a661-56e550843139"
      },
      "source": [
        "##### not sure what went wrong or why this is such a bad model"
      ]
    },
    {
      "cell_type": "markdown",
      "id": "6b1a70d5-0825-4a98-97c5-64ffef2d0c6c",
      "metadata": {
        "id": "6b1a70d5-0825-4a98-97c5-64ffef2d0c6c"
      },
      "source": [
        "# Gradient Boosting Tree "
      ]
    },
    {
      "cell_type": "code",
      "execution_count": null,
      "id": "019b385d-b2bd-4976-8877-1341feb3d866",
      "metadata": {
        "id": "019b385d-b2bd-4976-8877-1341feb3d866",
        "outputId": "950ebccf-ebbf-43e2-d4c7-ecd93c3c2a0f"
      },
      "outputs": [
        {
          "data": {
            "text/plain": [
              "0.5270955978220893"
            ]
          },
          "execution_count": 20,
          "metadata": {},
          "output_type": "execute_result"
        }
      ],
      "source": [
        "gbr = GradientBoostingRegressor(random_state=0)\n",
        "cross_validate(gbr, X_train_, y_train, cv=5, scoring='r2')['test_score'].mean()"
      ]
    },
    {
      "cell_type": "code",
      "execution_count": null,
      "id": "9b4241eb-3a36-45ae-83be-bd0d115a0328",
      "metadata": {
        "id": "9b4241eb-3a36-45ae-83be-bd0d115a0328",
        "outputId": "d032dbf9-7edc-4584-8f16-873e481e7a5e"
      },
      "outputs": [
        {
          "name": "stdout",
          "output_type": "stream",
          "text": [
            "r2: 0.5986783803092339 , rmse: 0.05998581215263861 , mea: 0.04608202122445602\n"
          ]
        }
      ],
      "source": [
        "gbr.fit(X_train_, y_train)\n",
        "pred = gbr.predict(X_test_)\n",
        "r2 = metrics.r2_score(y_test, pred)\n",
        "rmse = metrics.mean_squared_error(y_test, pred, squared=False)\n",
        "mea = metrics.mean_absolute_error(y_test, pred)\n",
        "print('r2:' , r2, ', rmse:', rmse, ', mea:', mea)"
      ]
    },
    {
      "cell_type": "markdown",
      "id": "2e750824-7137-4731-a8c4-e410174cf5d0",
      "metadata": {
        "id": "2e750824-7137-4731-a8c4-e410174cf5d0"
      },
      "source": [
        "#### Improving Parameters"
      ]
    },
    {
      "cell_type": "code",
      "execution_count": null,
      "id": "69db1571-0747-47cc-8dfd-b9744abc33c4",
      "metadata": {
        "id": "69db1571-0747-47cc-8dfd-b9744abc33c4",
        "outputId": "d9da73d0-0233-4baf-f084-6420175eb1c6"
      },
      "outputs": [
        {
          "data": {
            "text/plain": [
              "0.5366094662942833"
            ]
          },
          "execution_count": 22,
          "metadata": {},
          "output_type": "execute_result"
        }
      ],
      "source": [
        "gbr = GradientBoostingRegressor(learning_rate = 0.15, random_state=0)\n",
        "cross_validate(gbr, X_train_, y_train, cv=5, scoring='r2')['test_score'].mean()"
      ]
    },
    {
      "cell_type": "code",
      "execution_count": null,
      "id": "a5c43a14-0848-45bf-95b8-d997a2c79661",
      "metadata": {
        "id": "a5c43a14-0848-45bf-95b8-d997a2c79661",
        "outputId": "e152e4ab-7bca-4056-e49c-2e7db2b3719f"
      },
      "outputs": [
        {
          "data": {
            "text/plain": [
              "0.5373594008316948"
            ]
          },
          "execution_count": 23,
          "metadata": {},
          "output_type": "execute_result"
        }
      ],
      "source": [
        "gbr = GradientBoostingRegressor(learning_rate = 0.15 , subsample = 0.9, random_state=0)\n",
        "cross_validate(gbr, X_train_, y_train, cv=5, scoring='r2')['test_score'].mean()"
      ]
    },
    {
      "cell_type": "code",
      "execution_count": null,
      "id": "d6f84a80-4a67-4152-b0af-cb0e03d13311",
      "metadata": {
        "id": "d6f84a80-4a67-4152-b0af-cb0e03d13311",
        "outputId": "1ba4e59f-b4bf-49c1-c60d-fda6fa0ef461"
      },
      "outputs": [
        {
          "data": {
            "text/plain": [
              "0.548989775150081"
            ]
          },
          "execution_count": 24,
          "metadata": {},
          "output_type": "execute_result"
        }
      ],
      "source": [
        "gbr = GradientBoostingRegressor(learning_rate = 0.15 , subsample = 0.9, min_samples_leaf = 39, random_state=0)\n",
        "cross_validate(gbr, X_train_, y_train, cv=5, scoring='r2')['test_score'].mean()"
      ]
    },
    {
      "cell_type": "code",
      "execution_count": null,
      "id": "893aa51f-7c03-4740-8ac5-ddc9665494c2",
      "metadata": {
        "id": "893aa51f-7c03-4740-8ac5-ddc9665494c2",
        "outputId": "41e585a2-e5f9-462d-c38d-9b47e9e2057d"
      },
      "outputs": [
        {
          "name": "stdout",
          "output_type": "stream",
          "text": [
            "r2: 0.6171146853730183 , rmse: 0.058591770262866445 , mea: 0.04494200316972237\n"
          ]
        }
      ],
      "source": [
        "gbr.fit(X_train_, y_train)\n",
        "pred_gbr = gbr.predict(X_test_)\n",
        "r2 = metrics.r2_score(y_test, pred_gbr)\n",
        "rmse = metrics.mean_squared_error(y_test, pred_gbr, squared=False)\n",
        "mea = metrics.mean_absolute_error(y_test, pred_gbr)\n",
        "print('r2:' , r2, ', rmse:', rmse, ', mea:', mea)"
      ]
    },
    {
      "cell_type": "markdown",
      "id": "71c08c6b-8431-4f4b-a29a-d32607df7073",
      "metadata": {
        "id": "71c08c6b-8431-4f4b-a29a-d32607df7073"
      },
      "source": [
        "# Ada Boost"
      ]
    },
    {
      "cell_type": "code",
      "execution_count": null,
      "id": "b136db04-9aa5-4bd2-93fa-f93e91281269",
      "metadata": {
        "id": "b136db04-9aa5-4bd2-93fa-f93e91281269",
        "outputId": "9726d053-d7bd-4a86-d151-02beedcd6f36"
      },
      "outputs": [
        {
          "data": {
            "text/plain": [
              "0.38712433057988477"
            ]
          },
          "execution_count": 26,
          "metadata": {},
          "output_type": "execute_result"
        }
      ],
      "source": [
        "ab = AdaBoostRegressor(random_state=0, n_estimators=1000)\n",
        "cross_validate(ab, X_train_, y_train, cv=5, scoring='r2')['test_score'].mean()"
      ]
    },
    {
      "cell_type": "code",
      "execution_count": null,
      "id": "16b17da8-a40b-440a-8509-344627825cda",
      "metadata": {
        "id": "16b17da8-a40b-440a-8509-344627825cda",
        "outputId": "0a90c0bf-5ed9-4b7e-9fbf-029744f17379"
      },
      "outputs": [
        {
          "name": "stdout",
          "output_type": "stream",
          "text": [
            "r2: 0.44616326851819854 , rmse: 0.07046819424470518 , mea: 0.054769062654448905\n"
          ]
        }
      ],
      "source": [
        "ab.fit(X_train_, y_train)\n",
        "pred = ab.predict(X_test_)\n",
        "r2 = metrics.r2_score(y_test, pred)\n",
        "rmse = metrics.mean_squared_error(y_test, pred, squared=False)\n",
        "mea = metrics.mean_absolute_error(y_test, pred)\n",
        "print('r2:' , r2, ', rmse:', rmse, ', mea:', mea)"
      ]
    },
    {
      "cell_type": "markdown",
      "id": "bc048c78-5fcb-4a1c-aadd-7d2dd884bae1",
      "metadata": {
        "id": "bc048c78-5fcb-4a1c-aadd-7d2dd884bae1"
      },
      "source": [
        "# Neural Network"
      ]
    },
    {
      "cell_type": "code",
      "execution_count": null,
      "id": "a05cdcdf-4b19-4fe1-89dd-af63ee5583e2",
      "metadata": {
        "id": "a05cdcdf-4b19-4fe1-89dd-af63ee5583e2",
        "outputId": "dfbbc350-b4be-48b4-8667-c38c9b4b909b"
      },
      "outputs": [
        {
          "data": {
            "text/plain": [
              "0.23022104985566788"
            ]
          },
          "execution_count": 28,
          "metadata": {},
          "output_type": "execute_result"
        }
      ],
      "source": [
        "regr = MLPRegressor(random_state=1, max_iter=500).fit(X_train_, y_train)\n",
        "cross_validate(regr, X_train_, y_train, cv=5, scoring='r2')['test_score'].mean()"
      ]
    },
    {
      "cell_type": "markdown",
      "id": "9d20f8de-60c6-40ab-abaf-6d90e93789b2",
      "metadata": {
        "id": "9d20f8de-60c6-40ab-abaf-6d90e93789b2"
      },
      "source": [
        "# Nearest Neighbors"
      ]
    },
    {
      "cell_type": "code",
      "execution_count": null,
      "id": "a2f6f0e4-3c17-4273-8341-b5835e6b2d83",
      "metadata": {
        "id": "a2f6f0e4-3c17-4273-8341-b5835e6b2d83",
        "outputId": "899e5773-e540-4e43-c7c8-5d7e0f1ed6cb"
      },
      "outputs": [
        {
          "data": {
            "text/plain": [
              "0.3550725159285423"
            ]
          },
          "execution_count": 29,
          "metadata": {},
          "output_type": "execute_result"
        }
      ],
      "source": [
        "knn = neighbors.KNeighborsRegressor()\n",
        "cross_validate(knn, X_train_, y_train, cv=5, scoring='r2')['test_score'].mean()"
      ]
    },
    {
      "cell_type": "markdown",
      "id": "cfed334c-ffea-4465-96df-ab1ec92fb193",
      "metadata": {
        "id": "cfed334c-ffea-4465-96df-ab1ec92fb193"
      },
      "source": [
        "# Random Forest"
      ]
    },
    {
      "cell_type": "code",
      "execution_count": null,
      "id": "7a914c60-5778-4fec-ada4-44410fb3b3e9",
      "metadata": {
        "id": "7a914c60-5778-4fec-ada4-44410fb3b3e9",
        "outputId": "b981e9f9-beeb-4fb8-d2d5-c1dab6a5b876"
      },
      "outputs": [
        {
          "data": {
            "text/plain": [
              "0.5092167434515409"
            ]
          },
          "execution_count": 30,
          "metadata": {},
          "output_type": "execute_result"
        }
      ],
      "source": [
        "rfr = RandomForestRegressor(random_state=0)\n",
        "cross_validate(rfr, X_train_, y_train, cv=5, scoring='r2')['test_score'].mean()"
      ]
    },
    {
      "cell_type": "markdown",
      "id": "64fb93e3-c5fb-438e-9e3e-e49da6448e2c",
      "metadata": {
        "id": "64fb93e3-c5fb-438e-9e3e-e49da6448e2c"
      },
      "source": [
        "#### Improving Parameters"
      ]
    },
    {
      "cell_type": "code",
      "execution_count": null,
      "id": "9715f075-68a7-4ede-945a-8b21217f947f",
      "metadata": {
        "id": "9715f075-68a7-4ede-945a-8b21217f947f",
        "outputId": "7b0deca7-82e4-45ee-f039-96341d5d433d"
      },
      "outputs": [
        {
          "data": {
            "text/plain": [
              "0.5134900981877293"
            ]
          },
          "execution_count": 31,
          "metadata": {},
          "output_type": "execute_result"
        }
      ],
      "source": [
        "rfr = RandomForestRegressor(n_estimators=500, random_state=0)\n",
        "cross_validate(rfr, X_train_, y_train, cv=5, scoring='r2')['test_score'].mean()"
      ]
    },
    {
      "cell_type": "code",
      "execution_count": null,
      "id": "67a28a93-250b-4241-931d-039b09178fa1",
      "metadata": {
        "id": "67a28a93-250b-4241-931d-039b09178fa1",
        "outputId": "30ad4c33-795b-4ddd-c3ce-8facfaeb736f"
      },
      "outputs": [
        {
          "data": {
            "text/plain": [
              "0.5134900981877293"
            ]
          },
          "execution_count": 32,
          "metadata": {},
          "output_type": "execute_result"
        }
      ],
      "source": [
        "rfr = RandomForestRegressor(n_estimators=500, max_depth = 100, random_state=0)\n",
        "cross_validate(rfr, X_train_, y_train, cv=5, scoring='r2')['test_score'].mean()"
      ]
    },
    {
      "cell_type": "code",
      "execution_count": null,
      "id": "7dc42806-45ed-4484-8030-a4e2ef019e03",
      "metadata": {
        "id": "7dc42806-45ed-4484-8030-a4e2ef019e03",
        "outputId": "031bbd4f-0753-481f-b9c4-a99b22dd77d3"
      },
      "outputs": [
        {
          "data": {
            "text/plain": [
              "0.513890396118061"
            ]
          },
          "execution_count": 33,
          "metadata": {},
          "output_type": "execute_result"
        }
      ],
      "source": [
        "rfr = RandomForestRegressor(n_estimators=400, max_depth = 100, random_state=0)\n",
        "cross_validate(rfr, X_train_, y_train, cv=5, scoring='r2')['test_score'].mean()"
      ]
    },
    {
      "cell_type": "code",
      "execution_count": null,
      "id": "bde227a1-0e58-4789-bdf3-2cae09851aab",
      "metadata": {
        "id": "bde227a1-0e58-4789-bdf3-2cae09851aab",
        "outputId": "b4f254a8-cf0b-419f-a28e-860b715af8f1"
      },
      "outputs": [
        {
          "data": {
            "text/plain": [
              "0.5138625880811487"
            ]
          },
          "execution_count": 34,
          "metadata": {},
          "output_type": "execute_result"
        }
      ],
      "source": [
        "rfr = RandomForestRegressor(n_estimators=300, max_depth = 100, random_state=0)\n",
        "cross_validate(rfr, X_train_, y_train, cv=5, scoring='r2')['test_score'].mean()"
      ]
    },
    {
      "cell_type": "code",
      "execution_count": null,
      "id": "1986fb8c-cc54-4850-8f58-e7fc971366d4",
      "metadata": {
        "id": "1986fb8c-cc54-4850-8f58-e7fc971366d4",
        "outputId": "3c3f7ec4-3b0c-4f72-9135-6abc642f02fa"
      },
      "outputs": [
        {
          "data": {
            "text/plain": [
              "0.5138625880811487"
            ]
          },
          "execution_count": 35,
          "metadata": {},
          "output_type": "execute_result"
        }
      ],
      "source": [
        "rfr = RandomForestRegressor(n_estimators=300, max_depth = 100, random_state=0)\n",
        "cross_validate(rfr, X_train_, y_train, cv=5, scoring='r2')['test_score'].mean()"
      ]
    },
    {
      "cell_type": "code",
      "execution_count": null,
      "id": "f582f300-242e-452e-9d6a-d62b6ab0bef1",
      "metadata": {
        "id": "f582f300-242e-452e-9d6a-d62b6ab0bef1",
        "outputId": "3f8dc1cb-9755-49ca-b9ac-511446019b29"
      },
      "outputs": [
        {
          "name": "stdout",
          "output_type": "stream",
          "text": [
            "r2: 0.5872763140459787 , rmse: 0.06083198130889913 , mea: 0.04733056363710706\n"
          ]
        }
      ],
      "source": [
        "rfr.fit(X_train_, y_train)\n",
        "pred = rfr.predict(X_test_)\n",
        "r2 = metrics.r2_score(y_test, pred)\n",
        "rmse = metrics.mean_squared_error(y_test, pred, squared=False)\n",
        "mea = metrics.mean_absolute_error(y_test, pred)\n",
        "print('r2:' , r2, ', rmse:', rmse, ', mea:', mea)"
      ]
    },
    {
      "cell_type": "markdown",
      "id": "c3ed48cf-9d1f-4577-8cf0-216cdf77649a",
      "metadata": {
        "id": "c3ed48cf-9d1f-4577-8cf0-216cdf77649a"
      },
      "source": [
        "# Models Results Visualization"
      ]
    },
    {
      "cell_type": "code",
      "execution_count": null,
      "id": "04b32287-814a-4c7e-a31a-7e2eff47746a",
      "metadata": {
        "id": "04b32287-814a-4c7e-a31a-7e2eff47746a",
        "outputId": "489a8d19-c3d7-4d13-baa8-e01af9018cd6"
      },
      "outputs": [
        {
          "data": {
            "image/png": "[encoded data removed]",
            "text/plain": [
              "<Figure size 1080x432 with 1 Axes>"
            ]
          },
          "metadata": {
            "needs_background": "light"
          },
          "output_type": "display_data"
        }
      ],
      "source": [
        "#@title predicted vs actual\n",
        "\n",
        "import seaborn as sns\n",
        "import matplotlib.pyplot as plt\n",
        "\n",
        "plt.figure(figsize=(15, 6))\n",
        "sns.regplot(x = y_test, y = pred_gbr)\n",
        "plt.xlabel('predicted target')\n",
        "plt.ylabel('actual')\n",
        "plt.show()"
      ]
    },
    {
      "cell_type": "code",
      "execution_count": null,
      "id": "dc5e84ba-1e5c-4bc8-b309-8853eb81e211",
      "metadata": {
        "id": "dc5e84ba-1e5c-4bc8-b309-8853eb81e211"
      },
      "outputs": [],
      "source": [
        "explainer = shap.Explainer(gbr)\n",
        "shap_values = explainer(X_test)"
      ]
    },
    {
      "cell_type": "code",
      "execution_count": null,
      "id": "979295cb-edd8-40e2-8325-2f5de62225c6",
      "metadata": {
        "id": "979295cb-edd8-40e2-8325-2f5de62225c6",
        "outputId": "72376455-1503-4a75-9fe0-cd82d7be2d02"
      },
      "outputs": [
        {
          "data": {
            "image/png": "[encoded data removed]",
            "text/plain": [
              "<Figure size 576x468 with 1 Axes>"
            ]
          },
          "metadata": {},
          "output_type": "display_data"
        }
      ],
      "source": [
        "shap.plots.bar(shap_values, max_display=10) "
      ]
    },
    {
      "cell_type": "code",
      "execution_count": null,
      "id": "54c38342-c62e-49be-8fb0-4c26e4d10671",
      "metadata": {
        "id": "54c38342-c62e-49be-8fb0-4c26e4d10671",
        "outputId": "e0422352-32ad-453c-eddc-ad74230a1853"
      },
      "outputs": [
        {
          "data": {
            "image/png": "[encoded data removed]",
            "text/plain": [
              "<Figure size 576x468 with 1 Axes>"
            ]
          },
          "metadata": {},
          "output_type": "display_data"
        }
      ],
      "source": [
        "explainer = shap.Explainer(rfr)\n",
        "shap_values = explainer(X_test)\n",
        "shap.plots.bar(shap_values, max_display=10) "
      ]
    },
    {
      "cell_type": "code",
      "execution_count": null,
      "id": "72ff0b9e-4f52-4fd8-8752-1aba9a31341b",
      "metadata": {
        "id": "72ff0b9e-4f52-4fd8-8752-1aba9a31341b"
      },
      "outputs": [],
      "source": []
    }
  ],
  "metadata": {
    "kernelspec": {
      "display_name": "Python 3 (ipykernel)",
      "language": "python",
      "name": "python3"
    },
    "language_info": {
      "codemirror_mode": {
        "name": "ipython",
        "version": 3
      },
      "file_extension": ".py",
      "mimetype": "text/x-python",
      "name": "python",
      "nbconvert_exporter": "python",
      "pygments_lexer": "ipython3",
      "version": "3.9.12"
    },
    "colab": {
      "provenance": [],
      "include_colab_link": true
    }
  },
  "nbformat": 4,
  "nbformat_minor": 5
}